{
 "cells": [
  {
   "cell_type": "markdown",
   "metadata": {},
   "source": [
    "# A. Final Project 3 kelompok 3\n",
    "---\n",
    "### Anggota kelompok : <br>\n",
    "<ol>\n",
    "<li>Alif Faqiih             PYTN-KS12-024</li>\n",
    "<li>Syarif Khoirul Al Fian  PYTN-KS12-009</li>\n",
    "<li>Marcel Afandi           PYTN-KS12-018</li>\n",
    "<ol>\n"
   ]
  },
  {
   "cell_type": "markdown",
   "metadata": {},
   "source": [
    "# B. Library yang digunakan"
   ]
  },
  {
   "cell_type": "code",
   "execution_count": 78,
   "metadata": {},
   "outputs": [],
   "source": [
    "# For Load Data\n",
    "import pandas as pd\n",
    "import numpy as np\n",
    "\n",
    "# For Visualizing Data\n",
    "import matplotlib.pyplot as plt\n",
    "import seaborn as sns\n",
    "from sklearn.metrics import RocCurveDisplay\n",
    "\n",
    "# For Prepocessing Data \n",
    "from sklearn import preprocessing\n",
    "from sklearn.model_selection import train_test_split\n",
    "from sklearn.preprocessing import StandardScaler\n",
    "from collections import Counter\n",
    "from sklearn.datasets import make_classification\n",
    "\n",
    "\n",
    "# Classification Model \n",
    "from sklearn.linear_model import LogisticRegression\n",
    "from sklearn.svm import SVC\n",
    "from sklearn.neighbors import KNeighborsClassifier\n",
    "from sklearn.tree import DecisionTreeClassifier\n",
    "from sklearn.ensemble import RandomForestClassifier\n",
    "from sklearn.naive_bayes import GaussianNB\n",
    "import xgboost\n",
    "\n",
    "# For Evaluation Model \n",
    "from sklearn.metrics import classification_report\n",
    "from sklearn.metrics import confusion_matrix\n",
    "from mlxtend.plotting import plot_confusion_matrix\n",
    "from sklearn.metrics import roc_auc_score\n",
    "from sklearn.metrics import classification_report\n",
    "from sklearn.model_selection import cross_val_score\n",
    "from sklearn.metrics import accuracy_score, precision_score, recall_score, f1_score"
   ]
  },
  {
   "cell_type": "markdown",
   "metadata": {},
   "source": [
    "# C. Data Loading"
   ]
  },
  {
   "cell_type": "code",
   "execution_count": 79,
   "metadata": {},
   "outputs": [],
   "source": [
    "data = pd.read_csv('D:\\\\\\\\semester 6\\\\proakh\\\\data\\\\heart_failure_clinical_records_dataset.csv')"
   ]
  },
  {
   "cell_type": "code",
   "execution_count": 80,
   "metadata": {},
   "outputs": [
    {
     "data": {
      "text/html": [
       "<div>\n",
       "<style scoped>\n",
       "    .dataframe tbody tr th:only-of-type {\n",
       "        vertical-align: middle;\n",
       "    }\n",
       "\n",
       "    .dataframe tbody tr th {\n",
       "        vertical-align: top;\n",
       "    }\n",
       "\n",
       "    .dataframe thead th {\n",
       "        text-align: right;\n",
       "    }\n",
       "</style>\n",
       "<table border=\"1\" class=\"dataframe\">\n",
       "  <thead>\n",
       "    <tr style=\"text-align: right;\">\n",
       "      <th></th>\n",
       "      <th>age</th>\n",
       "      <th>anaemia</th>\n",
       "      <th>creatinine_phosphokinase</th>\n",
       "      <th>diabetes</th>\n",
       "      <th>ejection_fraction</th>\n",
       "      <th>high_blood_pressure</th>\n",
       "      <th>platelets</th>\n",
       "      <th>serum_creatinine</th>\n",
       "      <th>serum_sodium</th>\n",
       "      <th>sex</th>\n",
       "      <th>smoking</th>\n",
       "      <th>time</th>\n",
       "      <th>DEATH_EVENT</th>\n",
       "    </tr>\n",
       "  </thead>\n",
       "  <tbody>\n",
       "    <tr>\n",
       "      <th>0</th>\n",
       "      <td>75.0</td>\n",
       "      <td>0</td>\n",
       "      <td>582</td>\n",
       "      <td>0</td>\n",
       "      <td>20</td>\n",
       "      <td>1</td>\n",
       "      <td>265000.00</td>\n",
       "      <td>1.9</td>\n",
       "      <td>130</td>\n",
       "      <td>1</td>\n",
       "      <td>0</td>\n",
       "      <td>4</td>\n",
       "      <td>1</td>\n",
       "    </tr>\n",
       "    <tr>\n",
       "      <th>1</th>\n",
       "      <td>55.0</td>\n",
       "      <td>0</td>\n",
       "      <td>7861</td>\n",
       "      <td>0</td>\n",
       "      <td>38</td>\n",
       "      <td>0</td>\n",
       "      <td>263358.03</td>\n",
       "      <td>1.1</td>\n",
       "      <td>136</td>\n",
       "      <td>1</td>\n",
       "      <td>0</td>\n",
       "      <td>6</td>\n",
       "      <td>1</td>\n",
       "    </tr>\n",
       "    <tr>\n",
       "      <th>2</th>\n",
       "      <td>65.0</td>\n",
       "      <td>0</td>\n",
       "      <td>146</td>\n",
       "      <td>0</td>\n",
       "      <td>20</td>\n",
       "      <td>0</td>\n",
       "      <td>162000.00</td>\n",
       "      <td>1.3</td>\n",
       "      <td>129</td>\n",
       "      <td>1</td>\n",
       "      <td>1</td>\n",
       "      <td>7</td>\n",
       "      <td>1</td>\n",
       "    </tr>\n",
       "    <tr>\n",
       "      <th>3</th>\n",
       "      <td>50.0</td>\n",
       "      <td>1</td>\n",
       "      <td>111</td>\n",
       "      <td>0</td>\n",
       "      <td>20</td>\n",
       "      <td>0</td>\n",
       "      <td>210000.00</td>\n",
       "      <td>1.9</td>\n",
       "      <td>137</td>\n",
       "      <td>1</td>\n",
       "      <td>0</td>\n",
       "      <td>7</td>\n",
       "      <td>1</td>\n",
       "    </tr>\n",
       "    <tr>\n",
       "      <th>4</th>\n",
       "      <td>65.0</td>\n",
       "      <td>1</td>\n",
       "      <td>160</td>\n",
       "      <td>1</td>\n",
       "      <td>20</td>\n",
       "      <td>0</td>\n",
       "      <td>327000.00</td>\n",
       "      <td>2.7</td>\n",
       "      <td>116</td>\n",
       "      <td>0</td>\n",
       "      <td>0</td>\n",
       "      <td>8</td>\n",
       "      <td>1</td>\n",
       "    </tr>\n",
       "  </tbody>\n",
       "</table>\n",
       "</div>"
      ],
      "text/plain": [
       "    age  anaemia  creatinine_phosphokinase  diabetes  ejection_fraction  \\\n",
       "0  75.0        0                       582         0                 20   \n",
       "1  55.0        0                      7861         0                 38   \n",
       "2  65.0        0                       146         0                 20   \n",
       "3  50.0        1                       111         0                 20   \n",
       "4  65.0        1                       160         1                 20   \n",
       "\n",
       "   high_blood_pressure  platelets  serum_creatinine  serum_sodium  sex  \\\n",
       "0                    1  265000.00               1.9           130    1   \n",
       "1                    0  263358.03               1.1           136    1   \n",
       "2                    0  162000.00               1.3           129    1   \n",
       "3                    0  210000.00               1.9           137    1   \n",
       "4                    0  327000.00               2.7           116    0   \n",
       "\n",
       "   smoking  time  DEATH_EVENT  \n",
       "0        0     4            1  \n",
       "1        0     6            1  \n",
       "2        1     7            1  \n",
       "3        0     7            1  \n",
       "4        0     8            1  "
      ]
     },
     "execution_count": 80,
     "metadata": {},
     "output_type": "execute_result"
    }
   ],
   "source": [
    "data.head()"
   ]
  },
  {
   "cell_type": "code",
   "execution_count": 81,
   "metadata": {},
   "outputs": [
    {
     "data": {
      "text/html": [
       "<div>\n",
       "<style scoped>\n",
       "    .dataframe tbody tr th:only-of-type {\n",
       "        vertical-align: middle;\n",
       "    }\n",
       "\n",
       "    .dataframe tbody tr th {\n",
       "        vertical-align: top;\n",
       "    }\n",
       "\n",
       "    .dataframe thead th {\n",
       "        text-align: right;\n",
       "    }\n",
       "</style>\n",
       "<table border=\"1\" class=\"dataframe\">\n",
       "  <thead>\n",
       "    <tr style=\"text-align: right;\">\n",
       "      <th></th>\n",
       "      <th>age</th>\n",
       "      <th>anaemia</th>\n",
       "      <th>creatinine_phosphokinase</th>\n",
       "      <th>diabetes</th>\n",
       "      <th>ejection_fraction</th>\n",
       "      <th>high_blood_pressure</th>\n",
       "      <th>platelets</th>\n",
       "      <th>serum_creatinine</th>\n",
       "      <th>serum_sodium</th>\n",
       "      <th>sex</th>\n",
       "      <th>smoking</th>\n",
       "      <th>time</th>\n",
       "      <th>DEATH_EVENT</th>\n",
       "    </tr>\n",
       "  </thead>\n",
       "  <tbody>\n",
       "    <tr>\n",
       "      <th>294</th>\n",
       "      <td>62.0</td>\n",
       "      <td>0</td>\n",
       "      <td>61</td>\n",
       "      <td>1</td>\n",
       "      <td>38</td>\n",
       "      <td>1</td>\n",
       "      <td>155000.0</td>\n",
       "      <td>1.1</td>\n",
       "      <td>143</td>\n",
       "      <td>1</td>\n",
       "      <td>1</td>\n",
       "      <td>270</td>\n",
       "      <td>0</td>\n",
       "    </tr>\n",
       "    <tr>\n",
       "      <th>295</th>\n",
       "      <td>55.0</td>\n",
       "      <td>0</td>\n",
       "      <td>1820</td>\n",
       "      <td>0</td>\n",
       "      <td>38</td>\n",
       "      <td>0</td>\n",
       "      <td>270000.0</td>\n",
       "      <td>1.2</td>\n",
       "      <td>139</td>\n",
       "      <td>0</td>\n",
       "      <td>0</td>\n",
       "      <td>271</td>\n",
       "      <td>0</td>\n",
       "    </tr>\n",
       "    <tr>\n",
       "      <th>296</th>\n",
       "      <td>45.0</td>\n",
       "      <td>0</td>\n",
       "      <td>2060</td>\n",
       "      <td>1</td>\n",
       "      <td>60</td>\n",
       "      <td>0</td>\n",
       "      <td>742000.0</td>\n",
       "      <td>0.8</td>\n",
       "      <td>138</td>\n",
       "      <td>0</td>\n",
       "      <td>0</td>\n",
       "      <td>278</td>\n",
       "      <td>0</td>\n",
       "    </tr>\n",
       "    <tr>\n",
       "      <th>297</th>\n",
       "      <td>45.0</td>\n",
       "      <td>0</td>\n",
       "      <td>2413</td>\n",
       "      <td>0</td>\n",
       "      <td>38</td>\n",
       "      <td>0</td>\n",
       "      <td>140000.0</td>\n",
       "      <td>1.4</td>\n",
       "      <td>140</td>\n",
       "      <td>1</td>\n",
       "      <td>1</td>\n",
       "      <td>280</td>\n",
       "      <td>0</td>\n",
       "    </tr>\n",
       "    <tr>\n",
       "      <th>298</th>\n",
       "      <td>50.0</td>\n",
       "      <td>0</td>\n",
       "      <td>196</td>\n",
       "      <td>0</td>\n",
       "      <td>45</td>\n",
       "      <td>0</td>\n",
       "      <td>395000.0</td>\n",
       "      <td>1.6</td>\n",
       "      <td>136</td>\n",
       "      <td>1</td>\n",
       "      <td>1</td>\n",
       "      <td>285</td>\n",
       "      <td>0</td>\n",
       "    </tr>\n",
       "  </tbody>\n",
       "</table>\n",
       "</div>"
      ],
      "text/plain": [
       "      age  anaemia  creatinine_phosphokinase  diabetes  ejection_fraction  \\\n",
       "294  62.0        0                        61         1                 38   \n",
       "295  55.0        0                      1820         0                 38   \n",
       "296  45.0        0                      2060         1                 60   \n",
       "297  45.0        0                      2413         0                 38   \n",
       "298  50.0        0                       196         0                 45   \n",
       "\n",
       "     high_blood_pressure  platelets  serum_creatinine  serum_sodium  sex  \\\n",
       "294                    1   155000.0               1.1           143    1   \n",
       "295                    0   270000.0               1.2           139    0   \n",
       "296                    0   742000.0               0.8           138    0   \n",
       "297                    0   140000.0               1.4           140    1   \n",
       "298                    0   395000.0               1.6           136    1   \n",
       "\n",
       "     smoking  time  DEATH_EVENT  \n",
       "294        1   270            0  \n",
       "295        0   271            0  \n",
       "296        0   278            0  \n",
       "297        1   280            0  \n",
       "298        1   285            0  "
      ]
     },
     "execution_count": 81,
     "metadata": {},
     "output_type": "execute_result"
    }
   ],
   "source": [
    "data.tail()"
   ]
  },
  {
   "cell_type": "code",
   "execution_count": 82,
   "metadata": {},
   "outputs": [
    {
     "data": {
      "text/plain": [
       "(299, 13)"
      ]
     },
     "execution_count": 82,
     "metadata": {},
     "output_type": "execute_result"
    }
   ],
   "source": [
    "data.shape"
   ]
  },
  {
   "cell_type": "code",
   "execution_count": 83,
   "metadata": {},
   "outputs": [
    {
     "name": "stdout",
     "output_type": "stream",
     "text": [
      "<class 'pandas.core.frame.DataFrame'>\n",
      "RangeIndex: 299 entries, 0 to 298\n",
      "Data columns (total 13 columns):\n",
      " #   Column                    Non-Null Count  Dtype  \n",
      "---  ------                    --------------  -----  \n",
      " 0   age                       299 non-null    float64\n",
      " 1   anaemia                   299 non-null    int64  \n",
      " 2   creatinine_phosphokinase  299 non-null    int64  \n",
      " 3   diabetes                  299 non-null    int64  \n",
      " 4   ejection_fraction         299 non-null    int64  \n",
      " 5   high_blood_pressure       299 non-null    int64  \n",
      " 6   platelets                 299 non-null    float64\n",
      " 7   serum_creatinine          299 non-null    float64\n",
      " 8   serum_sodium              299 non-null    int64  \n",
      " 9   sex                       299 non-null    int64  \n",
      " 10  smoking                   299 non-null    int64  \n",
      " 11  time                      299 non-null    int64  \n",
      " 12  DEATH_EVENT               299 non-null    int64  \n",
      "dtypes: float64(3), int64(10)\n",
      "memory usage: 30.5 KB\n"
     ]
    }
   ],
   "source": [
    "data.info()"
   ]
  },
  {
   "cell_type": "markdown",
   "metadata": {},
   "source": [
    "# D. Data Cleaning"
   ]
  },
  {
   "cell_type": "code",
   "execution_count": 84,
   "metadata": {},
   "outputs": [
    {
     "data": {
      "text/plain": [
       "age                         0\n",
       "anaemia                     0\n",
       "creatinine_phosphokinase    0\n",
       "diabetes                    0\n",
       "ejection_fraction           0\n",
       "high_blood_pressure         0\n",
       "platelets                   0\n",
       "serum_creatinine            0\n",
       "serum_sodium                0\n",
       "sex                         0\n",
       "smoking                     0\n",
       "time                        0\n",
       "DEATH_EVENT                 0\n",
       "dtype: int64"
      ]
     },
     "execution_count": 84,
     "metadata": {},
     "output_type": "execute_result"
    }
   ],
   "source": [
    "data.isnull().sum()"
   ]
  },
  {
   "cell_type": "markdown",
   "metadata": {},
   "source": [
    "Kita bisa melihat semua data dan tidak ada Missing Value"
   ]
  },
  {
   "cell_type": "code",
   "execution_count": 85,
   "metadata": {},
   "outputs": [],
   "source": [
    "# Mengubah nama untuk memudahkan penyebutan\n",
    "data.rename(columns={'age':'Usia',\n",
    "                     'anaemia':'anemia',\n",
    "                     'high_blood_pressure':'hipertensi',\n",
    "                     'sex':'Gender',\n",
    "                     'smoking':'Perokok',\n",
    "                     'DEATH_EVENT':'Kematian'\n",
    "                    }, inplace=True)"
   ]
  },
  {
   "cell_type": "code",
   "execution_count": 86,
   "metadata": {},
   "outputs": [
    {
     "name": "stdout",
     "output_type": "stream",
     "text": [
      "Usia : \n",
      "[75.    55.    65.    50.    90.    60.    80.    62.    45.    49.\n",
      " 82.    87.    70.    48.    68.    53.    95.    58.    94.    85.\n",
      " 69.    72.    51.    57.    42.    41.    67.    79.    59.    44.\n",
      " 63.    86.    66.    43.    46.    61.    81.    52.    64.    40.\n",
      " 60.667 73.    77.    78.    54.    47.    56.   ]\n",
      "\n",
      " ############################################################ \n",
      "\n",
      "anemia : \n",
      "[0 1]\n",
      "\n",
      " ############################################################ \n",
      "\n",
      "creatinine_phosphokinase : \n",
      "[ 582 7861  146  111  160   47  246  315  157  123   81  231  981  168\n",
      "   80  379  149  125   52  128  220   63  148  112  122   60   70   23\n",
      "  249  159   94  855 2656  235  124  571  127  588 1380  553  129  577\n",
      "   91 3964   69  260  371   75  607  789  364 7702  318  109   68  250\n",
      "  110  161  113 5882  224   92  102  203  336   76   55  280   78   84\n",
      "  115   66  897  154  144  133  514   59  156   61  305  898 5209   53\n",
      "  328  748 1876  936  292  369  143  754  400   96  737  358  200  248\n",
      "  270 1808 1082  719  193 4540  646  281 1548  805  291  482  943  185\n",
      "  132 1610 2261  233   30 1846  335   58  910   72  130 2334 2442  776\n",
      "  196  835 3966  171  198   95 1419  478  176  395   99  145  104 1896\n",
      "  151  244   62  121  418  167 1211 1767  308   97   64  101  212 2281\n",
      "  972  131  135 1202  427 1021  118   86  675   57 2794   56  211  166\n",
      "   93  707  119  232  720  180   90 1185 2017  624  207 2522  572  245\n",
      "   88  446  191  326  655  258  298 1199  213  257  618 1051 2695 1688\n",
      "   54  170  253  892  337  615  320  190  103 1820 2060 2413]\n",
      "\n",
      " ############################################################ \n",
      "\n",
      "diabetes : \n",
      "[0 1]\n",
      "\n",
      " ############################################################ \n",
      "\n",
      "ejection_fraction : \n",
      "[20 38 40 15 60 65 35 25 30 50 14 55 45 62 80 17 70]\n",
      "\n",
      " ############################################################ \n",
      "\n",
      "hipertensi : \n",
      "[1 0]\n",
      "\n",
      " ############################################################ \n",
      "\n",
      "platelets : \n",
      "[265000.   263358.03 162000.   210000.   327000.   204000.   127000.\n",
      " 454000.   388000.   368000.   253000.   136000.   276000.   427000.\n",
      "  47000.   262000.   166000.   237000.    87000.   297000.   289000.\n",
      " 149000.   196000.   284000.   153000.   200000.   360000.   319000.\n",
      " 302000.   188000.   228000.   226000.   321000.   305000.   329000.\n",
      " 185000.   218000.   194000.   310000.   271000.   451000.   140000.\n",
      " 395000.   418000.   351000.   255000.   461000.   223000.   216000.\n",
      " 254000.   390000.   385000.   119000.   213000.   274000.   244000.\n",
      " 497000.   374000.   122000.   243000.   266000.   317000.   283000.\n",
      " 324000.   293000.   172000.   406000.   173000.   304000.   235000.\n",
      " 181000.   249000.   219000.   318000.   221000.   298000.   286000.\n",
      " 621000.   263000.   850000.   306000.   252000.   328000.   164000.\n",
      " 507000.   203000.   217000.   300000.   267000.   227000.   250000.\n",
      " 295000.   231000.   211000.   348000.   229000.   338000.   242000.\n",
      " 225000.   184000.   277000.   362000.   174000.   448000.    75000.\n",
      " 334000.   192000.   220000.    70000.   270000.   325000.   176000.\n",
      " 189000.   281000.   337000.   105000.   132000.   279000.   303000.\n",
      " 224000.   389000.   365000.   201000.   275000.   350000.   309000.\n",
      " 260000.   160000.   126000.   259000.    73000.   377000.   212000.\n",
      " 186000.   268000.   147000.   481000.   290000.   358000.   151000.\n",
      " 371000.   130000.   504000.   141000.    62000.   330000.   248000.\n",
      " 257000.   533000.   264000.   282000.   314000.   246000.   301000.\n",
      " 404000.   236000.   294000.   233000.   308000.   198000.   208000.\n",
      " 133000.   222000.   215000.   150000.   422000.    25100.   232000.\n",
      " 241000.    51000.   336000.   543000.   382000.   179000.   155000.\n",
      " 742000.  ]\n",
      "\n",
      " ############################################################ \n",
      "\n",
      "serum_creatinine : \n",
      "[1.9  1.1  1.3  2.7  2.1  1.2  1.5  9.4  4.   0.9  1.   0.8  1.6  1.83\n",
      " 5.8  3.   3.5  2.3  0.6  4.4  1.4  6.8  2.2  2.   1.18 2.9  0.7  1.7\n",
      " 2.5  1.8  3.2  0.75 3.7  3.4  6.1  2.4  9.   5.   0.5  3.8 ]\n",
      "\n",
      " ############################################################ \n",
      "\n",
      "serum_sodium : \n",
      "[130 136 129 137 116 132 131 138 133 140 127 121 135 134 144 128 145 142\n",
      " 139 146 141 143 126 124 113 125 148]\n",
      "\n",
      " ############################################################ \n",
      "\n",
      "Gender : \n",
      "[1 0]\n",
      "\n",
      " ############################################################ \n",
      "\n",
      "Perokok : \n",
      "[0 1]\n",
      "\n",
      " ############################################################ \n",
      "\n",
      "time : \n",
      "[  4   6   7   8  10  11  12  13  14  15  16  20  22  23  24  26  27  28\n",
      "  29  30  31  32  33  35  38  40  41  42  43  44  45  50  54  55  59  60\n",
      "  61  63  64  65  66  67  68  71  72  73  74  75  76  77  78  79  80  82\n",
      "  83  85  86  87  88  90  91  94  95  96  97 100 104 105 106 107 108 109\n",
      " 110 111 112 113 115 117 118 119 120 121 123 126 129 130 134 135 140 145\n",
      " 146 147 148 150 154 162 170 171 172 174 175 180 185 186 187 188 192 193\n",
      " 194 195 196 197 198 200 201 205 206 207 208 209 210 211 212 213 214 215\n",
      " 216 220 230 231 233 235 237 240 241 244 245 246 247 250 256 257 258 270\n",
      " 271 278 280 285]\n",
      "\n",
      " ############################################################ \n",
      "\n",
      "Kematian : \n",
      "[1 0]\n",
      "\n",
      " ############################################################ \n",
      "\n"
     ]
    }
   ],
   "source": [
    "for col in data.columns:\n",
    "    print(col, ': ')\n",
    "    print(data[col].unique())\n",
    "    print('\\n','#'*60,'\\n')"
   ]
  },
  {
   "cell_type": "markdown",
   "metadata": {},
   "source": [
    "Berdasarkan pengecekan diatas, tidak ada data invalid pada setiap atribut dataset"
   ]
  },
  {
   "cell_type": "markdown",
   "metadata": {},
   "source": [
    " # E. Explorating Data"
   ]
  },
  {
   "cell_type": "markdown",
   "metadata": {},
   "source": [
    "## 1. Data Query"
   ]
  },
  {
   "cell_type": "code",
   "execution_count": 93,
   "metadata": {},
   "outputs": [
    {
     "data": {
      "text/html": [
       "<div>\n",
       "<style scoped>\n",
       "    .dataframe tbody tr th:only-of-type {\n",
       "        vertical-align: middle;\n",
       "    }\n",
       "\n",
       "    .dataframe tbody tr th {\n",
       "        vertical-align: top;\n",
       "    }\n",
       "\n",
       "    .dataframe thead th {\n",
       "        text-align: right;\n",
       "    }\n",
       "</style>\n",
       "<table border=\"1\" class=\"dataframe\">\n",
       "  <thead>\n",
       "    <tr style=\"text-align: right;\">\n",
       "      <th></th>\n",
       "      <th>Usia</th>\n",
       "      <th>anemia</th>\n",
       "      <th>creatinine_phosphokinase</th>\n",
       "      <th>diabetes</th>\n",
       "      <th>ejection_fraction</th>\n",
       "      <th>hipertensi</th>\n",
       "      <th>platelets</th>\n",
       "      <th>serum_creatinine</th>\n",
       "      <th>serum_sodium</th>\n",
       "      <th>Gender</th>\n",
       "      <th>Perokok</th>\n",
       "      <th>time</th>\n",
       "      <th>Kematian</th>\n",
       "    </tr>\n",
       "  </thead>\n",
       "  <tbody>\n",
       "    <tr>\n",
       "      <th>0</th>\n",
       "      <td>75.0</td>\n",
       "      <td>0</td>\n",
       "      <td>582</td>\n",
       "      <td>0</td>\n",
       "      <td>20</td>\n",
       "      <td>1</td>\n",
       "      <td>265000.00</td>\n",
       "      <td>1.9</td>\n",
       "      <td>130</td>\n",
       "      <td>1</td>\n",
       "      <td>0</td>\n",
       "      <td>4</td>\n",
       "      <td>1</td>\n",
       "    </tr>\n",
       "    <tr>\n",
       "      <th>1</th>\n",
       "      <td>55.0</td>\n",
       "      <td>0</td>\n",
       "      <td>7861</td>\n",
       "      <td>0</td>\n",
       "      <td>38</td>\n",
       "      <td>0</td>\n",
       "      <td>263358.03</td>\n",
       "      <td>1.1</td>\n",
       "      <td>136</td>\n",
       "      <td>1</td>\n",
       "      <td>0</td>\n",
       "      <td>6</td>\n",
       "      <td>1</td>\n",
       "    </tr>\n",
       "    <tr>\n",
       "      <th>2</th>\n",
       "      <td>65.0</td>\n",
       "      <td>0</td>\n",
       "      <td>146</td>\n",
       "      <td>0</td>\n",
       "      <td>20</td>\n",
       "      <td>0</td>\n",
       "      <td>162000.00</td>\n",
       "      <td>1.3</td>\n",
       "      <td>129</td>\n",
       "      <td>1</td>\n",
       "      <td>1</td>\n",
       "      <td>7</td>\n",
       "      <td>1</td>\n",
       "    </tr>\n",
       "    <tr>\n",
       "      <th>3</th>\n",
       "      <td>50.0</td>\n",
       "      <td>1</td>\n",
       "      <td>111</td>\n",
       "      <td>0</td>\n",
       "      <td>20</td>\n",
       "      <td>0</td>\n",
       "      <td>210000.00</td>\n",
       "      <td>1.9</td>\n",
       "      <td>137</td>\n",
       "      <td>1</td>\n",
       "      <td>0</td>\n",
       "      <td>7</td>\n",
       "      <td>1</td>\n",
       "    </tr>\n",
       "    <tr>\n",
       "      <th>4</th>\n",
       "      <td>65.0</td>\n",
       "      <td>1</td>\n",
       "      <td>160</td>\n",
       "      <td>1</td>\n",
       "      <td>20</td>\n",
       "      <td>0</td>\n",
       "      <td>327000.00</td>\n",
       "      <td>2.7</td>\n",
       "      <td>116</td>\n",
       "      <td>0</td>\n",
       "      <td>0</td>\n",
       "      <td>8</td>\n",
       "      <td>1</td>\n",
       "    </tr>\n",
       "    <tr>\n",
       "      <th>...</th>\n",
       "      <td>...</td>\n",
       "      <td>...</td>\n",
       "      <td>...</td>\n",
       "      <td>...</td>\n",
       "      <td>...</td>\n",
       "      <td>...</td>\n",
       "      <td>...</td>\n",
       "      <td>...</td>\n",
       "      <td>...</td>\n",
       "      <td>...</td>\n",
       "      <td>...</td>\n",
       "      <td>...</td>\n",
       "      <td>...</td>\n",
       "    </tr>\n",
       "    <tr>\n",
       "      <th>294</th>\n",
       "      <td>62.0</td>\n",
       "      <td>0</td>\n",
       "      <td>61</td>\n",
       "      <td>1</td>\n",
       "      <td>38</td>\n",
       "      <td>1</td>\n",
       "      <td>155000.00</td>\n",
       "      <td>1.1</td>\n",
       "      <td>143</td>\n",
       "      <td>1</td>\n",
       "      <td>1</td>\n",
       "      <td>270</td>\n",
       "      <td>0</td>\n",
       "    </tr>\n",
       "    <tr>\n",
       "      <th>295</th>\n",
       "      <td>55.0</td>\n",
       "      <td>0</td>\n",
       "      <td>1820</td>\n",
       "      <td>0</td>\n",
       "      <td>38</td>\n",
       "      <td>0</td>\n",
       "      <td>270000.00</td>\n",
       "      <td>1.2</td>\n",
       "      <td>139</td>\n",
       "      <td>0</td>\n",
       "      <td>0</td>\n",
       "      <td>271</td>\n",
       "      <td>0</td>\n",
       "    </tr>\n",
       "    <tr>\n",
       "      <th>296</th>\n",
       "      <td>45.0</td>\n",
       "      <td>0</td>\n",
       "      <td>2060</td>\n",
       "      <td>1</td>\n",
       "      <td>60</td>\n",
       "      <td>0</td>\n",
       "      <td>742000.00</td>\n",
       "      <td>0.8</td>\n",
       "      <td>138</td>\n",
       "      <td>0</td>\n",
       "      <td>0</td>\n",
       "      <td>278</td>\n",
       "      <td>0</td>\n",
       "    </tr>\n",
       "    <tr>\n",
       "      <th>297</th>\n",
       "      <td>45.0</td>\n",
       "      <td>0</td>\n",
       "      <td>2413</td>\n",
       "      <td>0</td>\n",
       "      <td>38</td>\n",
       "      <td>0</td>\n",
       "      <td>140000.00</td>\n",
       "      <td>1.4</td>\n",
       "      <td>140</td>\n",
       "      <td>1</td>\n",
       "      <td>1</td>\n",
       "      <td>280</td>\n",
       "      <td>0</td>\n",
       "    </tr>\n",
       "    <tr>\n",
       "      <th>298</th>\n",
       "      <td>50.0</td>\n",
       "      <td>0</td>\n",
       "      <td>196</td>\n",
       "      <td>0</td>\n",
       "      <td>45</td>\n",
       "      <td>0</td>\n",
       "      <td>395000.00</td>\n",
       "      <td>1.6</td>\n",
       "      <td>136</td>\n",
       "      <td>1</td>\n",
       "      <td>1</td>\n",
       "      <td>285</td>\n",
       "      <td>0</td>\n",
       "    </tr>\n",
       "  </tbody>\n",
       "</table>\n",
       "<p>299 rows × 13 columns</p>\n",
       "</div>"
      ],
      "text/plain": [
       "     Usia  anemia  creatinine_phosphokinase  diabetes  ejection_fraction  \\\n",
       "0    75.0       0                       582         0                 20   \n",
       "1    55.0       0                      7861         0                 38   \n",
       "2    65.0       0                       146         0                 20   \n",
       "3    50.0       1                       111         0                 20   \n",
       "4    65.0       1                       160         1                 20   \n",
       "..    ...     ...                       ...       ...                ...   \n",
       "294  62.0       0                        61         1                 38   \n",
       "295  55.0       0                      1820         0                 38   \n",
       "296  45.0       0                      2060         1                 60   \n",
       "297  45.0       0                      2413         0                 38   \n",
       "298  50.0       0                       196         0                 45   \n",
       "\n",
       "     hipertensi  platelets  serum_creatinine  serum_sodium  Gender  Perokok  \\\n",
       "0             1  265000.00               1.9           130       1        0   \n",
       "1             0  263358.03               1.1           136       1        0   \n",
       "2             0  162000.00               1.3           129       1        1   \n",
       "3             0  210000.00               1.9           137       1        0   \n",
       "4             0  327000.00               2.7           116       0        0   \n",
       "..          ...        ...               ...           ...     ...      ...   \n",
       "294           1  155000.00               1.1           143       1        1   \n",
       "295           0  270000.00               1.2           139       0        0   \n",
       "296           0  742000.00               0.8           138       0        0   \n",
       "297           0  140000.00               1.4           140       1        1   \n",
       "298           0  395000.00               1.6           136       1        1   \n",
       "\n",
       "     time  Kematian  \n",
       "0       4         1  \n",
       "1       6         1  \n",
       "2       7         1  \n",
       "3       7         1  \n",
       "4       8         1  \n",
       "..    ...       ...  \n",
       "294   270         0  \n",
       "295   271         0  \n",
       "296   278         0  \n",
       "297   280         0  \n",
       "298   285         0  \n",
       "\n",
       "[299 rows x 13 columns]"
      ]
     },
     "execution_count": 93,
     "metadata": {},
     "output_type": "execute_result"
    }
   ],
   "source": [
    "df_EDA = data.copy()\n",
    "df_EDA"
   ]
  },
  {
   "cell_type": "code",
   "execution_count": 94,
   "metadata": {},
   "outputs": [
    {
     "data": {
      "text/html": [
       "<div>\n",
       "<style scoped>\n",
       "    .dataframe tbody tr th:only-of-type {\n",
       "        vertical-align: middle;\n",
       "    }\n",
       "\n",
       "    .dataframe tbody tr th {\n",
       "        vertical-align: top;\n",
       "    }\n",
       "\n",
       "    .dataframe thead th {\n",
       "        text-align: right;\n",
       "    }\n",
       "</style>\n",
       "<table border=\"1\" class=\"dataframe\">\n",
       "  <thead>\n",
       "    <tr style=\"text-align: right;\">\n",
       "      <th></th>\n",
       "      <th>Usia</th>\n",
       "      <th>anemia</th>\n",
       "      <th>creatinine_phosphokinase</th>\n",
       "      <th>diabetes</th>\n",
       "      <th>ejection_fraction</th>\n",
       "      <th>hipertensi</th>\n",
       "      <th>platelets</th>\n",
       "      <th>serum_creatinine</th>\n",
       "      <th>serum_sodium</th>\n",
       "      <th>Gender</th>\n",
       "      <th>Perokok</th>\n",
       "      <th>time</th>\n",
       "      <th>Kematian</th>\n",
       "    </tr>\n",
       "  </thead>\n",
       "  <tbody>\n",
       "    <tr>\n",
       "      <th>count</th>\n",
       "      <td>299.000000</td>\n",
       "      <td>299.000000</td>\n",
       "      <td>299.000000</td>\n",
       "      <td>299.000000</td>\n",
       "      <td>299.000000</td>\n",
       "      <td>299.000000</td>\n",
       "      <td>299.000000</td>\n",
       "      <td>299.00000</td>\n",
       "      <td>299.000000</td>\n",
       "      <td>299.000000</td>\n",
       "      <td>299.00000</td>\n",
       "      <td>299.000000</td>\n",
       "      <td>299.00000</td>\n",
       "    </tr>\n",
       "    <tr>\n",
       "      <th>mean</th>\n",
       "      <td>60.833893</td>\n",
       "      <td>0.431438</td>\n",
       "      <td>581.839465</td>\n",
       "      <td>0.418060</td>\n",
       "      <td>38.083612</td>\n",
       "      <td>0.351171</td>\n",
       "      <td>263358.029264</td>\n",
       "      <td>1.39388</td>\n",
       "      <td>136.625418</td>\n",
       "      <td>0.648829</td>\n",
       "      <td>0.32107</td>\n",
       "      <td>130.260870</td>\n",
       "      <td>0.32107</td>\n",
       "    </tr>\n",
       "    <tr>\n",
       "      <th>std</th>\n",
       "      <td>11.894809</td>\n",
       "      <td>0.496107</td>\n",
       "      <td>970.287881</td>\n",
       "      <td>0.494067</td>\n",
       "      <td>11.834841</td>\n",
       "      <td>0.478136</td>\n",
       "      <td>97804.236869</td>\n",
       "      <td>1.03451</td>\n",
       "      <td>4.412477</td>\n",
       "      <td>0.478136</td>\n",
       "      <td>0.46767</td>\n",
       "      <td>77.614208</td>\n",
       "      <td>0.46767</td>\n",
       "    </tr>\n",
       "    <tr>\n",
       "      <th>min</th>\n",
       "      <td>40.000000</td>\n",
       "      <td>0.000000</td>\n",
       "      <td>23.000000</td>\n",
       "      <td>0.000000</td>\n",
       "      <td>14.000000</td>\n",
       "      <td>0.000000</td>\n",
       "      <td>25100.000000</td>\n",
       "      <td>0.50000</td>\n",
       "      <td>113.000000</td>\n",
       "      <td>0.000000</td>\n",
       "      <td>0.00000</td>\n",
       "      <td>4.000000</td>\n",
       "      <td>0.00000</td>\n",
       "    </tr>\n",
       "    <tr>\n",
       "      <th>25%</th>\n",
       "      <td>51.000000</td>\n",
       "      <td>0.000000</td>\n",
       "      <td>116.500000</td>\n",
       "      <td>0.000000</td>\n",
       "      <td>30.000000</td>\n",
       "      <td>0.000000</td>\n",
       "      <td>212500.000000</td>\n",
       "      <td>0.90000</td>\n",
       "      <td>134.000000</td>\n",
       "      <td>0.000000</td>\n",
       "      <td>0.00000</td>\n",
       "      <td>73.000000</td>\n",
       "      <td>0.00000</td>\n",
       "    </tr>\n",
       "    <tr>\n",
       "      <th>50%</th>\n",
       "      <td>60.000000</td>\n",
       "      <td>0.000000</td>\n",
       "      <td>250.000000</td>\n",
       "      <td>0.000000</td>\n",
       "      <td>38.000000</td>\n",
       "      <td>0.000000</td>\n",
       "      <td>262000.000000</td>\n",
       "      <td>1.10000</td>\n",
       "      <td>137.000000</td>\n",
       "      <td>1.000000</td>\n",
       "      <td>0.00000</td>\n",
       "      <td>115.000000</td>\n",
       "      <td>0.00000</td>\n",
       "    </tr>\n",
       "    <tr>\n",
       "      <th>75%</th>\n",
       "      <td>70.000000</td>\n",
       "      <td>1.000000</td>\n",
       "      <td>582.000000</td>\n",
       "      <td>1.000000</td>\n",
       "      <td>45.000000</td>\n",
       "      <td>1.000000</td>\n",
       "      <td>303500.000000</td>\n",
       "      <td>1.40000</td>\n",
       "      <td>140.000000</td>\n",
       "      <td>1.000000</td>\n",
       "      <td>1.00000</td>\n",
       "      <td>203.000000</td>\n",
       "      <td>1.00000</td>\n",
       "    </tr>\n",
       "    <tr>\n",
       "      <th>max</th>\n",
       "      <td>95.000000</td>\n",
       "      <td>1.000000</td>\n",
       "      <td>7861.000000</td>\n",
       "      <td>1.000000</td>\n",
       "      <td>80.000000</td>\n",
       "      <td>1.000000</td>\n",
       "      <td>850000.000000</td>\n",
       "      <td>9.40000</td>\n",
       "      <td>148.000000</td>\n",
       "      <td>1.000000</td>\n",
       "      <td>1.00000</td>\n",
       "      <td>285.000000</td>\n",
       "      <td>1.00000</td>\n",
       "    </tr>\n",
       "  </tbody>\n",
       "</table>\n",
       "</div>"
      ],
      "text/plain": [
       "             Usia      anemia  creatinine_phosphokinase    diabetes  \\\n",
       "count  299.000000  299.000000                299.000000  299.000000   \n",
       "mean    60.833893    0.431438                581.839465    0.418060   \n",
       "std     11.894809    0.496107                970.287881    0.494067   \n",
       "min     40.000000    0.000000                 23.000000    0.000000   \n",
       "25%     51.000000    0.000000                116.500000    0.000000   \n",
       "50%     60.000000    0.000000                250.000000    0.000000   \n",
       "75%     70.000000    1.000000                582.000000    1.000000   \n",
       "max     95.000000    1.000000               7861.000000    1.000000   \n",
       "\n",
       "       ejection_fraction  hipertensi      platelets  serum_creatinine  \\\n",
       "count         299.000000  299.000000     299.000000         299.00000   \n",
       "mean           38.083612    0.351171  263358.029264           1.39388   \n",
       "std            11.834841    0.478136   97804.236869           1.03451   \n",
       "min            14.000000    0.000000   25100.000000           0.50000   \n",
       "25%            30.000000    0.000000  212500.000000           0.90000   \n",
       "50%            38.000000    0.000000  262000.000000           1.10000   \n",
       "75%            45.000000    1.000000  303500.000000           1.40000   \n",
       "max            80.000000    1.000000  850000.000000           9.40000   \n",
       "\n",
       "       serum_sodium      Gender    Perokok        time   Kematian  \n",
       "count    299.000000  299.000000  299.00000  299.000000  299.00000  \n",
       "mean     136.625418    0.648829    0.32107  130.260870    0.32107  \n",
       "std        4.412477    0.478136    0.46767   77.614208    0.46767  \n",
       "min      113.000000    0.000000    0.00000    4.000000    0.00000  \n",
       "25%      134.000000    0.000000    0.00000   73.000000    0.00000  \n",
       "50%      137.000000    1.000000    0.00000  115.000000    0.00000  \n",
       "75%      140.000000    1.000000    1.00000  203.000000    1.00000  \n",
       "max      148.000000    1.000000    1.00000  285.000000    1.00000  "
      ]
     },
     "execution_count": 94,
     "metadata": {},
     "output_type": "execute_result"
    }
   ],
   "source": [
    "df_EDA.describe()"
   ]
  },
  {
   "cell_type": "code",
   "execution_count": 95,
   "metadata": {},
   "outputs": [],
   "source": [
    "df_EDA[\"Gender\"] = np.where(df_EDA[\"Gender\"] < 1, \"Female\", \"Male\")"
   ]
  },
  {
   "cell_type": "code",
   "execution_count": 96,
   "metadata": {},
   "outputs": [
    {
     "name": "stdout",
     "output_type": "stream",
     "text": [
      "Usia [75.    55.    65.    50.    90.    60.    80.    62.    45.    49.\n",
      " 82.    87.    70.    48.    68.    53.    95.    58.    94.    85.\n",
      " 69.    72.    51.    57.    42.    41.    67.    79.    59.    44.\n",
      " 63.    86.    66.    43.    46.    61.    81.    52.    64.    40.\n",
      " 60.667 73.    77.    78.    54.    47.    56.   ]\n",
      "anemia [0 1]\n",
      "creatinine_phosphokinase [ 582 7861  146  111  160   47  246  315  157  123   81  231  981  168\n",
      "   80  379  149  125   52  128  220   63  148  112  122   60   70   23\n",
      "  249  159   94  855 2656  235  124  571  127  588 1380  553  129  577\n",
      "   91 3964   69  260  371   75  607  789  364 7702  318  109   68  250\n",
      "  110  161  113 5882  224   92  102  203  336   76   55  280   78   84\n",
      "  115   66  897  154  144  133  514   59  156   61  305  898 5209   53\n",
      "  328  748 1876  936  292  369  143  754  400   96  737  358  200  248\n",
      "  270 1808 1082  719  193 4540  646  281 1548  805  291  482  943  185\n",
      "  132 1610 2261  233   30 1846  335   58  910   72  130 2334 2442  776\n",
      "  196  835 3966  171  198   95 1419  478  176  395   99  145  104 1896\n",
      "  151  244   62  121  418  167 1211 1767  308   97   64  101  212 2281\n",
      "  972  131  135 1202  427 1021  118   86  675   57 2794   56  211  166\n",
      "   93  707  119  232  720  180   90 1185 2017  624  207 2522  572  245\n",
      "   88  446  191  326  655  258  298 1199  213  257  618 1051 2695 1688\n",
      "   54  170  253  892  337  615  320  190  103 1820 2060 2413]\n",
      "diabetes [0 1]\n",
      "ejection_fraction [20 38 40 15 60 65 35 25 30 50 14 55 45 62 80 17 70]\n",
      "hipertensi [1 0]\n",
      "platelets [265000.   263358.03 162000.   210000.   327000.   204000.   127000.\n",
      " 454000.   388000.   368000.   253000.   136000.   276000.   427000.\n",
      "  47000.   262000.   166000.   237000.    87000.   297000.   289000.\n",
      " 149000.   196000.   284000.   153000.   200000.   360000.   319000.\n",
      " 302000.   188000.   228000.   226000.   321000.   305000.   329000.\n",
      " 185000.   218000.   194000.   310000.   271000.   451000.   140000.\n",
      " 395000.   418000.   351000.   255000.   461000.   223000.   216000.\n",
      " 254000.   390000.   385000.   119000.   213000.   274000.   244000.\n",
      " 497000.   374000.   122000.   243000.   266000.   317000.   283000.\n",
      " 324000.   293000.   172000.   406000.   173000.   304000.   235000.\n",
      " 181000.   249000.   219000.   318000.   221000.   298000.   286000.\n",
      " 621000.   263000.   850000.   306000.   252000.   328000.   164000.\n",
      " 507000.   203000.   217000.   300000.   267000.   227000.   250000.\n",
      " 295000.   231000.   211000.   348000.   229000.   338000.   242000.\n",
      " 225000.   184000.   277000.   362000.   174000.   448000.    75000.\n",
      " 334000.   192000.   220000.    70000.   270000.   325000.   176000.\n",
      " 189000.   281000.   337000.   105000.   132000.   279000.   303000.\n",
      " 224000.   389000.   365000.   201000.   275000.   350000.   309000.\n",
      " 260000.   160000.   126000.   259000.    73000.   377000.   212000.\n",
      " 186000.   268000.   147000.   481000.   290000.   358000.   151000.\n",
      " 371000.   130000.   504000.   141000.    62000.   330000.   248000.\n",
      " 257000.   533000.   264000.   282000.   314000.   246000.   301000.\n",
      " 404000.   236000.   294000.   233000.   308000.   198000.   208000.\n",
      " 133000.   222000.   215000.   150000.   422000.    25100.   232000.\n",
      " 241000.    51000.   336000.   543000.   382000.   179000.   155000.\n",
      " 742000.  ]\n",
      "serum_creatinine [1.9  1.1  1.3  2.7  2.1  1.2  1.5  9.4  4.   0.9  1.   0.8  1.6  1.83\n",
      " 5.8  3.   3.5  2.3  0.6  4.4  1.4  6.8  2.2  2.   1.18 2.9  0.7  1.7\n",
      " 2.5  1.8  3.2  0.75 3.7  3.4  6.1  2.4  9.   5.   0.5  3.8 ]\n",
      "serum_sodium [130 136 129 137 116 132 131 138 133 140 127 121 135 134 144 128 145 142\n",
      " 139 146 141 143 126 124 113 125 148]\n",
      "Gender ['Male' 'Female']\n",
      "Perokok [0 1]\n",
      "time [  4   6   7   8  10  11  12  13  14  15  16  20  22  23  24  26  27  28\n",
      "  29  30  31  32  33  35  38  40  41  42  43  44  45  50  54  55  59  60\n",
      "  61  63  64  65  66  67  68  71  72  73  74  75  76  77  78  79  80  82\n",
      "  83  85  86  87  88  90  91  94  95  96  97 100 104 105 106 107 108 109\n",
      " 110 111 112 113 115 117 118 119 120 121 123 126 129 130 134 135 140 145\n",
      " 146 147 148 150 154 162 170 171 172 174 175 180 185 186 187 188 192 193\n",
      " 194 195 196 197 198 200 201 205 206 207 208 209 210 211 212 213 214 215\n",
      " 216 220 230 231 233 235 237 240 241 244 245 246 247 250 256 257 258 270\n",
      " 271 278 280 285]\n",
      "Kematian [1 0]\n"
     ]
    }
   ],
   "source": [
    "for col in df_EDA.columns:\n",
    "    print(format(col),df_EDA[col].unique())"
   ]
  },
  {
   "cell_type": "code",
   "execution_count": 99,
   "metadata": {},
   "outputs": [
    {
     "ename": "TypeError",
     "evalue": "'numpy.int64' object is not callable",
     "output_type": "error",
     "traceback": [
      "\u001b[1;31m---------------------------------------------------------------------------\u001b[0m",
      "\u001b[1;31mTypeError\u001b[0m                                 Traceback (most recent call last)",
      "\u001b[1;32md:\\semester 6\\proakh\\project akhir 1\\PYTN_KampusMerdeka_FP3_MarcelAfandi.ipynb Cell 22'\u001b[0m in \u001b[0;36m<cell line: 3>\u001b[1;34m()\u001b[0m\n\u001b[0;32m      <a href='vscode-notebook-cell:/d%3A/semester%206/proakh/project%20akhir%201/PYTN_KampusMerdeka_FP3_MarcelAfandi.ipynb#X30sZmlsZQ%3D%3D?line=1'>2</a>\u001b[0m change \u001b[39m=\u001b[39m {\u001b[39m0\u001b[39m:\u001b[39m\"\u001b[39m\u001b[39mNo\u001b[39m\u001b[39m\"\u001b[39m, \u001b[39m1\u001b[39m:\u001b[39m\"\u001b[39m\u001b[39mYes\u001b[39m\u001b[39m\"\u001b[39m}\n\u001b[0;32m      <a href='vscode-notebook-cell:/d%3A/semester%206/proakh/project%20akhir%201/PYTN_KampusMerdeka_FP3_MarcelAfandi.ipynb#X30sZmlsZQ%3D%3D?line=2'>3</a>\u001b[0m \u001b[39mfor\u001b[39;00m col \u001b[39min\u001b[39;00m categoricals :\n\u001b[1;32m----> <a href='vscode-notebook-cell:/d%3A/semester%206/proakh/project%20akhir%201/PYTN_KampusMerdeka_FP3_MarcelAfandi.ipynb#X30sZmlsZQ%3D%3D?line=3'>4</a>\u001b[0m     \u001b[39mfor\u001b[39;00m i \u001b[39min\u001b[39;00m \u001b[39mrange\u001b[39;49m(\u001b[39m298\u001b[39;49m):\n\u001b[0;32m      <a href='vscode-notebook-cell:/d%3A/semester%206/proakh/project%20akhir%201/PYTN_KampusMerdeka_FP3_MarcelAfandi.ipynb#X30sZmlsZQ%3D%3D?line=4'>5</a>\u001b[0m         df_EDA\u001b[39m.\u001b[39mloc[i,col]\u001b[39m=\u001b[39mchange[df_EDA\u001b[39m.\u001b[39mloc[i,col]]\n\u001b[0;32m      <a href='vscode-notebook-cell:/d%3A/semester%206/proakh/project%20akhir%201/PYTN_KampusMerdeka_FP3_MarcelAfandi.ipynb#X30sZmlsZQ%3D%3D?line=5'>6</a>\u001b[0m \u001b[39mfor\u001b[39;00m col \u001b[39min\u001b[39;00m df_EDA\u001b[39m.\u001b[39mcolumns:\n",
      "\u001b[1;31mTypeError\u001b[0m: 'numpy.int64' object is not callable"
     ]
    }
   ],
   "source": [
    "categoricals=['anemia','diabetes','hipertensi','Perokok', 'Kematian']\n",
    "change = {0:\"No\", 1:\"Yes\"}\n",
    "for col in categoricals :\n",
    "    for i in range(299):\n",
    "        df_EDA.loc[i,col]=change[df_EDA.loc[i,col]]\n",
    "for col in df_EDA.columns:\n",
    "    print(format(col),df_EDA[col].unique())"
   ]
  },
  {
   "cell_type": "code",
   "execution_count": 98,
   "metadata": {},
   "outputs": [
    {
     "data": {
      "text/html": [
       "<div>\n",
       "<style scoped>\n",
       "    .dataframe tbody tr th:only-of-type {\n",
       "        vertical-align: middle;\n",
       "    }\n",
       "\n",
       "    .dataframe tbody tr th {\n",
       "        vertical-align: top;\n",
       "    }\n",
       "\n",
       "    .dataframe thead th {\n",
       "        text-align: right;\n",
       "    }\n",
       "</style>\n",
       "<table border=\"1\" class=\"dataframe\">\n",
       "  <thead>\n",
       "    <tr style=\"text-align: right;\">\n",
       "      <th></th>\n",
       "      <th>Usia</th>\n",
       "      <th>anemia</th>\n",
       "      <th>creatinine_phosphokinase</th>\n",
       "      <th>diabetes</th>\n",
       "      <th>ejection_fraction</th>\n",
       "      <th>hipertensi</th>\n",
       "      <th>platelets</th>\n",
       "      <th>serum_creatinine</th>\n",
       "      <th>serum_sodium</th>\n",
       "      <th>Gender</th>\n",
       "      <th>Perokok</th>\n",
       "      <th>time</th>\n",
       "      <th>Kematian</th>\n",
       "    </tr>\n",
       "  </thead>\n",
       "  <tbody>\n",
       "    <tr>\n",
       "      <th>count</th>\n",
       "      <td>299.0</td>\n",
       "      <td>299</td>\n",
       "      <td>299</td>\n",
       "      <td>299</td>\n",
       "      <td>299</td>\n",
       "      <td>299</td>\n",
       "      <td>299.00</td>\n",
       "      <td>299.0</td>\n",
       "      <td>299</td>\n",
       "      <td>299</td>\n",
       "      <td>299</td>\n",
       "      <td>299</td>\n",
       "      <td>299</td>\n",
       "    </tr>\n",
       "    <tr>\n",
       "      <th>unique</th>\n",
       "      <td>47.0</td>\n",
       "      <td>2</td>\n",
       "      <td>208</td>\n",
       "      <td>2</td>\n",
       "      <td>17</td>\n",
       "      <td>2</td>\n",
       "      <td>176.00</td>\n",
       "      <td>40.0</td>\n",
       "      <td>27</td>\n",
       "      <td>2</td>\n",
       "      <td>2</td>\n",
       "      <td>148</td>\n",
       "      <td>2</td>\n",
       "    </tr>\n",
       "    <tr>\n",
       "      <th>top</th>\n",
       "      <td>60.0</td>\n",
       "      <td>0</td>\n",
       "      <td>582</td>\n",
       "      <td>0</td>\n",
       "      <td>35</td>\n",
       "      <td>0</td>\n",
       "      <td>263358.03</td>\n",
       "      <td>1.0</td>\n",
       "      <td>136</td>\n",
       "      <td>Male</td>\n",
       "      <td>0</td>\n",
       "      <td>250</td>\n",
       "      <td>0</td>\n",
       "    </tr>\n",
       "    <tr>\n",
       "      <th>freq</th>\n",
       "      <td>33.0</td>\n",
       "      <td>170</td>\n",
       "      <td>47</td>\n",
       "      <td>174</td>\n",
       "      <td>49</td>\n",
       "      <td>194</td>\n",
       "      <td>25.00</td>\n",
       "      <td>50.0</td>\n",
       "      <td>40</td>\n",
       "      <td>194</td>\n",
       "      <td>203</td>\n",
       "      <td>7</td>\n",
       "      <td>203</td>\n",
       "    </tr>\n",
       "  </tbody>\n",
       "</table>\n",
       "</div>"
      ],
      "text/plain": [
       "         Usia  anemia  creatinine_phosphokinase  diabetes  ejection_fraction  \\\n",
       "count   299.0     299                       299       299                299   \n",
       "unique   47.0       2                       208         2                 17   \n",
       "top      60.0       0                       582         0                 35   \n",
       "freq     33.0     170                        47       174                 49   \n",
       "\n",
       "        hipertensi  platelets  serum_creatinine  serum_sodium Gender  Perokok  \\\n",
       "count          299     299.00             299.0           299    299      299   \n",
       "unique           2     176.00              40.0            27      2        2   \n",
       "top              0  263358.03               1.0           136   Male        0   \n",
       "freq           194      25.00              50.0            40    194      203   \n",
       "\n",
       "        time  Kematian  \n",
       "count    299       299  \n",
       "unique   148         2  \n",
       "top      250         0  \n",
       "freq       7       203  "
      ]
     },
     "execution_count": 98,
     "metadata": {},
     "output_type": "execute_result"
    }
   ],
   "source": [
    "# Melihat statistika deskriptif dari data menggunakan fungsi describe()\n",
    "df_EDA.astype('category').describe()"
   ]
  },
  {
   "cell_type": "markdown",
   "metadata": {},
   "source": [
    "## 2. Variability"
   ]
  },
  {
   "cell_type": "code",
   "execution_count": null,
   "metadata": {},
   "outputs": [
    {
     "name": "stdout",
     "output_type": "stream",
     "text": [
      "Variance dari Kematian:  0.21871562927880403\n",
      "Standard Deviasi dari Kematian:  0.46767042805677167\n",
      "Skewness:  0.7703488154389491\n",
      "Range:  1\n"
     ]
    }
   ],
   "source": [
    "# Variance\n",
    "var = np.var(data['Kematian'], ddof=1)\n",
    "print(\"Variance dari Kematian: \", var)\n",
    "# Standard Deviation\n",
    "std = np.std(data['Kematian'], ddof=1)\n",
    "print(\"Standard Deviasi dari Kematian: \", std)\n",
    "# Skewness\n",
    "s = data['Kematian']\n",
    "s.skew()\n",
    "print(\"Skewness: \", s.skew())\n",
    "# Ranges\n",
    "range = np.ptp(s)\n",
    "print(\"Range: \", range)"
   ]
  },
  {
   "cell_type": "markdown",
   "metadata": {},
   "source": [
    "## 3. Central Tendency"
   ]
  },
  {
   "cell_type": "code",
   "execution_count": null,
   "metadata": {},
   "outputs": [
    {
     "data": {
      "text/html": [
       "<div>\n",
       "<style scoped>\n",
       "    .dataframe tbody tr th:only-of-type {\n",
       "        vertical-align: middle;\n",
       "    }\n",
       "\n",
       "    .dataframe tbody tr th {\n",
       "        vertical-align: top;\n",
       "    }\n",
       "\n",
       "    .dataframe thead th {\n",
       "        text-align: right;\n",
       "    }\n",
       "</style>\n",
       "<table border=\"1\" class=\"dataframe\">\n",
       "  <thead>\n",
       "    <tr style=\"text-align: right;\">\n",
       "      <th></th>\n",
       "      <th>Usia</th>\n",
       "      <th>anemia</th>\n",
       "      <th>creatinine_phosphokinase</th>\n",
       "      <th>diabetes</th>\n",
       "      <th>ejection_fraction</th>\n",
       "      <th>hipertensi</th>\n",
       "      <th>platelets</th>\n",
       "      <th>serum_creatinine</th>\n",
       "      <th>serum_sodium</th>\n",
       "      <th>Gender</th>\n",
       "      <th>Perokok</th>\n",
       "      <th>time</th>\n",
       "      <th>Kematian</th>\n",
       "    </tr>\n",
       "  </thead>\n",
       "  <tbody>\n",
       "    <tr>\n",
       "      <th>294</th>\n",
       "      <td>62.0</td>\n",
       "      <td>0</td>\n",
       "      <td>61</td>\n",
       "      <td>1</td>\n",
       "      <td>38</td>\n",
       "      <td>1</td>\n",
       "      <td>155000.0</td>\n",
       "      <td>1.1</td>\n",
       "      <td>143</td>\n",
       "      <td>1</td>\n",
       "      <td>1</td>\n",
       "      <td>270</td>\n",
       "      <td>0</td>\n",
       "    </tr>\n",
       "    <tr>\n",
       "      <th>295</th>\n",
       "      <td>55.0</td>\n",
       "      <td>0</td>\n",
       "      <td>1820</td>\n",
       "      <td>0</td>\n",
       "      <td>38</td>\n",
       "      <td>0</td>\n",
       "      <td>270000.0</td>\n",
       "      <td>1.2</td>\n",
       "      <td>139</td>\n",
       "      <td>0</td>\n",
       "      <td>0</td>\n",
       "      <td>271</td>\n",
       "      <td>0</td>\n",
       "    </tr>\n",
       "    <tr>\n",
       "      <th>296</th>\n",
       "      <td>45.0</td>\n",
       "      <td>0</td>\n",
       "      <td>2060</td>\n",
       "      <td>1</td>\n",
       "      <td>60</td>\n",
       "      <td>0</td>\n",
       "      <td>742000.0</td>\n",
       "      <td>0.8</td>\n",
       "      <td>138</td>\n",
       "      <td>0</td>\n",
       "      <td>0</td>\n",
       "      <td>278</td>\n",
       "      <td>0</td>\n",
       "    </tr>\n",
       "    <tr>\n",
       "      <th>297</th>\n",
       "      <td>45.0</td>\n",
       "      <td>0</td>\n",
       "      <td>2413</td>\n",
       "      <td>0</td>\n",
       "      <td>38</td>\n",
       "      <td>0</td>\n",
       "      <td>140000.0</td>\n",
       "      <td>1.4</td>\n",
       "      <td>140</td>\n",
       "      <td>1</td>\n",
       "      <td>1</td>\n",
       "      <td>280</td>\n",
       "      <td>0</td>\n",
       "    </tr>\n",
       "    <tr>\n",
       "      <th>298</th>\n",
       "      <td>50.0</td>\n",
       "      <td>0</td>\n",
       "      <td>196</td>\n",
       "      <td>0</td>\n",
       "      <td>45</td>\n",
       "      <td>0</td>\n",
       "      <td>395000.0</td>\n",
       "      <td>1.6</td>\n",
       "      <td>136</td>\n",
       "      <td>1</td>\n",
       "      <td>1</td>\n",
       "      <td>285</td>\n",
       "      <td>0</td>\n",
       "    </tr>\n",
       "  </tbody>\n",
       "</table>\n",
       "</div>"
      ],
      "text/plain": [
       "     Usia  anemia  creatinine_phosphokinase  diabetes  ejection_fraction  \\\n",
       "294  62.0       0                        61         1                 38   \n",
       "295  55.0       0                      1820         0                 38   \n",
       "296  45.0       0                      2060         1                 60   \n",
       "297  45.0       0                      2413         0                 38   \n",
       "298  50.0       0                       196         0                 45   \n",
       "\n",
       "     hipertensi  platelets  serum_creatinine  serum_sodium  Gender  Perokok  \\\n",
       "294           1   155000.0               1.1           143       1        1   \n",
       "295           0   270000.0               1.2           139       0        0   \n",
       "296           0   742000.0               0.8           138       0        0   \n",
       "297           0   140000.0               1.4           140       1        1   \n",
       "298           0   395000.0               1.6           136       1        1   \n",
       "\n",
       "     time  Kematian  \n",
       "294   270         0  \n",
       "295   271         0  \n",
       "296   278         0  \n",
       "297   280         0  \n",
       "298   285         0  "
      ]
     },
     "execution_count": 17,
     "metadata": {},
     "output_type": "execute_result"
    }
   ],
   "source": [
    "data.tail()"
   ]
  },
  {
   "cell_type": "code",
   "execution_count": null,
   "metadata": {},
   "outputs": [
    {
     "name": "stdout",
     "output_type": "stream",
     "text": [
      "60.83389297658862\n",
      "115.0\n",
      "0    263358.03\n",
      "Name: platelets, dtype: float64\n"
     ]
    }
   ],
   "source": [
    "# Mencari Nilai Rata-rata dari Kematian\n",
    "mean = data['Usia'].mean()\n",
    "print(mean)\n",
    "# Mencari Nilai Tengah dari time\n",
    "median = data['time'].median()\n",
    "print(median)\n",
    "# Mencari nilai modus dari Usia\n",
    "mode = data['platelets'].mode()\n",
    "print(mode)"
   ]
  },
  {
   "cell_type": "markdown",
   "metadata": {},
   "source": [
    "## 4. Visualisasi Data"
   ]
  },
  {
   "cell_type": "code",
   "execution_count": null,
   "metadata": {},
   "outputs": [],
   "source": [
    "# Mengatur Label, order dan color\n",
    "labels=['Female', 'Male']\n",
    "order=data['Gender'].value_counts().index\n",
    "color = ('#365c8d', '#1fa187')"
   ]
  },
  {
   "cell_type": "code",
   "execution_count": null,
   "metadata": {},
   "outputs": [
    {
     "data": {
      "image/png": "[encoded data removed]",
      "text/plain": [
       "<Figure size 720x432 with 1 Axes>"
      ]
     },
     "metadata": {},
     "output_type": "display_data"
    }
   ],
   "source": [
    "# --- Pie Chart ---\n",
    "plt.figure(figsize=(10, 6))\n",
    "plt.title('Pie Chart', fontweight='bold', fontsize=14,\n",
    "          fontfamily='sans-serif')\n",
    "plt.pie(df_EDA['Gender'].value_counts(), labels=labels, pctdistance=0.7,\n",
    "        autopct='%.2f%%', wedgeprops=dict(alpha=0.8),\n",
    "        textprops={'fontsize':12}, colors = color)\n",
    "centre=plt.Circle((0, 0), 0.45, fc='white')\n",
    "plt.gcf().gca().add_artist(centre)\n",
    "plt.show()"
   ]
  },
  {
   "cell_type": "code",
   "execution_count": null,
   "metadata": {},
   "outputs": [
    {
     "data": {
      "image/png": "[encoded data removed]",
      "text/plain": [
       "<Figure size 720x432 with 1 Axes>"
      ]
     },
     "metadata": {
      "needs_background": "light"
     },
     "output_type": "display_data"
    }
   ],
   "source": [
    "# --- Bar Chart ---\n",
    "countplt = plt.figure(figsize=(10, 6))\n",
    "plt.title('Bar Chart', fontweight='bold', fontsize=14, \n",
    "          fontfamily='sans-serif')\n",
    "ax = sns.countplot(x='Gender', data=data, order=order,\n",
    "                   alpha=0.85, palette = 'viridis')\n",
    "for rect in ax.patches:\n",
    "    ax.text (rect.get_x()+rect.get_width()/2, \n",
    "             rect.get_height()+4.25,rect.get_height(), \n",
    "             horizontalalignment='center', fontsize=10, \n",
    "             bbox=dict(facecolor='none', \n",
    "                       linewidth=0.25, boxstyle='round'))\n",
    "\n",
    "plt.xlabel('Gender', fontweight='bold', fontsize=11, fontfamily='sans-serif', \n",
    "          )\n",
    "plt.ylabel('Total', fontweight='bold', fontsize=11, fontfamily='sans-serif', \n",
    "           )\n",
    "plt.xticks([0, 1], labels)\n",
    "plt.grid(axis='y', alpha=0.4)"
   ]
  },
  {
   "cell_type": "markdown",
   "metadata": {},
   "source": [
    "Dari pie dan bar chart diatas kita dapat melihat gender distribution pada dataset ini.\n",
    "Didapatkan jumlah Gender Male yaitu 105 atau 35.12%, sedangkan jumlah Gender Wanita yaitu 194 atau 64.88%.\n",
    "Jika dihitung maka jumlah wanita lebih banyak dari pada pria. "
   ]
  },
  {
   "cell_type": "code",
   "execution_count": null,
   "metadata": {},
   "outputs": [
    {
     "data": {
      "text/plain": [
       "1    194\n",
       "0    105\n",
       "Name: Gender, dtype: int64"
      ]
     },
     "execution_count": 23,
     "metadata": {},
     "output_type": "execute_result"
    }
   ],
   "source": [
    "data.Gender.value_counts()"
   ]
  },
  {
   "cell_type": "code",
   "execution_count": null,
   "metadata": {},
   "outputs": [
    {
     "data": {
      "text/html": [
       "<div>\n",
       "<style scoped>\n",
       "    .dataframe tbody tr th:only-of-type {\n",
       "        vertical-align: middle;\n",
       "    }\n",
       "\n",
       "    .dataframe tbody tr th {\n",
       "        vertical-align: top;\n",
       "    }\n",
       "\n",
       "    .dataframe thead th {\n",
       "        text-align: right;\n",
       "    }\n",
       "</style>\n",
       "<table border=\"1\" class=\"dataframe\">\n",
       "  <thead>\n",
       "    <tr style=\"text-align: right;\">\n",
       "      <th>Gender</th>\n",
       "      <th>0</th>\n",
       "      <th>1</th>\n",
       "    </tr>\n",
       "    <tr>\n",
       "      <th>Kematian</th>\n",
       "      <th></th>\n",
       "      <th></th>\n",
       "    </tr>\n",
       "  </thead>\n",
       "  <tbody>\n",
       "    <tr>\n",
       "      <th>0</th>\n",
       "      <td>71</td>\n",
       "      <td>132</td>\n",
       "    </tr>\n",
       "    <tr>\n",
       "      <th>1</th>\n",
       "      <td>34</td>\n",
       "      <td>62</td>\n",
       "    </tr>\n",
       "  </tbody>\n",
       "</table>\n",
       "</div>"
      ],
      "text/plain": [
       "Gender     0    1\n",
       "Kematian         \n",
       "0         71  132\n",
       "1         34   62"
      ]
     },
     "execution_count": 24,
     "metadata": {},
     "output_type": "execute_result"
    }
   ],
   "source": [
    "# Compare Kematian column with sex column\n",
    "pd.crosstab(data.Kematian, data.Gender)"
   ]
  },
  {
   "cell_type": "code",
   "execution_count": null,
   "metadata": {},
   "outputs": [
    {
     "data": {
      "image/png": "[encoded data removed]",
      "text/plain": [
       "<Figure size 720x432 with 1 Axes>"
      ]
     },
     "metadata": {
      "needs_background": "light"
     },
     "output_type": "display_data"
    }
   ],
   "source": [
    "# Create a plot of crosstab\n",
    "pd.crosstab(data.Kematian, data.Gender).plot(kind=\"bar\",\n",
    "                                    figsize=(10, 6),\n",
    "                                   color=[\"salmon\", \"lightblue\"])\n",
    "\n",
    "plt.title(\"Heart Disease Frequency for Gender\")\n",
    "plt.xlabel(\"Heart Disease? \\n 0 = No Disease \\n 1 = Disease\")\n",
    "plt.xticks(rotation=360)\n",
    "plt.ylabel(\"Frequency\")\n",
    "plt.legend([\"Female\", \"Male\"])\n",
    "plt.show()"
   ]
  },
  {
   "cell_type": "code",
   "execution_count": null,
   "metadata": {},
   "outputs": [
    {
     "data": {
      "image/png": "[encoded data removed]",
      "text/plain": [
       "<Figure size 720x432 with 1 Axes>"
      ]
     },
     "metadata": {
      "needs_background": "light"
     },
     "output_type": "display_data"
    }
   ],
   "source": [
    "# Create another figure\n",
    "fig,ax = plt.subplots(figsize=(10, 6))\n",
    "\n",
    "# Scatter with positive examples\n",
    "pos_examples = ax.scatter(data.Usia[data.Kematian==1], \n",
    "                          data.creatinine_phosphokinase[data.Kematian == 1], \n",
    "                          color=\"salmon\", label=\"Heart Disease\")\n",
    "\n",
    "# Scatter with negative examples\n",
    "neg_examples = ax.scatter(data.Usia[data.Kematian==0], \n",
    "                          data.creatinine_phosphokinase[data.Kematian == 0], \n",
    "                          color=\"lightblue\", label=\"No Heart Disease\")\n",
    "\n",
    "# Get mean line\n",
    "mean = data[\"creatinine_phosphokinase\"].mean()\n",
    "mean_line = ax.plot()\n",
    "\n",
    "# Customize the plot\n",
    "plt.title(\"Max Heart Rate in Relation to Usia\")\n",
    "plt.xlabel(\"Usia\")\n",
    "plt.ylabel(\"Max Heart Rate\")\n",
    "plt.legend()\n",
    "plt.show()"
   ]
  },
  {
   "cell_type": "code",
   "execution_count": null,
   "metadata": {},
   "outputs": [],
   "source": [
    "numerical= ['Usia', 'creatinine_phosphokinase', 'ejection_fraction', 'serum_creatinine', 'serum_sodium', 'time']"
   ]
  },
  {
   "cell_type": "code",
   "execution_count": null,
   "metadata": {},
   "outputs": [
    {
     "data": {
      "image/png": "[encoded data removed]",
      "text/plain": [
       "<Figure size 1440x1440 with 6 Axes>"
      ]
     },
     "metadata": {
      "needs_background": "light"
     },
     "output_type": "display_data"
    }
   ],
   "source": [
    "index = 0\n",
    "plt.figure(figsize=(20,20))\n",
    "for feature in numerical:\n",
    "    index += 1\n",
    "    plt.subplot(3, 3, index)\n",
    "    sns.boxplot(x='Kematian', y=feature, data=data)"
   ]
  },
  {
   "cell_type": "code",
   "execution_count": null,
   "metadata": {},
   "outputs": [
    {
     "data": {
      "text/html": [
       "<div>\n",
       "<style scoped>\n",
       "    .dataframe tbody tr th:only-of-type {\n",
       "        vertical-align: middle;\n",
       "    }\n",
       "\n",
       "    .dataframe tbody tr th {\n",
       "        vertical-align: top;\n",
       "    }\n",
       "\n",
       "    .dataframe thead th {\n",
       "        text-align: right;\n",
       "    }\n",
       "</style>\n",
       "<table border=\"1\" class=\"dataframe\">\n",
       "  <thead>\n",
       "    <tr style=\"text-align: right;\">\n",
       "      <th></th>\n",
       "      <th>no</th>\n",
       "      <th>yes</th>\n",
       "    </tr>\n",
       "    <tr>\n",
       "      <th>keterangan</th>\n",
       "      <th></th>\n",
       "      <th></th>\n",
       "    </tr>\n",
       "  </thead>\n",
       "  <tbody>\n",
       "    <tr>\n",
       "      <th>anemia</th>\n",
       "      <td>170</td>\n",
       "      <td>129</td>\n",
       "    </tr>\n",
       "    <tr>\n",
       "      <th>diabetes</th>\n",
       "      <td>174</td>\n",
       "      <td>125</td>\n",
       "    </tr>\n",
       "    <tr>\n",
       "      <th>hipertensi</th>\n",
       "      <td>194</td>\n",
       "      <td>105</td>\n",
       "    </tr>\n",
       "  </tbody>\n",
       "</table>\n",
       "</div>"
      ],
      "text/plain": [
       "             no  yes\n",
       "keterangan          \n",
       "anemia      170  129\n",
       "diabetes    174  125\n",
       "hipertensi  194  105"
      ]
     },
     "execution_count": 29,
     "metadata": {},
     "output_type": "execute_result"
    }
   ],
   "source": [
    "# Melihat jumlah penderita anemia\n",
    "anemia=len(data[data['anemia']==1])\n",
    "tidak_anemia=len(data[data['anemia']==0])\n",
    "\n",
    "# Melihat jumlah penderita diabetes\n",
    "diabetes=len(data[data['diabetes']==1])\n",
    "tidak_diabetes=len(data[data['diabetes']==0])\n",
    "\n",
    "# Melihat jumlah penderita hipertensi\n",
    "hipertensi=len(data[data['hipertensi']==1])\n",
    "tidak_hipertensi=len(data[data['hipertensi']==0])\n",
    "\n",
    "# Membuat dataframe dari jumlah penderita diabetes, anemia, dan hipertensi\n",
    "data_ADH=pd.DataFrame(\n",
    "    {'keterangan':['anemia','diabetes','hipertensi'],\n",
    "     'no':[tidak_anemia,tidak_diabetes,tidak_hipertensi],\n",
    "    'yes':[anemia,diabetes,hipertensi],\n",
    "    })\n",
    "data_ADH=data_ADH.set_index('keterangan')\n",
    "data_ADH"
   ]
  },
  {
   "cell_type": "code",
   "execution_count": null,
   "metadata": {},
   "outputs": [
    {
     "data": {
      "image/png": "[encoded data removed]",
      "text/plain": [
       "<Figure size 720x432 with 1 Axes>"
      ]
     },
     "metadata": {
      "needs_background": "light"
     },
     "output_type": "display_data"
    }
   ],
   "source": [
    "# Membuat visualisasi jumlah penderita anemia, diabetes, hipertensi\n",
    "data_ADH.plot(kind='bar', figsize=(10,6),\n",
    "                  color=['olive','khaki'])\n",
    "plt.title('Penderita Anemia, Diabetes, dan Hipertensi', fontsize=18)\n",
    "plt.xlabel('Penyakit', fontsize=12)\n",
    "plt.ylabel('Jumlah', fontsize=12)\n",
    "\n",
    "plt.show()"
   ]
  },
  {
   "cell_type": "markdown",
   "metadata": {},
   "source": [
    "Dilihat dari plot diketahui bahwa hampir 50% pasien penyakit jantung memiliki riwayat penyakit anemia, diikuti diabetes dan hipertensi."
   ]
  },
  {
   "cell_type": "markdown",
   "metadata": {},
   "source": [
    "# F. Preprocessing"
   ]
  },
  {
   "cell_type": "markdown",
   "metadata": {},
   "source": [
    "## 1. Correlation"
   ]
  },
  {
   "cell_type": "code",
   "execution_count": null,
   "metadata": {},
   "outputs": [
    {
     "data": {
      "text/plain": [
       "<AxesSubplot:>"
      ]
     },
     "execution_count": 31,
     "metadata": {},
     "output_type": "execute_result"
    },
    {
     "data": {
      "image/png": "[encoded data removed]",
      "text/plain": [
       "<Figure size 1080x1080 with 2 Axes>"
      ]
     },
     "metadata": {
      "needs_background": "light"
     },
     "output_type": "display_data"
    }
   ],
   "source": [
    "#melihat korelasi antar fitur\n",
    "plt.figure(figsize=(15,15))\n",
    "sns.heatmap(data.corr(), annot=True)"
   ]
  },
  {
   "cell_type": "code",
   "execution_count": null,
   "metadata": {},
   "outputs": [
    {
     "data": {
      "text/html": [
       "<div>\n",
       "<style scoped>\n",
       "    .dataframe tbody tr th:only-of-type {\n",
       "        vertical-align: middle;\n",
       "    }\n",
       "\n",
       "    .dataframe tbody tr th {\n",
       "        vertical-align: top;\n",
       "    }\n",
       "\n",
       "    .dataframe thead th {\n",
       "        text-align: right;\n",
       "    }\n",
       "</style>\n",
       "<table border=\"1\" class=\"dataframe\">\n",
       "  <thead>\n",
       "    <tr style=\"text-align: right;\">\n",
       "      <th></th>\n",
       "      <th>Usia</th>\n",
       "      <th>anemia</th>\n",
       "      <th>creatinine_phosphokinase</th>\n",
       "      <th>diabetes</th>\n",
       "      <th>ejection_fraction</th>\n",
       "      <th>hipertensi</th>\n",
       "      <th>platelets</th>\n",
       "      <th>serum_creatinine</th>\n",
       "      <th>serum_sodium</th>\n",
       "      <th>Gender</th>\n",
       "      <th>Perokok</th>\n",
       "      <th>time</th>\n",
       "      <th>Kematian</th>\n",
       "    </tr>\n",
       "  </thead>\n",
       "  <tbody>\n",
       "    <tr>\n",
       "      <th>0</th>\n",
       "      <td>75.0</td>\n",
       "      <td>0</td>\n",
       "      <td>582</td>\n",
       "      <td>0</td>\n",
       "      <td>20</td>\n",
       "      <td>1</td>\n",
       "      <td>265000.00</td>\n",
       "      <td>1.9</td>\n",
       "      <td>130</td>\n",
       "      <td>1</td>\n",
       "      <td>0</td>\n",
       "      <td>4</td>\n",
       "      <td>1</td>\n",
       "    </tr>\n",
       "    <tr>\n",
       "      <th>1</th>\n",
       "      <td>55.0</td>\n",
       "      <td>0</td>\n",
       "      <td>7861</td>\n",
       "      <td>0</td>\n",
       "      <td>38</td>\n",
       "      <td>0</td>\n",
       "      <td>263358.03</td>\n",
       "      <td>1.1</td>\n",
       "      <td>136</td>\n",
       "      <td>1</td>\n",
       "      <td>0</td>\n",
       "      <td>6</td>\n",
       "      <td>1</td>\n",
       "    </tr>\n",
       "    <tr>\n",
       "      <th>2</th>\n",
       "      <td>65.0</td>\n",
       "      <td>0</td>\n",
       "      <td>146</td>\n",
       "      <td>0</td>\n",
       "      <td>20</td>\n",
       "      <td>0</td>\n",
       "      <td>162000.00</td>\n",
       "      <td>1.3</td>\n",
       "      <td>129</td>\n",
       "      <td>1</td>\n",
       "      <td>1</td>\n",
       "      <td>7</td>\n",
       "      <td>1</td>\n",
       "    </tr>\n",
       "    <tr>\n",
       "      <th>3</th>\n",
       "      <td>50.0</td>\n",
       "      <td>1</td>\n",
       "      <td>111</td>\n",
       "      <td>0</td>\n",
       "      <td>20</td>\n",
       "      <td>0</td>\n",
       "      <td>210000.00</td>\n",
       "      <td>1.9</td>\n",
       "      <td>137</td>\n",
       "      <td>1</td>\n",
       "      <td>0</td>\n",
       "      <td>7</td>\n",
       "      <td>1</td>\n",
       "    </tr>\n",
       "    <tr>\n",
       "      <th>4</th>\n",
       "      <td>65.0</td>\n",
       "      <td>1</td>\n",
       "      <td>160</td>\n",
       "      <td>1</td>\n",
       "      <td>20</td>\n",
       "      <td>0</td>\n",
       "      <td>327000.00</td>\n",
       "      <td>2.7</td>\n",
       "      <td>116</td>\n",
       "      <td>0</td>\n",
       "      <td>0</td>\n",
       "      <td>8</td>\n",
       "      <td>1</td>\n",
       "    </tr>\n",
       "  </tbody>\n",
       "</table>\n",
       "</div>"
      ],
      "text/plain": [
       "   Usia  anemia  creatinine_phosphokinase  diabetes  ejection_fraction  \\\n",
       "0  75.0       0                       582         0                 20   \n",
       "1  55.0       0                      7861         0                 38   \n",
       "2  65.0       0                       146         0                 20   \n",
       "3  50.0       1                       111         0                 20   \n",
       "4  65.0       1                       160         1                 20   \n",
       "\n",
       "   hipertensi  platelets  serum_creatinine  serum_sodium  Gender  Perokok  \\\n",
       "0           1  265000.00               1.9           130       1        0   \n",
       "1           0  263358.03               1.1           136       1        0   \n",
       "2           0  162000.00               1.3           129       1        1   \n",
       "3           0  210000.00               1.9           137       1        0   \n",
       "4           0  327000.00               2.7           116       0        0   \n",
       "\n",
       "   time  Kematian  \n",
       "0     4         1  \n",
       "1     6         1  \n",
       "2     7         1  \n",
       "3     7         1  \n",
       "4     8         1  "
      ]
     },
     "execution_count": 32,
     "metadata": {},
     "output_type": "execute_result"
    }
   ],
   "source": [
    "data.head()"
   ]
  },
  {
   "cell_type": "code",
   "execution_count": null,
   "metadata": {},
   "outputs": [],
   "source": [
    "Features = ['Usia','time','anemia','creatinine_phosphokinase','diabetes','ejection_fraction','hipertensi','serum_creatinine','serum_sodium']\n",
    "x = data[Features]\n",
    "y = data[\"Kematian\"]\n",
    "x_train,x_test,y_train,y_test = train_test_split(x,y, test_size=0.2, random_state=2)"
   ]
  },
  {
   "cell_type": "code",
   "execution_count": null,
   "metadata": {},
   "outputs": [
    {
     "data": {
      "text/html": [
       "<div>\n",
       "<style scoped>\n",
       "    .dataframe tbody tr th:only-of-type {\n",
       "        vertical-align: middle;\n",
       "    }\n",
       "\n",
       "    .dataframe tbody tr th {\n",
       "        vertical-align: top;\n",
       "    }\n",
       "\n",
       "    .dataframe thead th {\n",
       "        text-align: right;\n",
       "    }\n",
       "</style>\n",
       "<table border=\"1\" class=\"dataframe\">\n",
       "  <thead>\n",
       "    <tr style=\"text-align: right;\">\n",
       "      <th></th>\n",
       "      <th>Usia</th>\n",
       "      <th>time</th>\n",
       "      <th>anemia</th>\n",
       "      <th>creatinine_phosphokinase</th>\n",
       "      <th>diabetes</th>\n",
       "      <th>ejection_fraction</th>\n",
       "      <th>hipertensi</th>\n",
       "      <th>serum_creatinine</th>\n",
       "      <th>serum_sodium</th>\n",
       "    </tr>\n",
       "  </thead>\n",
       "  <tbody>\n",
       "    <tr>\n",
       "      <th>0</th>\n",
       "      <td>1.192945</td>\n",
       "      <td>-1.629502</td>\n",
       "      <td>-0.871105</td>\n",
       "      <td>0.000166</td>\n",
       "      <td>-0.847579</td>\n",
       "      <td>-1.530560</td>\n",
       "      <td>1.359272</td>\n",
       "      <td>0.490057</td>\n",
       "      <td>-1.504036</td>\n",
       "    </tr>\n",
       "    <tr>\n",
       "      <th>1</th>\n",
       "      <td>-0.491279</td>\n",
       "      <td>-1.603691</td>\n",
       "      <td>-0.871105</td>\n",
       "      <td>7.514640</td>\n",
       "      <td>-0.847579</td>\n",
       "      <td>-0.007077</td>\n",
       "      <td>-0.735688</td>\n",
       "      <td>-0.284552</td>\n",
       "      <td>-0.141976</td>\n",
       "    </tr>\n",
       "    <tr>\n",
       "      <th>2</th>\n",
       "      <td>0.350833</td>\n",
       "      <td>-1.590785</td>\n",
       "      <td>-0.871105</td>\n",
       "      <td>-0.449939</td>\n",
       "      <td>-0.847579</td>\n",
       "      <td>-1.530560</td>\n",
       "      <td>-0.735688</td>\n",
       "      <td>-0.090900</td>\n",
       "      <td>-1.731046</td>\n",
       "    </tr>\n",
       "    <tr>\n",
       "      <th>3</th>\n",
       "      <td>-0.912335</td>\n",
       "      <td>-1.590785</td>\n",
       "      <td>1.147968</td>\n",
       "      <td>-0.486071</td>\n",
       "      <td>-0.847579</td>\n",
       "      <td>-1.530560</td>\n",
       "      <td>-0.735688</td>\n",
       "      <td>0.490057</td>\n",
       "      <td>0.085034</td>\n",
       "    </tr>\n",
       "    <tr>\n",
       "      <th>4</th>\n",
       "      <td>0.350833</td>\n",
       "      <td>-1.577879</td>\n",
       "      <td>1.147968</td>\n",
       "      <td>-0.435486</td>\n",
       "      <td>1.179830</td>\n",
       "      <td>-1.530560</td>\n",
       "      <td>-0.735688</td>\n",
       "      <td>1.264666</td>\n",
       "      <td>-4.682176</td>\n",
       "    </tr>\n",
       "  </tbody>\n",
       "</table>\n",
       "</div>"
      ],
      "text/plain": [
       "       Usia      time    anemia  creatinine_phosphokinase  diabetes  \\\n",
       "0  1.192945 -1.629502 -0.871105                  0.000166 -0.847579   \n",
       "1 -0.491279 -1.603691 -0.871105                  7.514640 -0.847579   \n",
       "2  0.350833 -1.590785 -0.871105                 -0.449939 -0.847579   \n",
       "3 -0.912335 -1.590785  1.147968                 -0.486071 -0.847579   \n",
       "4  0.350833 -1.577879  1.147968                 -0.435486  1.179830   \n",
       "\n",
       "   ejection_fraction  hipertensi  serum_creatinine  serum_sodium  \n",
       "0          -1.530560    1.359272          0.490057     -1.504036  \n",
       "1          -0.007077   -0.735688         -0.284552     -0.141976  \n",
       "2          -1.530560   -0.735688         -0.090900     -1.731046  \n",
       "3          -1.530560   -0.735688          0.490057      0.085034  \n",
       "4          -1.530560   -0.735688          1.264666     -4.682176  "
      ]
     },
     "execution_count": 34,
     "metadata": {},
     "output_type": "execute_result"
    }
   ],
   "source": [
    "scale = StandardScaler()\n",
    "column = x.columns\n",
    "scaled_x = scale.fit_transform(x)\n",
    "scaled_x = pd.DataFrame(scaled_x,columns=column)\n",
    "scaled_x.head()"
   ]
  },
  {
   "cell_type": "code",
   "execution_count": null,
   "metadata": {},
   "outputs": [],
   "source": [
    "accuracy_list = []"
   ]
  },
  {
   "cell_type": "markdown",
   "metadata": {},
   "source": [
    "## 1. Logistic Regression"
   ]
  },
  {
   "cell_type": "code",
   "execution_count": null,
   "metadata": {},
   "outputs": [],
   "source": [
    "# logistic regression\n",
    "\n",
    "log_reg = LogisticRegression()\n",
    "log_reg.fit(x_train, y_train)\n",
    "log_reg_pred = log_reg.predict(x_test)\n",
    "log_reg_acc = accuracy_score(y_test, log_reg_pred)\n",
    "accuracy_list.append(100*log_reg_acc)"
   ]
  },
  {
   "cell_type": "code",
   "execution_count": null,
   "metadata": {},
   "outputs": [
    {
     "name": "stdout",
     "output_type": "stream",
     "text": [
      "Accuracy of Logistic Regression is :  88.33%\n"
     ]
    }
   ],
   "source": [
    "print(\"Accuracy of Logistic Regression is : \", \"{:.2f}%\".format(100* log_reg_acc))"
   ]
  },
  {
   "cell_type": "code",
   "execution_count": null,
   "metadata": {},
   "outputs": [
    {
     "ename": "TypeError",
     "evalue": "'numpy.int64' object is not callable",
     "output_type": "error",
     "traceback": [
      "\u001b[1;31m---------------------------------------------------------------------------\u001b[0m",
      "\u001b[1;31mTypeError\u001b[0m                                 Traceback (most recent call last)",
      "\u001b[1;32md:\\semester 6\\proakh\\project akhir 1\\PYTN_KampusMerdeka_FP3_MarcelAfandi.ipynb Cell 53'\u001b[0m in \u001b[0;36m<cell line: 5>\u001b[1;34m()\u001b[0m\n\u001b[0;32m      <a href='vscode-notebook-cell:/d%3A/semester%206/proakh/project%20akhir%201/PYTN_KampusMerdeka_FP3_MarcelAfandi.ipynb#Y104sZmlsZQ%3D%3D?line=2'>3</a>\u001b[0m plot_confusion_matrix(cm, figsize\u001b[39m=\u001b[39m(\u001b[39m12\u001b[39m,\u001b[39m8\u001b[39m), hide_ticks\u001b[39m=\u001b[39m\u001b[39mTrue\u001b[39;00m, cmap\u001b[39m=\u001b[39m\u001b[39m'\u001b[39m\u001b[39mcoolwarm\u001b[39m\u001b[39m'\u001b[39m)\n\u001b[0;32m      <a href='vscode-notebook-cell:/d%3A/semester%206/proakh/project%20akhir%201/PYTN_KampusMerdeka_FP3_MarcelAfandi.ipynb#Y104sZmlsZQ%3D%3D?line=3'>4</a>\u001b[0m plt\u001b[39m.\u001b[39mtitle(\u001b[39m\"\u001b[39m\u001b[39mLogistic Regression Model - Confusion Matrix\u001b[39m\u001b[39m\\n\u001b[39;00m\u001b[39mAccuracy:\u001b[39m\u001b[39m{:.3f}\u001b[39;00m\u001b[39m\"\u001b[39m\u001b[39m.\u001b[39mformat(accuracy_score(y_test, log_reg_pred)), fontsize\u001b[39m=\u001b[39m\u001b[39m14\u001b[39m)\n\u001b[1;32m----> <a href='vscode-notebook-cell:/d%3A/semester%206/proakh/project%20akhir%201/PYTN_KampusMerdeka_FP3_MarcelAfandi.ipynb#Y104sZmlsZQ%3D%3D?line=4'>5</a>\u001b[0m plt\u001b[39m.\u001b[39mxticks(\u001b[39mrange\u001b[39;49m(\u001b[39m2\u001b[39;49m), [\u001b[39m\"\u001b[39m\u001b[39mHeart Not Failed\u001b[39m\u001b[39m\"\u001b[39m,\u001b[39m\"\u001b[39m\u001b[39mHeart Fail\u001b[39m\u001b[39m\"\u001b[39m], fontsize\u001b[39m=\u001b[39m\u001b[39m16\u001b[39m)\n\u001b[0;32m      <a href='vscode-notebook-cell:/d%3A/semester%206/proakh/project%20akhir%201/PYTN_KampusMerdeka_FP3_MarcelAfandi.ipynb#Y104sZmlsZQ%3D%3D?line=5'>6</a>\u001b[0m plt\u001b[39m.\u001b[39myticks(\u001b[39mrange\u001b[39m(\u001b[39m2\u001b[39m), [\u001b[39m\"\u001b[39m\u001b[39mHeart Not Failed\u001b[39m\u001b[39m\"\u001b[39m,\u001b[39m\"\u001b[39m\u001b[39mHeart Fail\u001b[39m\u001b[39m\"\u001b[39m], fontsize\u001b[39m=\u001b[39m\u001b[39m16\u001b[39m)\n\u001b[0;32m      <a href='vscode-notebook-cell:/d%3A/semester%206/proakh/project%20akhir%201/PYTN_KampusMerdeka_FP3_MarcelAfandi.ipynb#Y104sZmlsZQ%3D%3D?line=6'>7</a>\u001b[0m plt\u001b[39m.\u001b[39mshow()\n",
      "\u001b[1;31mTypeError\u001b[0m: 'numpy.int64' object is not callable"
     ]
    },
    {
     "data": {
      "text/plain": [
       "<Figure size 432x288 with 0 Axes>"
      ]
     },
     "metadata": {},
     "output_type": "display_data"
    },
    {
     "data": {
      "image/png": "[encoded data removed]",
      "text/plain": [
       "<Figure size 864x576 with 1 Axes>"
      ]
     },
     "metadata": {},
     "output_type": "display_data"
    }
   ],
   "source": [
    "cm = confusion_matrix(y_test, log_reg_pred)\n",
    "plt.figure()\n",
    "plot_confusion_matrix(cm, figsize=(12,8), hide_ticks=True, cmap='coolwarm')\n",
    "plt.title(\"Logistic Regression Model - Confusion Matrix\\nAccuracy:{:.3f}\".format(accuracy_score(y_test, log_reg_pred)), fontsize=14)\n",
    "plt.xticks(range(2), [\"Heart Not Failed\",\"Heart Fail\"], fontsize=16)\n",
    "plt.yticks(range(2), [\"Heart Not Failed\",\"Heart Fail\"], fontsize=16)\n",
    "plt.show()"
   ]
  },
  {
   "cell_type": "code",
   "execution_count": null,
   "metadata": {},
   "outputs": [
    {
     "name": "stdout",
     "output_type": "stream",
     "text": [
      "Classification Report:\n",
      "               precision    recall  f1-score   support\n",
      "\n",
      "           0       0.91      0.93      0.92        43\n",
      "           1       0.81      0.76      0.79        17\n",
      "\n",
      "    accuracy                           0.88        60\n",
      "   macro avg       0.86      0.85      0.85        60\n",
      "weighted avg       0.88      0.88      0.88        60\n",
      "\n",
      "Accuracy Score: 0.8833333333333333\n",
      "Precision Score: 0.8125\n",
      "Recall Score: 0.7647058823529411\n",
      "F1 Score: 0.787878787878788\n",
      "roc_auc_score:  0.847469220246238\n"
     ]
    }
   ],
   "source": [
    "print(\"Classification Report:\\n\", classification_report(y_test, log_reg_pred))\n",
    "\n",
    "print(f'Accuracy Score: {accuracy_score(y_test, log_reg_pred)}')\n",
    "print(f'Precision Score: {precision_score(y_test,log_reg_pred)}')\n",
    "print(f'Recall Score: {recall_score(y_test,log_reg_pred)}')\n",
    "print(\"F1 Score:\",f1_score(y_test,log_reg_pred))\n",
    "print(\"roc_auc_score: \", roc_auc_score(y_test, log_reg_pred))"
   ]
  },
  {
   "cell_type": "markdown",
   "metadata": {},
   "source": [
    "## 2. Support Vector Machine"
   ]
  },
  {
   "cell_type": "code",
   "execution_count": null,
   "metadata": {},
   "outputs": [],
   "source": [
    "# svc\n",
    "\n",
    "sv_clf = SVC()\n",
    "sv_clf.fit(x_train, y_train)\n",
    "sv_clf_pred = sv_clf.predict(x_test)\n",
    "sv_clf_acc = accuracy_score(y_test, sv_clf_pred)\n",
    "accuracy_list.append(100* sv_clf_acc)"
   ]
  },
  {
   "cell_type": "code",
   "execution_count": null,
   "metadata": {},
   "outputs": [
    {
     "name": "stdout",
     "output_type": "stream",
     "text": [
      "Accuracy of SVC is :  68.33%\n"
     ]
    }
   ],
   "source": [
    "print(\"Accuracy of SVC is : \", \"{:.2f}%\".format(100* sv_clf_acc))"
   ]
  },
  {
   "cell_type": "code",
   "execution_count": null,
   "metadata": {},
   "outputs": [
    {
     "ename": "TypeError",
     "evalue": "'numpy.int64' object is not callable",
     "output_type": "error",
     "traceback": [
      "\u001b[1;31m---------------------------------------------------------------------------\u001b[0m",
      "\u001b[1;31mTypeError\u001b[0m                                 Traceback (most recent call last)",
      "\u001b[1;32md:\\semester 6\\proakh\\project akhir 1\\PYTN_KampusMerdeka_FP3_MarcelAfandi.ipynb Cell 58'\u001b[0m in \u001b[0;36m<cell line: 5>\u001b[1;34m()\u001b[0m\n\u001b[0;32m      <a href='vscode-notebook-cell:/d%3A/semester%206/proakh/project%20akhir%201/PYTN_KampusMerdeka_FP3_MarcelAfandi.ipynb#Y112sZmlsZQ%3D%3D?line=2'>3</a>\u001b[0m plot_confusion_matrix(cm, figsize\u001b[39m=\u001b[39m(\u001b[39m12\u001b[39m,\u001b[39m8\u001b[39m), hide_ticks\u001b[39m=\u001b[39m\u001b[39mTrue\u001b[39;00m, cmap\u001b[39m=\u001b[39m\u001b[39m'\u001b[39m\u001b[39mcoolwarm\u001b[39m\u001b[39m'\u001b[39m)\n\u001b[0;32m      <a href='vscode-notebook-cell:/d%3A/semester%206/proakh/project%20akhir%201/PYTN_KampusMerdeka_FP3_MarcelAfandi.ipynb#Y112sZmlsZQ%3D%3D?line=3'>4</a>\u001b[0m plt\u001b[39m.\u001b[39mtitle(\u001b[39m\"\u001b[39m\u001b[39mSVC Model - Confusion Matrix\u001b[39m\u001b[39m\\n\u001b[39;00m\u001b[39mAccuracy:\u001b[39m\u001b[39m{:.3f}\u001b[39;00m\u001b[39m\"\u001b[39m\u001b[39m.\u001b[39mformat(accuracy_score(y_test, sv_clf_pred)), fontsize\u001b[39m=\u001b[39m\u001b[39m14\u001b[39m)\n\u001b[1;32m----> <a href='vscode-notebook-cell:/d%3A/semester%206/proakh/project%20akhir%201/PYTN_KampusMerdeka_FP3_MarcelAfandi.ipynb#Y112sZmlsZQ%3D%3D?line=4'>5</a>\u001b[0m plt\u001b[39m.\u001b[39mxticks(\u001b[39mrange\u001b[39;49m(\u001b[39m2\u001b[39;49m), [\u001b[39m\"\u001b[39m\u001b[39mHeart Not Failed\u001b[39m\u001b[39m\"\u001b[39m,\u001b[39m\"\u001b[39m\u001b[39mHeart Fail\u001b[39m\u001b[39m\"\u001b[39m], fontsize\u001b[39m=\u001b[39m\u001b[39m16\u001b[39m)\n\u001b[0;32m      <a href='vscode-notebook-cell:/d%3A/semester%206/proakh/project%20akhir%201/PYTN_KampusMerdeka_FP3_MarcelAfandi.ipynb#Y112sZmlsZQ%3D%3D?line=5'>6</a>\u001b[0m plt\u001b[39m.\u001b[39myticks(\u001b[39mrange\u001b[39m(\u001b[39m2\u001b[39m), [\u001b[39m\"\u001b[39m\u001b[39mHeart Not Failed\u001b[39m\u001b[39m\"\u001b[39m,\u001b[39m\"\u001b[39m\u001b[39mHeart Fail\u001b[39m\u001b[39m\"\u001b[39m], fontsize\u001b[39m=\u001b[39m\u001b[39m16\u001b[39m)\n\u001b[0;32m      <a href='vscode-notebook-cell:/d%3A/semester%206/proakh/project%20akhir%201/PYTN_KampusMerdeka_FP3_MarcelAfandi.ipynb#Y112sZmlsZQ%3D%3D?line=6'>7</a>\u001b[0m plt\u001b[39m.\u001b[39mshow()\n",
      "\u001b[1;31mTypeError\u001b[0m: 'numpy.int64' object is not callable"
     ]
    },
    {
     "data": {
      "text/plain": [
       "<Figure size 432x288 with 0 Axes>"
      ]
     },
     "metadata": {},
     "output_type": "display_data"
    },
    {
     "data": {
      "image/png": "[encoded data removed]",
      "text/plain": [
       "<Figure size 864x576 with 1 Axes>"
      ]
     },
     "metadata": {},
     "output_type": "display_data"
    }
   ],
   "source": [
    "cm = confusion_matrix(y_test, sv_clf_pred)\n",
    "plt.figure()\n",
    "plot_confusion_matrix(cm, figsize=(12,8), hide_ticks=True, cmap='coolwarm')\n",
    "plt.title(\"SVC Model - Confusion Matrix\\nAccuracy:{:.3f}\".format(accuracy_score(y_test, sv_clf_pred)), fontsize=14)\n",
    "plt.xticks(range(2), [\"Heart Not Failed\",\"Heart Fail\"], fontsize=16)\n",
    "plt.yticks(range(2), [\"Heart Not Failed\",\"Heart Fail\"], fontsize=16)\n",
    "plt.show()"
   ]
  },
  {
   "cell_type": "code",
   "execution_count": null,
   "metadata": {},
   "outputs": [
    {
     "name": "stdout",
     "output_type": "stream",
     "text": [
      "Classification Report:\n",
      "               precision    recall  f1-score   support\n",
      "\n",
      "           0       0.71      0.95      0.81        43\n",
      "           1       0.00      0.00      0.00        17\n",
      "\n",
      "    accuracy                           0.68        60\n",
      "   macro avg       0.35      0.48      0.41        60\n",
      "weighted avg       0.51      0.68      0.58        60\n",
      "\n",
      "Accuracy Score: 0.6833333333333333\n",
      "Precision Score: 0.0\n",
      "Recall Score: 0.0\n",
      "F1 Score: 0.0\n",
      "roc_auc_score:  0.47674418604651164\n"
     ]
    }
   ],
   "source": [
    "print(\"Classification Report:\\n\", classification_report(y_test, sv_clf_pred))\n",
    "\n",
    "print(f'Accuracy Score: {accuracy_score(y_test, sv_clf_pred)}')\n",
    "print(f'Precision Score: {precision_score(y_test,sv_clf_pred)}')\n",
    "print(f'Recall Score: {recall_score(y_test,sv_clf_pred)}')\n",
    "print(\"F1 Score:\",f1_score(y_test,sv_clf_pred))\n",
    "print(\"roc_auc_score: \", roc_auc_score(y_test, sv_clf_pred))"
   ]
  },
  {
   "cell_type": "markdown",
   "metadata": {},
   "source": [
    "## 3. K Neighbors Classifier"
   ]
  },
  {
   "cell_type": "code",
   "execution_count": null,
   "metadata": {},
   "outputs": [],
   "source": [
    "# K Neighbors Classifier\n",
    "\n",
    "kn_clf = KNeighborsClassifier(n_neighbors=6)\n",
    "kn_clf.fit(x_train, y_train)\n",
    "kn_pred = kn_clf.predict(x_test)\n",
    "kn_acc = accuracy_score(y_test, kn_pred)\n",
    "accuracy_list.append(100*kn_acc)"
   ]
  },
  {
   "cell_type": "code",
   "execution_count": null,
   "metadata": {},
   "outputs": [
    {
     "name": "stdout",
     "output_type": "stream",
     "text": [
      "Accuracy of K Neighbors Classifier is :  86.67%\n"
     ]
    }
   ],
   "source": [
    "print(\"Accuracy of K Neighbors Classifier is : \", \"{:.2f}%\".format(100* kn_acc))"
   ]
  },
  {
   "cell_type": "code",
   "execution_count": null,
   "metadata": {},
   "outputs": [
    {
     "data": {
      "text/plain": [
       "<Figure size 1440x576 with 0 Axes>"
      ]
     },
     "metadata": {},
     "output_type": "display_data"
    },
    {
     "data": {
      "image/png": "[encoded data removed]",
      "text/plain": [
       "<Figure size 864x576 with 1 Axes>"
      ]
     },
     "metadata": {},
     "output_type": "display_data"
    }
   ],
   "source": [
    "cm = confusion_matrix(y_test, kn_pred)\n",
    "plt.figure()\n",
    "plot_confusion_matrix(cm, figsize=(12,8), hide_ticks=True, cmap='coolwarm')\n",
    "plt.title(\"K Neighbors Model - Confusion Matrix\\nAccuracy:{:.3f}\".format(accuracy_score(y_test, kn_pred)), fontsize=14)\n",
    "plt.xticks(range(2), [\"Heart Not Failed\",\"Heart Fail\"], fontsize=16)\n",
    "plt.yticks(range(2), [\"Heart Not Failed\",\"Heart Fail\"], fontsize=16)\n",
    "plt.show()"
   ]
  },
  {
   "cell_type": "code",
   "execution_count": null,
   "metadata": {},
   "outputs": [
    {
     "name": "stdout",
     "output_type": "stream",
     "text": [
      "Classification Report:\n",
      "               precision    recall  f1-score   support\n",
      "\n",
      "           0       0.84      1.00      0.91        43\n",
      "           1       1.00      0.53      0.69        17\n",
      "\n",
      "    accuracy                           0.87        60\n",
      "   macro avg       0.92      0.76      0.80        60\n",
      "weighted avg       0.89      0.87      0.85        60\n",
      "\n",
      "Accuracy Score: 0.8666666666666667\n",
      "Precision Score: 1.0\n",
      "Recall Score: 0.5294117647058824\n",
      "F1 Score: 0.6923076923076924\n",
      "roc_auc_score:  0.7647058823529411\n"
     ]
    }
   ],
   "source": [
    "print(\"Classification Report:\\n\", classification_report(y_test, kn_pred))\n",
    "\n",
    "print(f'Accuracy Score: {accuracy_score(y_test, kn_pred)}')\n",
    "print(f'Precision Score: {precision_score(y_test,kn_pred)}')\n",
    "print(f'Recall Score: {recall_score(y_test,kn_pred)}')\n",
    "print(\"F1 Score:\",f1_score(y_test,kn_pred))\n",
    "print(\"roc_auc_score: \", roc_auc_score(y_test, kn_pred))"
   ]
  },
  {
   "cell_type": "markdown",
   "metadata": {},
   "source": [
    "## 4.Decision Tree Classifier "
   ]
  },
  {
   "cell_type": "code",
   "execution_count": null,
   "metadata": {},
   "outputs": [],
   "source": [
    "# Decision Tree Classifier\n",
    "\n",
    "dt_clf = DecisionTreeClassifier(max_leaf_nodes=3, random_state=0, criterion='entropy')\n",
    "dt_clf.fit(x_train, y_train)\n",
    "dt_pred = dt_clf.predict(x_test)\n",
    "dt_acc = accuracy_score(y_test, dt_pred)\n",
    "accuracy_list.append(100*dt_acc)"
   ]
  },
  {
   "cell_type": "code",
   "execution_count": null,
   "metadata": {},
   "outputs": [
    {
     "name": "stdout",
     "output_type": "stream",
     "text": [
      "Accuracy of Decision Tree Classifier is :  90.00%\n"
     ]
    }
   ],
   "source": [
    "print(\"Accuracy of Decision Tree Classifier is : \", \"{:.2f}%\".format(100* dt_acc))"
   ]
  },
  {
   "cell_type": "code",
   "execution_count": null,
   "metadata": {},
   "outputs": [
    {
     "data": {
      "text/plain": [
       "<Figure size 1440x576 with 0 Axes>"
      ]
     },
     "metadata": {},
     "output_type": "display_data"
    },
    {
     "data": {
      "image/png": "[encoded data removed]",
      "text/plain": [
       "<Figure size 864x576 with 1 Axes>"
      ]
     },
     "metadata": {},
     "output_type": "display_data"
    }
   ],
   "source": [
    "cm = confusion_matrix(y_test, dt_pred)\n",
    "plt.figure()\n",
    "plot_confusion_matrix(cm, figsize=(12,8), hide_ticks=True, cmap='coolwarm')\n",
    "plt.title(\"Decision Tree Model - Confusion Matrix\\nAccuracy:{:.3f}\".format(accuracy_score(y_test, dt_pred)), fontsize=14)\n",
    "plt.xticks(range(2), [\"Heart Not Failed\",\"Heart Fail\"], fontsize=16)\n",
    "plt.yticks(range(2), [\"Heart Not Failed\",\"Heart Fail\"], fontsize=16)\n",
    "plt.show()"
   ]
  },
  {
   "cell_type": "code",
   "execution_count": null,
   "metadata": {},
   "outputs": [
    {
     "name": "stdout",
     "output_type": "stream",
     "text": [
      "Classification Report:\n",
      "               precision    recall  f1-score   support\n",
      "\n",
      "           0       0.88      1.00      0.93        43\n",
      "           1       1.00      0.65      0.79        17\n",
      "\n",
      "    accuracy                           0.90        60\n",
      "   macro avg       0.94      0.82      0.86        60\n",
      "weighted avg       0.91      0.90      0.89        60\n",
      "\n",
      "Accuracy Score: 0.9\n",
      "Precision Score: 1.0\n",
      "Recall Score: 0.6470588235294118\n",
      "F1 Score: 0.7857142857142858\n",
      "roc_auc_score:  0.8235294117647058\n"
     ]
    }
   ],
   "source": [
    "print(\"Classification Report:\\n\", classification_report(y_test, dt_pred))\n",
    "\n",
    "print(f'Accuracy Score: {accuracy_score(y_test, dt_pred)}')\n",
    "print(f'Precision Score: {precision_score(y_test,dt_pred)}')\n",
    "print(f'Recall Score: {recall_score(y_test,dt_pred)}')\n",
    "print(\"F1 Score:\",f1_score(y_test,dt_pred))\n",
    "print(\"roc_auc_score: \", roc_auc_score(y_test, dt_pred))"
   ]
  },
  {
   "cell_type": "markdown",
   "metadata": {},
   "source": [
    "## 5. RandomForestClassifier"
   ]
  },
  {
   "cell_type": "code",
   "execution_count": null,
   "metadata": {},
   "outputs": [],
   "source": [
    "# RandomForestClassifier\n",
    "\n",
    "r_clf = RandomForestClassifier(max_features=0.5, max_depth=15, random_state=1)\n",
    "r_clf.fit(x_train, y_train)\n",
    "r_pred = r_clf.predict(x_test)\n",
    "r_acc = accuracy_score(y_test, r_pred)\n",
    "accuracy_list.append(100*r_acc)"
   ]
  },
  {
   "cell_type": "code",
   "execution_count": null,
   "metadata": {},
   "outputs": [
    {
     "name": "stdout",
     "output_type": "stream",
     "text": [
      "Accuracy of Random Forest Classifier is :  93.33%\n"
     ]
    }
   ],
   "source": [
    "print(\"Accuracy of Random Forest Classifier is : \", \"{:.2f}%\".format(100* r_acc))"
   ]
  },
  {
   "cell_type": "code",
   "execution_count": null,
   "metadata": {},
   "outputs": [
    {
     "data": {
      "text/plain": [
       "<Figure size 1440x576 with 0 Axes>"
      ]
     },
     "metadata": {},
     "output_type": "display_data"
    },
    {
     "data": {
      "image/png": "[encoded data removed]",
      "text/plain": [
       "<Figure size 864x576 with 1 Axes>"
      ]
     },
     "metadata": {},
     "output_type": "display_data"
    }
   ],
   "source": [
    "cm = confusion_matrix(y_test, r_pred)\n",
    "plt.figure()\n",
    "plot_confusion_matrix(cm, figsize=(12,8), hide_ticks=True, cmap='coolwarm')\n",
    "plt.title(\"Random Forest Model - Confusion Matrix\\nAccuracy:{:.3f}\".format(accuracy_score(y_test, r_pred)), fontsize=14)\n",
    "plt.xticks(range(2), [\"Heart Not Failed\",\"Heart Fail\"], fontsize=16)\n",
    "plt.yticks(range(2), [\"Heart Not Failed\",\"Heart Fail\"], fontsize=16)\n",
    "plt.show()"
   ]
  },
  {
   "cell_type": "code",
   "execution_count": null,
   "metadata": {},
   "outputs": [
    {
     "name": "stdout",
     "output_type": "stream",
     "text": [
      "Classification Report:\n",
      "               precision    recall  f1-score   support\n",
      "\n",
      "           0       0.91      1.00      0.96        43\n",
      "           1       1.00      0.76      0.87        17\n",
      "\n",
      "    accuracy                           0.93        60\n",
      "   macro avg       0.96      0.88      0.91        60\n",
      "weighted avg       0.94      0.93      0.93        60\n",
      "\n",
      "Accuracy Score: 0.9333333333333333\n",
      "Precision Score: 1.0\n",
      "Recall Score: 0.7647058823529411\n",
      "F1 Score: 0.8666666666666666\n",
      "roc_auc_score:  0.8823529411764706\n"
     ]
    }
   ],
   "source": [
    "print(\"Classification Report:\\n\", classification_report(y_test, r_pred))\n",
    "\n",
    "print(f'Accuracy Score: {accuracy_score(y_test, r_pred)}')\n",
    "print(f'Precision Score: {precision_score(y_test,r_pred)}')\n",
    "print(f'Recall Score: {recall_score(y_test,r_pred)}')\n",
    "print(\"F1 Score:\",f1_score(y_test,r_pred))\n",
    "print(\"roc_auc_score: \", roc_auc_score(y_test, r_pred))"
   ]
  },
  {
   "cell_type": "code",
   "execution_count": null,
   "metadata": {},
   "outputs": [],
   "source": [
    "# xgbrf classifier\n",
    "\n",
    "xgb_clf = xgboost.XGBRFClassifier(max_depth=3, random_state=1)\n",
    "xgb_clf.fit(x_train,y_train)\n",
    "xgb_pred = xgb_clf.predict(x_test)\n",
    "xgb_acc = accuracy_score(y_test, xgb_pred)\n",
    "accuracy_list.append(100*xgb_acc)"
   ]
  },
  {
   "cell_type": "code",
   "execution_count": null,
   "metadata": {},
   "outputs": [
    {
     "name": "stdout",
     "output_type": "stream",
     "text": [
      "Accuracy of XGBRFClassifier is :  91.67%\n"
     ]
    }
   ],
   "source": [
    "print(\"Accuracy of XGBRFClassifier is : \", \"{:.2f}%\".format(100* xgb_acc))"
   ]
  },
  {
   "cell_type": "code",
   "execution_count": null,
   "metadata": {},
   "outputs": [
    {
     "data": {
      "text/plain": [
       "<Figure size 1440x576 with 0 Axes>"
      ]
     },
     "metadata": {},
     "output_type": "display_data"
    },
    {
     "data": {
      "image/png": "[encoded data removed]",
      "text/plain": [
       "<Figure size 864x576 with 1 Axes>"
      ]
     },
     "metadata": {},
     "output_type": "display_data"
    }
   ],
   "source": [
    "cm = confusion_matrix(y_test, xgb_pred)\n",
    "plt.figure()\n",
    "plot_confusion_matrix(cm, figsize=(12,8), hide_ticks=True, cmap='coolwarm')\n",
    "plt.title(\"XGBRFClassifier Model - Confusion Matrix\\nAccuracy:{:.3f}\".format(accuracy_score(y_test, xgb_pred)), fontsize=14)\n",
    "plt.xticks(range(2), [\"Heart Not Failed\",\"Heart Fail\"], fontsize=16)\n",
    "plt.yticks(range(2), [\"Heart Not Failed\",\"Heart Fail\"], fontsize=16)\n",
    "plt.show()"
   ]
  },
  {
   "cell_type": "code",
   "execution_count": null,
   "metadata": {},
   "outputs": [
    {
     "name": "stdout",
     "output_type": "stream",
     "text": [
      "Classification Report:\n",
      "               precision    recall  f1-score   support\n",
      "\n",
      "           0       0.90      1.00      0.95        43\n",
      "           1       1.00      0.71      0.83        17\n",
      "\n",
      "    accuracy                           0.92        60\n",
      "   macro avg       0.95      0.85      0.89        60\n",
      "weighted avg       0.93      0.92      0.91        60\n",
      "\n",
      "Accuracy Score: 0.9166666666666666\n",
      "Precision Score: 1.0\n",
      "Recall Score: 0.7058823529411765\n",
      "F1 Score: 0.8275862068965517\n",
      "roc_auc_score:  0.8529411764705883\n"
     ]
    }
   ],
   "source": [
    "print(\"Classification Report:\\n\", classification_report(y_test, xgb_pred))\n",
    "\n",
    "print(f'Accuracy Score: {accuracy_score(y_test, xgb_pred)}')\n",
    "print(f'Precision Score: {precision_score(y_test,xgb_pred)}')\n",
    "print(f'Recall Score: {recall_score(y_test,xgb_pred)}')\n",
    "print(\"F1 Score:\",f1_score(y_test,xgb_pred))\n",
    "print(\"roc_auc_score: \", roc_auc_score(y_test, xgb_pred))"
   ]
  },
  {
   "cell_type": "markdown",
   "metadata": {},
   "source": [
    "Naive Bayes"
   ]
  },
  {
   "cell_type": "code",
   "execution_count": null,
   "metadata": {},
   "outputs": [],
   "source": [
    "NB = GaussianNB()\n",
    "model_NB = NB.fit(x_train, y_train)\n",
    "nb_pred = model_NB.predict(x_test)\n",
    "nb_acc = accuracy_score(y_test, nb_pred)\n",
    "accuracy_list.append(100*nb_acc)"
   ]
  },
  {
   "cell_type": "code",
   "execution_count": null,
   "metadata": {},
   "outputs": [
    {
     "name": "stdout",
     "output_type": "stream",
     "text": [
      "Accuracy of NBClassifier is :  78.33%\n"
     ]
    }
   ],
   "source": [
    "print(\"Accuracy of NBClassifier is : \", \"{:.2f}%\".format(100* nb_acc))"
   ]
  },
  {
   "cell_type": "code",
   "execution_count": null,
   "metadata": {},
   "outputs": [
    {
     "name": "stdout",
     "output_type": "stream",
     "text": [
      "Cross-validation scores:[0.72916667 0.70833333 0.72916667 0.77083333 0.76595745]\n",
      "Average cross-validation score: 0.740691489361702\n"
     ]
    }
   ],
   "source": [
    "scores = cross_val_score(NB, x_train, y_train, cv = 5, scoring='accuracy')\n",
    "print('Cross-validation scores:{}'.format(scores))\n",
    "print('Average cross-validation score: {}'.format(scores.mean()))"
   ]
  },
  {
   "cell_type": "code",
   "execution_count": null,
   "metadata": {},
   "outputs": [
    {
     "data": {
      "text/plain": [
       "<Figure size 1440x576 with 0 Axes>"
      ]
     },
     "metadata": {},
     "output_type": "display_data"
    },
    {
     "data": {
      "image/png": "[encoded data removed]",
      "text/plain": [
       "<Figure size 864x576 with 1 Axes>"
      ]
     },
     "metadata": {},
     "output_type": "display_data"
    }
   ],
   "source": [
    "cm = confusion_matrix(y_test, nb_pred)\n",
    "plt.figure()\n",
    "plot_confusion_matrix(cm, figsize=(12,8), hide_ticks=True, cmap='coolwarm')\n",
    "plt.title(\"XGBRFClassifier Model - Confusion Matrix\\nAccuracy:{:.3f}\".format(accuracy_score(y_test, nb_pred)), fontsize=14)\n",
    "plt.xticks(range(2), [\"Heart Not Failed\",\"Heart Fail\"], fontsize=16)\n",
    "plt.yticks(range(2), [\"Heart Not Failed\",\"Heart Fail\"], fontsize=16)\n",
    "plt.show()"
   ]
  },
  {
   "cell_type": "code",
   "execution_count": null,
   "metadata": {},
   "outputs": [
    {
     "name": "stdout",
     "output_type": "stream",
     "text": [
      "Classification Report:\n",
      "               precision    recall  f1-score   support\n",
      "\n",
      "           0       0.81      0.91      0.86        43\n",
      "           1       0.67      0.47      0.55        17\n",
      "\n",
      "    accuracy                           0.78        60\n",
      "   macro avg       0.74      0.69      0.70        60\n",
      "weighted avg       0.77      0.78      0.77        60\n",
      "\n",
      "Accuracy Score: 0.7833333333333333\n",
      "Precision Score: 0.6666666666666666\n",
      "Recall Score: 0.47058823529411764\n",
      "F1 Score: 0.5517241379310345\n",
      "roc_auc_score:  0.6887824897400822\n"
     ]
    }
   ],
   "source": [
    "print(\"Classification Report:\\n\", classification_report(y_test, nb_pred))\n",
    "\n",
    "print(f'Accuracy Score: {accuracy_score(y_test, nb_pred)}')\n",
    "print(f'Precision Score: {precision_score(y_test,nb_pred)}')\n",
    "print(f'Recall Score: {recall_score(y_test,nb_pred)}')\n",
    "print(\"F1 Score:\",f1_score(y_test,nb_pred))\n",
    "print(\"roc_auc_score: \", roc_auc_score(y_test, nb_pred))"
   ]
  },
  {
   "cell_type": "code",
   "execution_count": null,
   "metadata": {},
   "outputs": [],
   "source": [
    "model_list = ['Logistic Regression', 'SVC','KNearestNeighbours', 'DecisionTree', 'RandomForest',\n",
    "               'XGBRF', 'NaiveBayes']"
   ]
  },
  {
   "cell_type": "code",
   "execution_count": null,
   "metadata": {},
   "outputs": [
    {
     "data": {
      "image/png": "[encoded data removed]",
      "text/plain": [
       "<Figure size 1440x576 with 1 Axes>"
      ]
     },
     "metadata": {},
     "output_type": "display_data"
    }
   ],
   "source": [
    "plt.rcParams['figure.figsize']=20,8\n",
    "sns.set_style('darkgrid')\n",
    "ax = sns.barplot(x=model_list, y=accuracy_list, palette = \"husl\", saturation =2.0)\n",
    "plt.xlabel('Classifier Models', fontsize = 20 )\n",
    "plt.ylabel('% of Accuracy', fontsize = 20)\n",
    "plt.title('Perbedaan Akurasi dari Classification dengan Ensemble Model', fontsize = 20)\n",
    "plt.xticks(fontsize = 12, horizontalalignment = 'center', rotation = 8)\n",
    "plt.yticks(fontsize = 12)\n",
    "for i in ax.patches:\n",
    "    width, height = i.get_width(), i.get_height()\n",
    "    x, y = i.get_xy() \n",
    "    ax.annotate(f'{round(height,2)}%', (x + width/2, y + height*1.02), ha='center', fontsize = 'x-large')\n",
    "plt.show()"
   ]
  },
  {
   "cell_type": "code",
   "execution_count": null,
   "metadata": {},
   "outputs": [],
   "source": []
  }
 ],
 "metadata": {
  "kernelspec": {
   "display_name": "Python 3.9.9 64-bit",
   "language": "python",
   "name": "python3"
  },
  "language_info": {
   "codemirror_mode": {
    "name": "ipython",
    "version": 3
   },
   "file_extension": ".py",
   "mimetype": "text/x-python",
   "name": "python",
   "nbconvert_exporter": "python",
   "pygments_lexer": "ipython3",
   "version": "3.9.9"
  },
  "orig_nbformat": 4,
  "vscode": {
   "interpreter": {
    "hash": "14958d3aee5f1cad06795f787e54b96185c25fb40dfec723a5be941f3a531b8c"
   }
  }
 },
 "nbformat": 4,
 "nbformat_minor": 2
}
