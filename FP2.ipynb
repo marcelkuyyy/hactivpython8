{
 "cells": [
  {
   "cell_type": "markdown",
   "metadata": {},
   "source": [
    "# A. Final Project 2 kelompok 3\n",
    "---\n",
    "Anggota kelompok : <br>\n",
    "<ol>\n",
    "<li>Alif Faqiih             PYTN-KS12-024</li>\n",
    "<li>Syarif Khoirul Al Fian  PYTN-KS12-009</li>\n",
    "<li>Marcel Afandi           PYTN-KS12-018</li>\n",
    "<ol>\n"
   ]
  },
  {
   "cell_type": "markdown",
   "metadata": {},
   "source": [
    "# B. Library yang dibutuhkan"
   ]
  },
  {
   "cell_type": "code",
   "execution_count": 1,
   "metadata": {},
   "outputs": [],
   "source": [
    "import pandas as pd\n",
    "import numpy as np\n",
    "\n",
    "import seaborn as sns\n",
    "import matplotlib as mpl\n",
    "import matplotlib.pyplot as plt\n",
    "\n",
    "from scipy import stats\n",
    "from sklearn import preprocessing\n",
    "\n",
    "from sklearn.feature_selection import SelectKBest, chi2\n",
    "from sklearn.linear_model import LogisticRegression\n",
    "from sklearn.ensemble import RandomForestClassifier\n",
    "from sklearn.tree import DecisionTreeClassifier\n",
    "from sklearn import svm\n",
    "from sklearn.model_selection import train_test_split\n",
    "from sklearn.metrics import accuracy_score\n",
    "import time"
   ]
  },
  {
   "cell_type": "markdown",
   "metadata": {},
   "source": [
    "# C. Data Loading"
   ]
  },
  {
   "cell_type": "code",
   "execution_count": 2,
   "metadata": {},
   "outputs": [],
   "source": [
    "data = pd.read_csv(\"D:\\\\\\\\semester 6\\\\proakh\\\\weatherAUS.csv\")"
   ]
  },
  {
   "cell_type": "code",
   "execution_count": 3,
   "metadata": {},
   "outputs": [
    {
     "data": {
      "text/html": [
       "<div>\n",
       "<style scoped>\n",
       "    .dataframe tbody tr th:only-of-type {\n",
       "        vertical-align: middle;\n",
       "    }\n",
       "\n",
       "    .dataframe tbody tr th {\n",
       "        vertical-align: top;\n",
       "    }\n",
       "\n",
       "    .dataframe thead th {\n",
       "        text-align: right;\n",
       "    }\n",
       "</style>\n",
       "<table border=\"1\" class=\"dataframe\">\n",
       "  <thead>\n",
       "    <tr style=\"text-align: right;\">\n",
       "      <th></th>\n",
       "      <th>Date</th>\n",
       "      <th>Location</th>\n",
       "      <th>MinTemp</th>\n",
       "      <th>MaxTemp</th>\n",
       "      <th>Rainfall</th>\n",
       "      <th>Evaporation</th>\n",
       "      <th>Sunshine</th>\n",
       "      <th>WindGustDir</th>\n",
       "      <th>WindGustSpeed</th>\n",
       "      <th>WindDir9am</th>\n",
       "      <th>...</th>\n",
       "      <th>Humidity9am</th>\n",
       "      <th>Humidity3pm</th>\n",
       "      <th>Pressure9am</th>\n",
       "      <th>Pressure3pm</th>\n",
       "      <th>Cloud9am</th>\n",
       "      <th>Cloud3pm</th>\n",
       "      <th>Temp9am</th>\n",
       "      <th>Temp3pm</th>\n",
       "      <th>RainToday</th>\n",
       "      <th>RainTomorrow</th>\n",
       "    </tr>\n",
       "  </thead>\n",
       "  <tbody>\n",
       "    <tr>\n",
       "      <th>0</th>\n",
       "      <td>2008-12-01</td>\n",
       "      <td>Albury</td>\n",
       "      <td>13.4</td>\n",
       "      <td>22.9</td>\n",
       "      <td>0.6</td>\n",
       "      <td>NaN</td>\n",
       "      <td>NaN</td>\n",
       "      <td>W</td>\n",
       "      <td>44.0</td>\n",
       "      <td>W</td>\n",
       "      <td>...</td>\n",
       "      <td>71.0</td>\n",
       "      <td>22.0</td>\n",
       "      <td>1007.7</td>\n",
       "      <td>1007.1</td>\n",
       "      <td>8.0</td>\n",
       "      <td>NaN</td>\n",
       "      <td>16.9</td>\n",
       "      <td>21.8</td>\n",
       "      <td>No</td>\n",
       "      <td>No</td>\n",
       "    </tr>\n",
       "    <tr>\n",
       "      <th>1</th>\n",
       "      <td>2008-12-02</td>\n",
       "      <td>Albury</td>\n",
       "      <td>7.4</td>\n",
       "      <td>25.1</td>\n",
       "      <td>0.0</td>\n",
       "      <td>NaN</td>\n",
       "      <td>NaN</td>\n",
       "      <td>WNW</td>\n",
       "      <td>44.0</td>\n",
       "      <td>NNW</td>\n",
       "      <td>...</td>\n",
       "      <td>44.0</td>\n",
       "      <td>25.0</td>\n",
       "      <td>1010.6</td>\n",
       "      <td>1007.8</td>\n",
       "      <td>NaN</td>\n",
       "      <td>NaN</td>\n",
       "      <td>17.2</td>\n",
       "      <td>24.3</td>\n",
       "      <td>No</td>\n",
       "      <td>No</td>\n",
       "    </tr>\n",
       "    <tr>\n",
       "      <th>2</th>\n",
       "      <td>2008-12-03</td>\n",
       "      <td>Albury</td>\n",
       "      <td>12.9</td>\n",
       "      <td>25.7</td>\n",
       "      <td>0.0</td>\n",
       "      <td>NaN</td>\n",
       "      <td>NaN</td>\n",
       "      <td>WSW</td>\n",
       "      <td>46.0</td>\n",
       "      <td>W</td>\n",
       "      <td>...</td>\n",
       "      <td>38.0</td>\n",
       "      <td>30.0</td>\n",
       "      <td>1007.6</td>\n",
       "      <td>1008.7</td>\n",
       "      <td>NaN</td>\n",
       "      <td>2.0</td>\n",
       "      <td>21.0</td>\n",
       "      <td>23.2</td>\n",
       "      <td>No</td>\n",
       "      <td>No</td>\n",
       "    </tr>\n",
       "    <tr>\n",
       "      <th>3</th>\n",
       "      <td>2008-12-04</td>\n",
       "      <td>Albury</td>\n",
       "      <td>9.2</td>\n",
       "      <td>28.0</td>\n",
       "      <td>0.0</td>\n",
       "      <td>NaN</td>\n",
       "      <td>NaN</td>\n",
       "      <td>NE</td>\n",
       "      <td>24.0</td>\n",
       "      <td>SE</td>\n",
       "      <td>...</td>\n",
       "      <td>45.0</td>\n",
       "      <td>16.0</td>\n",
       "      <td>1017.6</td>\n",
       "      <td>1012.8</td>\n",
       "      <td>NaN</td>\n",
       "      <td>NaN</td>\n",
       "      <td>18.1</td>\n",
       "      <td>26.5</td>\n",
       "      <td>No</td>\n",
       "      <td>No</td>\n",
       "    </tr>\n",
       "    <tr>\n",
       "      <th>4</th>\n",
       "      <td>2008-12-05</td>\n",
       "      <td>Albury</td>\n",
       "      <td>17.5</td>\n",
       "      <td>32.3</td>\n",
       "      <td>1.0</td>\n",
       "      <td>NaN</td>\n",
       "      <td>NaN</td>\n",
       "      <td>W</td>\n",
       "      <td>41.0</td>\n",
       "      <td>ENE</td>\n",
       "      <td>...</td>\n",
       "      <td>82.0</td>\n",
       "      <td>33.0</td>\n",
       "      <td>1010.8</td>\n",
       "      <td>1006.0</td>\n",
       "      <td>7.0</td>\n",
       "      <td>8.0</td>\n",
       "      <td>17.8</td>\n",
       "      <td>29.7</td>\n",
       "      <td>No</td>\n",
       "      <td>No</td>\n",
       "    </tr>\n",
       "  </tbody>\n",
       "</table>\n",
       "<p>5 rows × 23 columns</p>\n",
       "</div>"
      ],
      "text/plain": [
       "         Date Location  MinTemp  MaxTemp  Rainfall  Evaporation  Sunshine  \\\n",
       "0  2008-12-01   Albury     13.4     22.9       0.6          NaN       NaN   \n",
       "1  2008-12-02   Albury      7.4     25.1       0.0          NaN       NaN   \n",
       "2  2008-12-03   Albury     12.9     25.7       0.0          NaN       NaN   \n",
       "3  2008-12-04   Albury      9.2     28.0       0.0          NaN       NaN   \n",
       "4  2008-12-05   Albury     17.5     32.3       1.0          NaN       NaN   \n",
       "\n",
       "  WindGustDir  WindGustSpeed WindDir9am  ... Humidity9am  Humidity3pm  \\\n",
       "0           W           44.0          W  ...        71.0         22.0   \n",
       "1         WNW           44.0        NNW  ...        44.0         25.0   \n",
       "2         WSW           46.0          W  ...        38.0         30.0   \n",
       "3          NE           24.0         SE  ...        45.0         16.0   \n",
       "4           W           41.0        ENE  ...        82.0         33.0   \n",
       "\n",
       "   Pressure9am  Pressure3pm  Cloud9am  Cloud3pm  Temp9am  Temp3pm  RainToday  \\\n",
       "0       1007.7       1007.1       8.0       NaN     16.9     21.8         No   \n",
       "1       1010.6       1007.8       NaN       NaN     17.2     24.3         No   \n",
       "2       1007.6       1008.7       NaN       2.0     21.0     23.2         No   \n",
       "3       1017.6       1012.8       NaN       NaN     18.1     26.5         No   \n",
       "4       1010.8       1006.0       7.0       8.0     17.8     29.7         No   \n",
       "\n",
       "   RainTomorrow  \n",
       "0            No  \n",
       "1            No  \n",
       "2            No  \n",
       "3            No  \n",
       "4            No  \n",
       "\n",
       "[5 rows x 23 columns]"
      ]
     },
     "execution_count": 3,
     "metadata": {},
     "output_type": "execute_result"
    }
   ],
   "source": [
    "data.head()"
   ]
  },
  {
   "cell_type": "code",
   "execution_count": 4,
   "metadata": {},
   "outputs": [
    {
     "data": {
      "text/plain": [
       "(145460, 23)"
      ]
     },
     "execution_count": 4,
     "metadata": {},
     "output_type": "execute_result"
    }
   ],
   "source": [
    "data.shape"
   ]
  },
  {
   "cell_type": "code",
   "execution_count": 5,
   "metadata": {},
   "outputs": [
    {
     "name": "stdout",
     "output_type": "stream",
     "text": [
      "<class 'pandas.core.frame.DataFrame'>\n",
      "RangeIndex: 145460 entries, 0 to 145459\n",
      "Data columns (total 23 columns):\n",
      " #   Column         Non-Null Count   Dtype  \n",
      "---  ------         --------------   -----  \n",
      " 0   Date           145460 non-null  object \n",
      " 1   Location       145460 non-null  object \n",
      " 2   MinTemp        143975 non-null  float64\n",
      " 3   MaxTemp        144199 non-null  float64\n",
      " 4   Rainfall       142199 non-null  float64\n",
      " 5   Evaporation    82670 non-null   float64\n",
      " 6   Sunshine       75625 non-null   float64\n",
      " 7   WindGustDir    135134 non-null  object \n",
      " 8   WindGustSpeed  135197 non-null  float64\n",
      " 9   WindDir9am     134894 non-null  object \n",
      " 10  WindDir3pm     141232 non-null  object \n",
      " 11  WindSpeed9am   143693 non-null  float64\n",
      " 12  WindSpeed3pm   142398 non-null  float64\n",
      " 13  Humidity9am    142806 non-null  float64\n",
      " 14  Humidity3pm    140953 non-null  float64\n",
      " 15  Pressure9am    130395 non-null  float64\n",
      " 16  Pressure3pm    130432 non-null  float64\n",
      " 17  Cloud9am       89572 non-null   float64\n",
      " 18  Cloud3pm       86102 non-null   float64\n",
      " 19  Temp9am        143693 non-null  float64\n",
      " 20  Temp3pm        141851 non-null  float64\n",
      " 21  RainToday      142199 non-null  object \n",
      " 22  RainTomorrow   142193 non-null  object \n",
      "dtypes: float64(16), object(7)\n",
      "memory usage: 25.5+ MB\n"
     ]
    }
   ],
   "source": [
    "data.info()"
   ]
  },
  {
   "cell_type": "markdown",
   "metadata": {},
   "source": [
    "# D. Data Cleaning"
   ]
  },
  {
   "cell_type": "code",
   "execution_count": 6,
   "metadata": {},
   "outputs": [
    {
     "data": {
      "text/plain": [
       "Date                 0\n",
       "Location             0\n",
       "MinTemp           1485\n",
       "MaxTemp           1261\n",
       "Rainfall          3261\n",
       "Evaporation      62790\n",
       "Sunshine         69835\n",
       "WindGustDir      10326\n",
       "WindGustSpeed    10263\n",
       "WindDir9am       10566\n",
       "WindDir3pm        4228\n",
       "WindSpeed9am      1767\n",
       "WindSpeed3pm      3062\n",
       "Humidity9am       2654\n",
       "Humidity3pm       4507\n",
       "Pressure9am      15065\n",
       "Pressure3pm      15028\n",
       "Cloud9am         55888\n",
       "Cloud3pm         59358\n",
       "Temp9am           1767\n",
       "Temp3pm           3609\n",
       "RainToday         3261\n",
       "RainTomorrow      3267\n",
       "dtype: int64"
      ]
     },
     "execution_count": 6,
     "metadata": {},
     "output_type": "execute_result"
    }
   ],
   "source": [
    "data.isnull().sum()"
   ]
  },
  {
   "cell_type": "code",
   "execution_count": 9,
   "metadata": {},
   "outputs": [],
   "source": [
    "#Mengisi data yang missing value\n",
    "data.dropna(axis=0,inplace=True)"
   ]
  },
  {
   "cell_type": "code",
   "execution_count": 10,
   "metadata": {},
   "outputs": [
    {
     "data": {
      "text/plain": [
       "0"
      ]
     },
     "execution_count": 10,
     "metadata": {},
     "output_type": "execute_result"
    }
   ],
   "source": [
    "data.isnull().sum().sum()"
   ]
  },
  {
   "cell_type": "code",
   "execution_count": 11,
   "metadata": {},
   "outputs": [
    {
     "data": {
      "text/plain": [
       "Date             0\n",
       "Location         0\n",
       "MinTemp          0\n",
       "MaxTemp          0\n",
       "Rainfall         0\n",
       "Evaporation      0\n",
       "Sunshine         0\n",
       "WindGustDir      0\n",
       "WindGustSpeed    0\n",
       "WindDir9am       0\n",
       "WindDir3pm       0\n",
       "WindSpeed9am     0\n",
       "WindSpeed3pm     0\n",
       "Humidity9am      0\n",
       "Humidity3pm      0\n",
       "Pressure9am      0\n",
       "Pressure3pm      0\n",
       "Cloud9am         0\n",
       "Cloud3pm         0\n",
       "Temp9am          0\n",
       "Temp3pm          0\n",
       "RainToday        0\n",
       "RainTomorrow     0\n",
       "dtype: int64"
      ]
     },
     "execution_count": 11,
     "metadata": {},
     "output_type": "execute_result"
    }
   ],
   "source": [
    "data.isna().sum()"
   ]
  },
  {
   "cell_type": "markdown",
   "metadata": {},
   "source": [
    "Terdapat missing value pada kolom price sebanyak 343248, maka dari itu dilakukan drop secara menyeluruh"
   ]
  },
  {
   "cell_type": "code",
   "execution_count": 12,
   "metadata": {},
   "outputs": [
    {
     "data": {
      "text/plain": [
       "No     43958\n",
       "Yes    12462\n",
       "Name: RainToday, dtype: int64"
      ]
     },
     "execution_count": 12,
     "metadata": {},
     "output_type": "execute_result"
    }
   ],
   "source": [
    "# Show the values of  RainToday column\n",
    "data[\"RainToday\"].value_counts()"
   ]
  },
  {
   "cell_type": "markdown",
   "metadata": {},
   "source": [
    " # E. Explorating Data"
   ]
  },
  {
   "cell_type": "markdown",
   "metadata": {},
   "source": [
    "## 1. Data Query"
   ]
  },
  {
   "cell_type": "code",
   "execution_count": 13,
   "metadata": {},
   "outputs": [
    {
     "data": {
      "text/html": [
       "<div>\n",
       "<style scoped>\n",
       "    .dataframe tbody tr th:only-of-type {\n",
       "        vertical-align: middle;\n",
       "    }\n",
       "\n",
       "    .dataframe tbody tr th {\n",
       "        vertical-align: top;\n",
       "    }\n",
       "\n",
       "    .dataframe thead th {\n",
       "        text-align: right;\n",
       "    }\n",
       "</style>\n",
       "<table border=\"1\" class=\"dataframe\">\n",
       "  <thead>\n",
       "    <tr style=\"text-align: right;\">\n",
       "      <th></th>\n",
       "      <th>Date</th>\n",
       "      <th>Location</th>\n",
       "      <th>MinTemp</th>\n",
       "      <th>MaxTemp</th>\n",
       "      <th>Rainfall</th>\n",
       "      <th>Evaporation</th>\n",
       "      <th>Sunshine</th>\n",
       "      <th>WindGustDir</th>\n",
       "      <th>WindGustSpeed</th>\n",
       "      <th>WindDir9am</th>\n",
       "      <th>...</th>\n",
       "      <th>Humidity9am</th>\n",
       "      <th>Humidity3pm</th>\n",
       "      <th>Pressure9am</th>\n",
       "      <th>Pressure3pm</th>\n",
       "      <th>Cloud9am</th>\n",
       "      <th>Cloud3pm</th>\n",
       "      <th>Temp9am</th>\n",
       "      <th>Temp3pm</th>\n",
       "      <th>RainToday</th>\n",
       "      <th>RainTomorrow</th>\n",
       "    </tr>\n",
       "  </thead>\n",
       "  <tbody>\n",
       "    <tr>\n",
       "      <th>142298</th>\n",
       "      <td>2017-06-20</td>\n",
       "      <td>Darwin</td>\n",
       "      <td>19.3</td>\n",
       "      <td>33.4</td>\n",
       "      <td>0.0</td>\n",
       "      <td>6.0</td>\n",
       "      <td>11.0</td>\n",
       "      <td>ENE</td>\n",
       "      <td>35.0</td>\n",
       "      <td>SE</td>\n",
       "      <td>...</td>\n",
       "      <td>63.0</td>\n",
       "      <td>32.0</td>\n",
       "      <td>1013.9</td>\n",
       "      <td>1010.5</td>\n",
       "      <td>0.0</td>\n",
       "      <td>1.0</td>\n",
       "      <td>24.5</td>\n",
       "      <td>32.3</td>\n",
       "      <td>No</td>\n",
       "      <td>No</td>\n",
       "    </tr>\n",
       "    <tr>\n",
       "      <th>142299</th>\n",
       "      <td>2017-06-21</td>\n",
       "      <td>Darwin</td>\n",
       "      <td>21.2</td>\n",
       "      <td>32.6</td>\n",
       "      <td>0.0</td>\n",
       "      <td>7.6</td>\n",
       "      <td>8.6</td>\n",
       "      <td>E</td>\n",
       "      <td>37.0</td>\n",
       "      <td>SE</td>\n",
       "      <td>...</td>\n",
       "      <td>56.0</td>\n",
       "      <td>28.0</td>\n",
       "      <td>1014.6</td>\n",
       "      <td>1011.2</td>\n",
       "      <td>7.0</td>\n",
       "      <td>0.0</td>\n",
       "      <td>24.8</td>\n",
       "      <td>32.0</td>\n",
       "      <td>No</td>\n",
       "      <td>No</td>\n",
       "    </tr>\n",
       "    <tr>\n",
       "      <th>142300</th>\n",
       "      <td>2017-06-22</td>\n",
       "      <td>Darwin</td>\n",
       "      <td>20.7</td>\n",
       "      <td>32.8</td>\n",
       "      <td>0.0</td>\n",
       "      <td>5.6</td>\n",
       "      <td>11.0</td>\n",
       "      <td>E</td>\n",
       "      <td>33.0</td>\n",
       "      <td>E</td>\n",
       "      <td>...</td>\n",
       "      <td>46.0</td>\n",
       "      <td>23.0</td>\n",
       "      <td>1015.3</td>\n",
       "      <td>1011.8</td>\n",
       "      <td>0.0</td>\n",
       "      <td>0.0</td>\n",
       "      <td>24.8</td>\n",
       "      <td>32.1</td>\n",
       "      <td>No</td>\n",
       "      <td>No</td>\n",
       "    </tr>\n",
       "    <tr>\n",
       "      <th>142301</th>\n",
       "      <td>2017-06-23</td>\n",
       "      <td>Darwin</td>\n",
       "      <td>19.5</td>\n",
       "      <td>31.8</td>\n",
       "      <td>0.0</td>\n",
       "      <td>6.2</td>\n",
       "      <td>10.6</td>\n",
       "      <td>ESE</td>\n",
       "      <td>26.0</td>\n",
       "      <td>SE</td>\n",
       "      <td>...</td>\n",
       "      <td>62.0</td>\n",
       "      <td>58.0</td>\n",
       "      <td>1014.9</td>\n",
       "      <td>1010.7</td>\n",
       "      <td>1.0</td>\n",
       "      <td>1.0</td>\n",
       "      <td>24.8</td>\n",
       "      <td>29.2</td>\n",
       "      <td>No</td>\n",
       "      <td>No</td>\n",
       "    </tr>\n",
       "    <tr>\n",
       "      <th>142302</th>\n",
       "      <td>2017-06-24</td>\n",
       "      <td>Darwin</td>\n",
       "      <td>20.2</td>\n",
       "      <td>31.7</td>\n",
       "      <td>0.0</td>\n",
       "      <td>5.6</td>\n",
       "      <td>10.7</td>\n",
       "      <td>ENE</td>\n",
       "      <td>30.0</td>\n",
       "      <td>ENE</td>\n",
       "      <td>...</td>\n",
       "      <td>73.0</td>\n",
       "      <td>32.0</td>\n",
       "      <td>1013.9</td>\n",
       "      <td>1009.7</td>\n",
       "      <td>6.0</td>\n",
       "      <td>5.0</td>\n",
       "      <td>25.4</td>\n",
       "      <td>31.0</td>\n",
       "      <td>No</td>\n",
       "      <td>No</td>\n",
       "    </tr>\n",
       "  </tbody>\n",
       "</table>\n",
       "<p>5 rows × 23 columns</p>\n",
       "</div>"
      ],
      "text/plain": [
       "              Date Location  MinTemp  MaxTemp  Rainfall  Evaporation  \\\n",
       "142298  2017-06-20   Darwin     19.3     33.4       0.0          6.0   \n",
       "142299  2017-06-21   Darwin     21.2     32.6       0.0          7.6   \n",
       "142300  2017-06-22   Darwin     20.7     32.8       0.0          5.6   \n",
       "142301  2017-06-23   Darwin     19.5     31.8       0.0          6.2   \n",
       "142302  2017-06-24   Darwin     20.2     31.7       0.0          5.6   \n",
       "\n",
       "        Sunshine WindGustDir  WindGustSpeed WindDir9am  ... Humidity9am  \\\n",
       "142298      11.0         ENE           35.0         SE  ...        63.0   \n",
       "142299       8.6           E           37.0         SE  ...        56.0   \n",
       "142300      11.0           E           33.0          E  ...        46.0   \n",
       "142301      10.6         ESE           26.0         SE  ...        62.0   \n",
       "142302      10.7         ENE           30.0        ENE  ...        73.0   \n",
       "\n",
       "        Humidity3pm  Pressure9am  Pressure3pm  Cloud9am  Cloud3pm  Temp9am  \\\n",
       "142298         32.0       1013.9       1010.5       0.0       1.0     24.5   \n",
       "142299         28.0       1014.6       1011.2       7.0       0.0     24.8   \n",
       "142300         23.0       1015.3       1011.8       0.0       0.0     24.8   \n",
       "142301         58.0       1014.9       1010.7       1.0       1.0     24.8   \n",
       "142302         32.0       1013.9       1009.7       6.0       5.0     25.4   \n",
       "\n",
       "        Temp3pm  RainToday  RainTomorrow  \n",
       "142298     32.3         No            No  \n",
       "142299     32.0         No            No  \n",
       "142300     32.1         No            No  \n",
       "142301     29.2         No            No  \n",
       "142302     31.0         No            No  \n",
       "\n",
       "[5 rows x 23 columns]"
      ]
     },
     "execution_count": 13,
     "metadata": {},
     "output_type": "execute_result"
    }
   ],
   "source": [
    "data.tail()"
   ]
  },
  {
   "cell_type": "code",
   "execution_count": 14,
   "metadata": {},
   "outputs": [
    {
     "data": {
      "text/html": [
       "<div>\n",
       "<style scoped>\n",
       "    .dataframe tbody tr th:only-of-type {\n",
       "        vertical-align: middle;\n",
       "    }\n",
       "\n",
       "    .dataframe tbody tr th {\n",
       "        vertical-align: top;\n",
       "    }\n",
       "\n",
       "    .dataframe thead th {\n",
       "        text-align: right;\n",
       "    }\n",
       "</style>\n",
       "<table border=\"1\" class=\"dataframe\">\n",
       "  <thead>\n",
       "    <tr style=\"text-align: right;\">\n",
       "      <th></th>\n",
       "      <th>Date</th>\n",
       "      <th>Location</th>\n",
       "      <th>MinTemp</th>\n",
       "      <th>MaxTemp</th>\n",
       "      <th>Rainfall</th>\n",
       "      <th>Evaporation</th>\n",
       "      <th>Sunshine</th>\n",
       "      <th>WindGustDir</th>\n",
       "      <th>WindGustSpeed</th>\n",
       "      <th>WindDir9am</th>\n",
       "      <th>...</th>\n",
       "      <th>Humidity9am</th>\n",
       "      <th>Humidity3pm</th>\n",
       "      <th>Pressure9am</th>\n",
       "      <th>Pressure3pm</th>\n",
       "      <th>Cloud9am</th>\n",
       "      <th>Cloud3pm</th>\n",
       "      <th>Temp9am</th>\n",
       "      <th>Temp3pm</th>\n",
       "      <th>RainToday</th>\n",
       "      <th>RainTomorrow</th>\n",
       "    </tr>\n",
       "  </thead>\n",
       "  <tbody>\n",
       "    <tr>\n",
       "      <th>6052</th>\n",
       "      <td>2009-01-04</td>\n",
       "      <td>Cobar</td>\n",
       "      <td>19.4</td>\n",
       "      <td>37.6</td>\n",
       "      <td>0.0</td>\n",
       "      <td>10.8</td>\n",
       "      <td>10.6</td>\n",
       "      <td>NNE</td>\n",
       "      <td>46.0</td>\n",
       "      <td>NNE</td>\n",
       "      <td>...</td>\n",
       "      <td>42.0</td>\n",
       "      <td>22.0</td>\n",
       "      <td>1012.3</td>\n",
       "      <td>1009.2</td>\n",
       "      <td>1.0</td>\n",
       "      <td>6.0</td>\n",
       "      <td>28.7</td>\n",
       "      <td>34.9</td>\n",
       "      <td>No</td>\n",
       "      <td>No</td>\n",
       "    </tr>\n",
       "    <tr>\n",
       "      <th>6054</th>\n",
       "      <td>2009-01-06</td>\n",
       "      <td>Cobar</td>\n",
       "      <td>24.2</td>\n",
       "      <td>41.0</td>\n",
       "      <td>0.0</td>\n",
       "      <td>11.2</td>\n",
       "      <td>8.4</td>\n",
       "      <td>WNW</td>\n",
       "      <td>35.0</td>\n",
       "      <td>NW</td>\n",
       "      <td>...</td>\n",
       "      <td>19.0</td>\n",
       "      <td>15.0</td>\n",
       "      <td>1010.7</td>\n",
       "      <td>1007.4</td>\n",
       "      <td>1.0</td>\n",
       "      <td>6.0</td>\n",
       "      <td>33.6</td>\n",
       "      <td>37.6</td>\n",
       "      <td>No</td>\n",
       "      <td>No</td>\n",
       "    </tr>\n",
       "    <tr>\n",
       "      <th>6063</th>\n",
       "      <td>2009-01-15</td>\n",
       "      <td>Cobar</td>\n",
       "      <td>25.2</td>\n",
       "      <td>40.5</td>\n",
       "      <td>0.0</td>\n",
       "      <td>16.4</td>\n",
       "      <td>10.3</td>\n",
       "      <td>SW</td>\n",
       "      <td>44.0</td>\n",
       "      <td>W</td>\n",
       "      <td>...</td>\n",
       "      <td>24.0</td>\n",
       "      <td>15.0</td>\n",
       "      <td>1012.4</td>\n",
       "      <td>1009.0</td>\n",
       "      <td>4.0</td>\n",
       "      <td>6.0</td>\n",
       "      <td>31.4</td>\n",
       "      <td>37.8</td>\n",
       "      <td>No</td>\n",
       "      <td>No</td>\n",
       "    </tr>\n",
       "    <tr>\n",
       "      <th>6067</th>\n",
       "      <td>2009-01-19</td>\n",
       "      <td>Cobar</td>\n",
       "      <td>21.4</td>\n",
       "      <td>37.5</td>\n",
       "      <td>0.0</td>\n",
       "      <td>14.8</td>\n",
       "      <td>6.9</td>\n",
       "      <td>NNE</td>\n",
       "      <td>43.0</td>\n",
       "      <td>ENE</td>\n",
       "      <td>...</td>\n",
       "      <td>34.0</td>\n",
       "      <td>29.0</td>\n",
       "      <td>1013.1</td>\n",
       "      <td>1009.6</td>\n",
       "      <td>7.0</td>\n",
       "      <td>6.0</td>\n",
       "      <td>26.2</td>\n",
       "      <td>34.1</td>\n",
       "      <td>No</td>\n",
       "      <td>Yes</td>\n",
       "    </tr>\n",
       "    <tr>\n",
       "      <th>6091</th>\n",
       "      <td>2009-02-12</td>\n",
       "      <td>Cobar</td>\n",
       "      <td>14.5</td>\n",
       "      <td>30.1</td>\n",
       "      <td>0.0</td>\n",
       "      <td>9.6</td>\n",
       "      <td>10.0</td>\n",
       "      <td>S</td>\n",
       "      <td>37.0</td>\n",
       "      <td>S</td>\n",
       "      <td>...</td>\n",
       "      <td>44.0</td>\n",
       "      <td>25.0</td>\n",
       "      <td>1013.2</td>\n",
       "      <td>1010.0</td>\n",
       "      <td>6.0</td>\n",
       "      <td>6.0</td>\n",
       "      <td>17.4</td>\n",
       "      <td>28.4</td>\n",
       "      <td>No</td>\n",
       "      <td>No</td>\n",
       "    </tr>\n",
       "  </tbody>\n",
       "</table>\n",
       "<p>5 rows × 23 columns</p>\n",
       "</div>"
      ],
      "text/plain": [
       "            Date Location  MinTemp  MaxTemp  Rainfall  Evaporation  Sunshine  \\\n",
       "6052  2009-01-04    Cobar     19.4     37.6       0.0         10.8      10.6   \n",
       "6054  2009-01-06    Cobar     24.2     41.0       0.0         11.2       8.4   \n",
       "6063  2009-01-15    Cobar     25.2     40.5       0.0         16.4      10.3   \n",
       "6067  2009-01-19    Cobar     21.4     37.5       0.0         14.8       6.9   \n",
       "6091  2009-02-12    Cobar     14.5     30.1       0.0          9.6      10.0   \n",
       "\n",
       "     WindGustDir  WindGustSpeed WindDir9am  ... Humidity9am  Humidity3pm  \\\n",
       "6052         NNE           46.0        NNE  ...        42.0         22.0   \n",
       "6054         WNW           35.0         NW  ...        19.0         15.0   \n",
       "6063          SW           44.0          W  ...        24.0         15.0   \n",
       "6067         NNE           43.0        ENE  ...        34.0         29.0   \n",
       "6091           S           37.0          S  ...        44.0         25.0   \n",
       "\n",
       "      Pressure9am  Pressure3pm  Cloud9am  Cloud3pm  Temp9am  Temp3pm  \\\n",
       "6052       1012.3       1009.2       1.0       6.0     28.7     34.9   \n",
       "6054       1010.7       1007.4       1.0       6.0     33.6     37.6   \n",
       "6063       1012.4       1009.0       4.0       6.0     31.4     37.8   \n",
       "6067       1013.1       1009.6       7.0       6.0     26.2     34.1   \n",
       "6091       1013.2       1010.0       6.0       6.0     17.4     28.4   \n",
       "\n",
       "      RainToday  RainTomorrow  \n",
       "6052         No            No  \n",
       "6054         No            No  \n",
       "6063         No            No  \n",
       "6067         No           Yes  \n",
       "6091         No            No  \n",
       "\n",
       "[5 rows x 23 columns]"
      ]
     },
     "execution_count": 14,
     "metadata": {},
     "output_type": "execute_result"
    }
   ],
   "source": [
    "# Menampilkan data query Location Cobar dengan prediksi hujan NO pada 6.0 cloud3pm\n",
    "data[(data['Location'] == 'Cobar') & (data.RainToday == 'No') & (data.Cloud3pm == 6.0)].head(5)"
   ]
  },
  {
   "cell_type": "code",
   "execution_count": 15,
   "metadata": {},
   "outputs": [
    {
     "data": {
      "text/html": [
       "<div>\n",
       "<style scoped>\n",
       "    .dataframe tbody tr th:only-of-type {\n",
       "        vertical-align: middle;\n",
       "    }\n",
       "\n",
       "    .dataframe tbody tr th {\n",
       "        vertical-align: top;\n",
       "    }\n",
       "\n",
       "    .dataframe thead th {\n",
       "        text-align: right;\n",
       "    }\n",
       "</style>\n",
       "<table border=\"1\" class=\"dataframe\">\n",
       "  <thead>\n",
       "    <tr style=\"text-align: right;\">\n",
       "      <th></th>\n",
       "      <th>Date</th>\n",
       "      <th>Location</th>\n",
       "      <th>MinTemp</th>\n",
       "      <th>MaxTemp</th>\n",
       "      <th>Rainfall</th>\n",
       "      <th>Evaporation</th>\n",
       "      <th>Sunshine</th>\n",
       "      <th>WindGustDir</th>\n",
       "      <th>WindGustSpeed</th>\n",
       "      <th>WindDir9am</th>\n",
       "      <th>...</th>\n",
       "      <th>Humidity9am</th>\n",
       "      <th>Humidity3pm</th>\n",
       "      <th>Pressure9am</th>\n",
       "      <th>Pressure3pm</th>\n",
       "      <th>Cloud9am</th>\n",
       "      <th>Cloud3pm</th>\n",
       "      <th>Temp9am</th>\n",
       "      <th>Temp3pm</th>\n",
       "      <th>RainToday</th>\n",
       "      <th>RainTomorrow</th>\n",
       "    </tr>\n",
       "  </thead>\n",
       "  <tbody>\n",
       "    <tr>\n",
       "      <th>139195</th>\n",
       "      <td>2008-09-23</td>\n",
       "      <td>Darwin</td>\n",
       "      <td>23.8</td>\n",
       "      <td>32.5</td>\n",
       "      <td>0.0</td>\n",
       "      <td>7.2</td>\n",
       "      <td>8.3</td>\n",
       "      <td>ESE</td>\n",
       "      <td>39.0</td>\n",
       "      <td>NW</td>\n",
       "      <td>...</td>\n",
       "      <td>64.0</td>\n",
       "      <td>55.0</td>\n",
       "      <td>1014.3</td>\n",
       "      <td>1010.3</td>\n",
       "      <td>4.0</td>\n",
       "      <td>2.0</td>\n",
       "      <td>29.1</td>\n",
       "      <td>30.8</td>\n",
       "      <td>No</td>\n",
       "      <td>Yes</td>\n",
       "    </tr>\n",
       "    <tr>\n",
       "      <th>139209</th>\n",
       "      <td>2008-10-07</td>\n",
       "      <td>Darwin</td>\n",
       "      <td>26.7</td>\n",
       "      <td>34.0</td>\n",
       "      <td>0.0</td>\n",
       "      <td>7.6</td>\n",
       "      <td>10.3</td>\n",
       "      <td>S</td>\n",
       "      <td>57.0</td>\n",
       "      <td>E</td>\n",
       "      <td>...</td>\n",
       "      <td>61.0</td>\n",
       "      <td>55.0</td>\n",
       "      <td>1013.3</td>\n",
       "      <td>1008.8</td>\n",
       "      <td>3.0</td>\n",
       "      <td>3.0</td>\n",
       "      <td>30.5</td>\n",
       "      <td>32.6</td>\n",
       "      <td>No</td>\n",
       "      <td>Yes</td>\n",
       "    </tr>\n",
       "    <tr>\n",
       "      <th>139216</th>\n",
       "      <td>2008-10-14</td>\n",
       "      <td>Darwin</td>\n",
       "      <td>26.5</td>\n",
       "      <td>34.8</td>\n",
       "      <td>0.0</td>\n",
       "      <td>7.6</td>\n",
       "      <td>8.1</td>\n",
       "      <td>N</td>\n",
       "      <td>41.0</td>\n",
       "      <td>NNW</td>\n",
       "      <td>...</td>\n",
       "      <td>62.0</td>\n",
       "      <td>54.0</td>\n",
       "      <td>1012.5</td>\n",
       "      <td>1008.4</td>\n",
       "      <td>4.0</td>\n",
       "      <td>5.0</td>\n",
       "      <td>30.5</td>\n",
       "      <td>32.6</td>\n",
       "      <td>No</td>\n",
       "      <td>Yes</td>\n",
       "    </tr>\n",
       "    <tr>\n",
       "      <th>139217</th>\n",
       "      <td>2008-10-15</td>\n",
       "      <td>Darwin</td>\n",
       "      <td>22.1</td>\n",
       "      <td>34.3</td>\n",
       "      <td>57.6</td>\n",
       "      <td>12.4</td>\n",
       "      <td>5.5</td>\n",
       "      <td>E</td>\n",
       "      <td>102.0</td>\n",
       "      <td>S</td>\n",
       "      <td>...</td>\n",
       "      <td>83.0</td>\n",
       "      <td>48.0</td>\n",
       "      <td>1013.0</td>\n",
       "      <td>1008.2</td>\n",
       "      <td>7.0</td>\n",
       "      <td>6.0</td>\n",
       "      <td>26.9</td>\n",
       "      <td>34.0</td>\n",
       "      <td>Yes</td>\n",
       "      <td>Yes</td>\n",
       "    </tr>\n",
       "    <tr>\n",
       "      <th>139219</th>\n",
       "      <td>2008-10-17</td>\n",
       "      <td>Darwin</td>\n",
       "      <td>24.5</td>\n",
       "      <td>30.1</td>\n",
       "      <td>0.4</td>\n",
       "      <td>5.6</td>\n",
       "      <td>1.6</td>\n",
       "      <td>SE</td>\n",
       "      <td>54.0</td>\n",
       "      <td>ENE</td>\n",
       "      <td>...</td>\n",
       "      <td>85.0</td>\n",
       "      <td>75.0</td>\n",
       "      <td>1010.2</td>\n",
       "      <td>1007.5</td>\n",
       "      <td>6.0</td>\n",
       "      <td>7.0</td>\n",
       "      <td>27.6</td>\n",
       "      <td>28.9</td>\n",
       "      <td>No</td>\n",
       "      <td>Yes</td>\n",
       "    </tr>\n",
       "  </tbody>\n",
       "</table>\n",
       "<p>5 rows × 23 columns</p>\n",
       "</div>"
      ],
      "text/plain": [
       "              Date Location  MinTemp  MaxTemp  Rainfall  Evaporation  \\\n",
       "139195  2008-09-23   Darwin     23.8     32.5       0.0          7.2   \n",
       "139209  2008-10-07   Darwin     26.7     34.0       0.0          7.6   \n",
       "139216  2008-10-14   Darwin     26.5     34.8       0.0          7.6   \n",
       "139217  2008-10-15   Darwin     22.1     34.3      57.6         12.4   \n",
       "139219  2008-10-17   Darwin     24.5     30.1       0.4          5.6   \n",
       "\n",
       "        Sunshine WindGustDir  WindGustSpeed WindDir9am  ... Humidity9am  \\\n",
       "139195       8.3         ESE           39.0         NW  ...        64.0   \n",
       "139209      10.3           S           57.0          E  ...        61.0   \n",
       "139216       8.1           N           41.0        NNW  ...        62.0   \n",
       "139217       5.5           E          102.0          S  ...        83.0   \n",
       "139219       1.6          SE           54.0        ENE  ...        85.0   \n",
       "\n",
       "        Humidity3pm  Pressure9am  Pressure3pm  Cloud9am  Cloud3pm  Temp9am  \\\n",
       "139195         55.0       1014.3       1010.3       4.0       2.0     29.1   \n",
       "139209         55.0       1013.3       1008.8       3.0       3.0     30.5   \n",
       "139216         54.0       1012.5       1008.4       4.0       5.0     30.5   \n",
       "139217         48.0       1013.0       1008.2       7.0       6.0     26.9   \n",
       "139219         75.0       1010.2       1007.5       6.0       7.0     27.6   \n",
       "\n",
       "        Temp3pm  RainToday  RainTomorrow  \n",
       "139195     30.8         No           Yes  \n",
       "139209     32.6         No           Yes  \n",
       "139216     32.6         No           Yes  \n",
       "139217     34.0        Yes           Yes  \n",
       "139219     28.9         No           Yes  \n",
       "\n",
       "[5 rows x 23 columns]"
      ]
     },
     "execution_count": 15,
     "metadata": {},
     "output_type": "execute_result"
    }
   ],
   "source": [
    "# Menampilkan Location Darwin dengan prediksi hujan Yes\n",
    "data[(data['Location'] == 'Darwin') & (data['RainTomorrow'] == 'Yes')].head(5)"
   ]
  },
  {
   "cell_type": "markdown",
   "metadata": {},
   "source": [
    "## 2. Data Grouping"
   ]
  },
  {
   "cell_type": "code",
   "execution_count": 16,
   "metadata": {},
   "outputs": [
    {
     "name": "stdout",
     "output_type": "stream",
     "text": [
      "['Cobar' 'CoffsHarbour' 'Moree' 'NorfolkIsland' 'Sydney' 'SydneyAirport'\n",
      " 'WaggaWagga' 'Williamtown' 'Canberra' 'Sale' 'MelbourneAirport'\n",
      " 'Melbourne' 'Mildura' 'Portland' 'Watsonia' 'Brisbane' 'Cairns'\n",
      " 'Townsville' 'MountGambier' 'Nuriootpa' 'Woomera' 'PerthAirport' 'Perth'\n",
      " 'Hobart' 'AliceSprings' 'Darwin']\n"
     ]
    }
   ],
   "source": [
    "lc = data['Location'].unique()\n",
    "print(lc)"
   ]
  },
  {
   "cell_type": "code",
   "execution_count": 17,
   "metadata": {},
   "outputs": [
    {
     "name": "stdout",
     "output_type": "stream",
     "text": [
      "['SW' 'SSE' 'NNW' 'WSW' 'WNW' 'S' 'ENE' 'N' 'SE' 'NNE' 'NW' 'E' 'ESE' 'NE'\n",
      " 'SSW' 'W']\n"
     ]
    }
   ],
   "source": [
    "ct = data['WindDir3pm'].unique()\n",
    "print(ct)"
   ]
  },
  {
   "cell_type": "code",
   "execution_count": 18,
   "metadata": {},
   "outputs": [
    {
     "name": "stdout",
     "output_type": "stream",
     "text": [
      "Location      WindDir3pm\n",
      "AliceSprings  E             213.2\n",
      "              ENE           189.0\n",
      "              ESE           352.8\n",
      "              N              81.0\n",
      "              NE             83.4\n",
      "                            ...  \n",
      "Woomera       SSW           112.9\n",
      "              SW            152.8\n",
      "              W             125.2\n",
      "              WNW            40.8\n",
      "              WSW            61.4\n",
      "Name: Rainfall, Length: 416, dtype: float64\n"
     ]
    }
   ],
   "source": [
    "# Group Data mencari nilai wilayah dengan curah hujan tertinggi pada WindDir3pm\n",
    "# Grouping dengan fitur Rainfall\n",
    "gp1 = data.groupby(['Location', 'WindDir3pm'])['Rainfall'].sum()\n",
    "print(gp1)"
   ]
  },
  {
   "cell_type": "code",
   "execution_count": 19,
   "metadata": {},
   "outputs": [
    {
     "data": {
      "text/html": [
       "<div>\n",
       "<style scoped>\n",
       "    .dataframe tbody tr th:only-of-type {\n",
       "        vertical-align: middle;\n",
       "    }\n",
       "\n",
       "    .dataframe tbody tr th {\n",
       "        vertical-align: top;\n",
       "    }\n",
       "\n",
       "    .dataframe thead th {\n",
       "        text-align: right;\n",
       "    }\n",
       "</style>\n",
       "<table border=\"1\" class=\"dataframe\">\n",
       "  <thead>\n",
       "    <tr style=\"text-align: right;\">\n",
       "      <th></th>\n",
       "      <th>MaxTemp</th>\n",
       "    </tr>\n",
       "    <tr>\n",
       "      <th>Location</th>\n",
       "      <th></th>\n",
       "    </tr>\n",
       "  </thead>\n",
       "  <tbody>\n",
       "    <tr>\n",
       "      <th>AliceSprings</th>\n",
       "      <td>44.9</td>\n",
       "    </tr>\n",
       "    <tr>\n",
       "      <th>Brisbane</th>\n",
       "      <td>38.9</td>\n",
       "    </tr>\n",
       "    <tr>\n",
       "      <th>Cairns</th>\n",
       "      <td>38.6</td>\n",
       "    </tr>\n",
       "    <tr>\n",
       "      <th>Canberra</th>\n",
       "      <td>40.0</td>\n",
       "    </tr>\n",
       "    <tr>\n",
       "      <th>Cobar</th>\n",
       "      <td>45.4</td>\n",
       "    </tr>\n",
       "    <tr>\n",
       "      <th>CoffsHarbour</th>\n",
       "      <td>37.7</td>\n",
       "    </tr>\n",
       "    <tr>\n",
       "      <th>Darwin</th>\n",
       "      <td>38.0</td>\n",
       "    </tr>\n",
       "    <tr>\n",
       "      <th>Hobart</th>\n",
       "      <td>38.3</td>\n",
       "    </tr>\n",
       "    <tr>\n",
       "      <th>Melbourne</th>\n",
       "      <td>46.4</td>\n",
       "    </tr>\n",
       "    <tr>\n",
       "      <th>MelbourneAirport</th>\n",
       "      <td>46.8</td>\n",
       "    </tr>\n",
       "    <tr>\n",
       "      <th>Mildura</th>\n",
       "      <td>46.7</td>\n",
       "    </tr>\n",
       "    <tr>\n",
       "      <th>Moree</th>\n",
       "      <td>47.3</td>\n",
       "    </tr>\n",
       "    <tr>\n",
       "      <th>MountGambier</th>\n",
       "      <td>44.9</td>\n",
       "    </tr>\n",
       "    <tr>\n",
       "      <th>NorfolkIsland</th>\n",
       "      <td>28.4</td>\n",
       "    </tr>\n",
       "    <tr>\n",
       "      <th>Nuriootpa</th>\n",
       "      <td>44.1</td>\n",
       "    </tr>\n",
       "    <tr>\n",
       "      <th>Perth</th>\n",
       "      <td>44.4</td>\n",
       "    </tr>\n",
       "    <tr>\n",
       "      <th>PerthAirport</th>\n",
       "      <td>44.2</td>\n",
       "    </tr>\n",
       "    <tr>\n",
       "      <th>Portland</th>\n",
       "      <td>39.4</td>\n",
       "    </tr>\n",
       "    <tr>\n",
       "      <th>Sale</th>\n",
       "      <td>44.4</td>\n",
       "    </tr>\n",
       "    <tr>\n",
       "      <th>Sydney</th>\n",
       "      <td>45.8</td>\n",
       "    </tr>\n",
       "    <tr>\n",
       "      <th>SydneyAirport</th>\n",
       "      <td>46.4</td>\n",
       "    </tr>\n",
       "    <tr>\n",
       "      <th>Townsville</th>\n",
       "      <td>38.3</td>\n",
       "    </tr>\n",
       "    <tr>\n",
       "      <th>WaggaWagga</th>\n",
       "      <td>45.2</td>\n",
       "    </tr>\n",
       "    <tr>\n",
       "      <th>Watsonia</th>\n",
       "      <td>46.7</td>\n",
       "    </tr>\n",
       "    <tr>\n",
       "      <th>Williamtown</th>\n",
       "      <td>42.9</td>\n",
       "    </tr>\n",
       "    <tr>\n",
       "      <th>Woomera</th>\n",
       "      <td>48.1</td>\n",
       "    </tr>\n",
       "  </tbody>\n",
       "</table>\n",
       "</div>"
      ],
      "text/plain": [
       "                  MaxTemp\n",
       "Location                 \n",
       "AliceSprings         44.9\n",
       "Brisbane             38.9\n",
       "Cairns               38.6\n",
       "Canberra             40.0\n",
       "Cobar                45.4\n",
       "CoffsHarbour         37.7\n",
       "Darwin               38.0\n",
       "Hobart               38.3\n",
       "Melbourne            46.4\n",
       "MelbourneAirport     46.8\n",
       "Mildura              46.7\n",
       "Moree                47.3\n",
       "MountGambier         44.9\n",
       "NorfolkIsland        28.4\n",
       "Nuriootpa            44.1\n",
       "Perth                44.4\n",
       "PerthAirport         44.2\n",
       "Portland             39.4\n",
       "Sale                 44.4\n",
       "Sydney               45.8\n",
       "SydneyAirport        46.4\n",
       "Townsville           38.3\n",
       "WaggaWagga           45.2\n",
       "Watsonia             46.7\n",
       "Williamtown          42.9\n",
       "Woomera              48.1"
      ]
     },
     "execution_count": 19,
     "metadata": {},
     "output_type": "execute_result"
    }
   ],
   "source": [
    "#Membandingkan wilayah dengan Temperature paling tinggi adalah Woomera\n",
    "data.groupby(by=[\"Location\"]).agg({'MaxTemp' : 'max'})"
   ]
  },
  {
   "cell_type": "code",
   "execution_count": 20,
   "metadata": {},
   "outputs": [
    {
     "data": {
      "text/html": [
       "<div>\n",
       "<style scoped>\n",
       "    .dataframe tbody tr th:only-of-type {\n",
       "        vertical-align: middle;\n",
       "    }\n",
       "\n",
       "    .dataframe tbody tr th {\n",
       "        vertical-align: top;\n",
       "    }\n",
       "\n",
       "    .dataframe thead th {\n",
       "        text-align: right;\n",
       "    }\n",
       "</style>\n",
       "<table border=\"1\" class=\"dataframe\">\n",
       "  <thead>\n",
       "    <tr style=\"text-align: right;\">\n",
       "      <th></th>\n",
       "      <th>MinTemp</th>\n",
       "    </tr>\n",
       "    <tr>\n",
       "      <th>Location</th>\n",
       "      <th></th>\n",
       "    </tr>\n",
       "  </thead>\n",
       "  <tbody>\n",
       "    <tr>\n",
       "      <th>AliceSprings</th>\n",
       "      <td>-5.2</td>\n",
       "    </tr>\n",
       "    <tr>\n",
       "      <th>Brisbane</th>\n",
       "      <td>2.6</td>\n",
       "    </tr>\n",
       "    <tr>\n",
       "      <th>Cairns</th>\n",
       "      <td>9.3</td>\n",
       "    </tr>\n",
       "    <tr>\n",
       "      <th>Canberra</th>\n",
       "      <td>-6.7</td>\n",
       "    </tr>\n",
       "    <tr>\n",
       "      <th>Cobar</th>\n",
       "      <td>0.0</td>\n",
       "    </tr>\n",
       "    <tr>\n",
       "      <th>CoffsHarbour</th>\n",
       "      <td>0.6</td>\n",
       "    </tr>\n",
       "    <tr>\n",
       "      <th>Darwin</th>\n",
       "      <td>12.5</td>\n",
       "    </tr>\n",
       "    <tr>\n",
       "      <th>Hobart</th>\n",
       "      <td>0.3</td>\n",
       "    </tr>\n",
       "    <tr>\n",
       "      <th>Melbourne</th>\n",
       "      <td>2.3</td>\n",
       "    </tr>\n",
       "    <tr>\n",
       "      <th>MelbourneAirport</th>\n",
       "      <td>-1.0</td>\n",
       "    </tr>\n",
       "    <tr>\n",
       "      <th>Mildura</th>\n",
       "      <td>-2.6</td>\n",
       "    </tr>\n",
       "    <tr>\n",
       "      <th>Moree</th>\n",
       "      <td>-3.3</td>\n",
       "    </tr>\n",
       "    <tr>\n",
       "      <th>MountGambier</th>\n",
       "      <td>-1.7</td>\n",
       "    </tr>\n",
       "    <tr>\n",
       "      <th>NorfolkIsland</th>\n",
       "      <td>9.4</td>\n",
       "    </tr>\n",
       "    <tr>\n",
       "      <th>Nuriootpa</th>\n",
       "      <td>-3.5</td>\n",
       "    </tr>\n",
       "    <tr>\n",
       "      <th>Perth</th>\n",
       "      <td>-0.6</td>\n",
       "    </tr>\n",
       "    <tr>\n",
       "      <th>PerthAirport</th>\n",
       "      <td>-1.0</td>\n",
       "    </tr>\n",
       "    <tr>\n",
       "      <th>Portland</th>\n",
       "      <td>-1.5</td>\n",
       "    </tr>\n",
       "    <tr>\n",
       "      <th>Sale</th>\n",
       "      <td>-3.9</td>\n",
       "    </tr>\n",
       "    <tr>\n",
       "      <th>Sydney</th>\n",
       "      <td>5.0</td>\n",
       "    </tr>\n",
       "    <tr>\n",
       "      <th>SydneyAirport</th>\n",
       "      <td>3.2</td>\n",
       "    </tr>\n",
       "    <tr>\n",
       "      <th>Townsville</th>\n",
       "      <td>6.4</td>\n",
       "    </tr>\n",
       "    <tr>\n",
       "      <th>WaggaWagga</th>\n",
       "      <td>-4.7</td>\n",
       "    </tr>\n",
       "    <tr>\n",
       "      <th>Watsonia</th>\n",
       "      <td>-2.1</td>\n",
       "    </tr>\n",
       "    <tr>\n",
       "      <th>Williamtown</th>\n",
       "      <td>-1.8</td>\n",
       "    </tr>\n",
       "    <tr>\n",
       "      <th>Woomera</th>\n",
       "      <td>0.7</td>\n",
       "    </tr>\n",
       "  </tbody>\n",
       "</table>\n",
       "</div>"
      ],
      "text/plain": [
       "                  MinTemp\n",
       "Location                 \n",
       "AliceSprings         -5.2\n",
       "Brisbane              2.6\n",
       "Cairns                9.3\n",
       "Canberra             -6.7\n",
       "Cobar                 0.0\n",
       "CoffsHarbour          0.6\n",
       "Darwin               12.5\n",
       "Hobart                0.3\n",
       "Melbourne             2.3\n",
       "MelbourneAirport     -1.0\n",
       "Mildura              -2.6\n",
       "Moree                -3.3\n",
       "MountGambier         -1.7\n",
       "NorfolkIsland         9.4\n",
       "Nuriootpa            -3.5\n",
       "Perth                -0.6\n",
       "PerthAirport         -1.0\n",
       "Portland             -1.5\n",
       "Sale                 -3.9\n",
       "Sydney                5.0\n",
       "SydneyAirport         3.2\n",
       "Townsville            6.4\n",
       "WaggaWagga           -4.7\n",
       "Watsonia             -2.1\n",
       "Williamtown          -1.8\n",
       "Woomera               0.7"
      ]
     },
     "execution_count": 20,
     "metadata": {},
     "output_type": "execute_result"
    }
   ],
   "source": [
    "#Melihat wilayah dengan Temperature paling rendah adalah Canberra\n",
    "data.groupby(by=[\"Location\"]).agg({'MinTemp' : 'min'})"
   ]
  },
  {
   "cell_type": "markdown",
   "metadata": {},
   "source": [
    "## 3. Variability"
   ]
  },
  {
   "cell_type": "code",
   "execution_count": 21,
   "metadata": {},
   "outputs": [
    {
     "name": "stdout",
     "output_type": "stream",
     "text": [
      "Variance dari Rainfall:  49.207730890421665\n",
      "Standard Deviasi dari Rainfall:  7.014822227998487\n",
      "Skewness:  7.502521474120267\n",
      "Range:  206.2\n"
     ]
    }
   ],
   "source": [
    "# Variance\n",
    "var = np.var(data['Rainfall'], ddof=1)\n",
    "print(\"Variance dari Rainfall: \", var)\n",
    "# Standard Deviation\n",
    "std = np.std(data['Rainfall'], ddof=1)\n",
    "print(\"Standard Deviasi dari Rainfall: \", std)\n",
    "# Skewness\n",
    "s = data['Rainfall']\n",
    "s.skew()\n",
    "print(\"Skewness: \", s.skew())\n",
    "# Ranges\n",
    "range = np.ptp(s)\n",
    "print(\"Range: \", range)"
   ]
  },
  {
   "cell_type": "markdown",
   "metadata": {},
   "source": [
    "## 4. Central Tendency"
   ]
  },
  {
   "cell_type": "code",
   "execution_count": 22,
   "metadata": {},
   "outputs": [
    {
     "name": "stdout",
     "output_type": "stream",
     "text": [
      "<class 'pandas.core.frame.DataFrame'>\n",
      "Int64Index: 56420 entries, 6049 to 142302\n",
      "Data columns (total 23 columns):\n",
      " #   Column         Non-Null Count  Dtype  \n",
      "---  ------         --------------  -----  \n",
      " 0   Date           56420 non-null  object \n",
      " 1   Location       56420 non-null  object \n",
      " 2   MinTemp        56420 non-null  float64\n",
      " 3   MaxTemp        56420 non-null  float64\n",
      " 4   Rainfall       56420 non-null  float64\n",
      " 5   Evaporation    56420 non-null  float64\n",
      " 6   Sunshine       56420 non-null  float64\n",
      " 7   WindGustDir    56420 non-null  object \n",
      " 8   WindGustSpeed  56420 non-null  float64\n",
      " 9   WindDir9am     56420 non-null  object \n",
      " 10  WindDir3pm     56420 non-null  object \n",
      " 11  WindSpeed9am   56420 non-null  float64\n",
      " 12  WindSpeed3pm   56420 non-null  float64\n",
      " 13  Humidity9am    56420 non-null  float64\n",
      " 14  Humidity3pm    56420 non-null  float64\n",
      " 15  Pressure9am    56420 non-null  float64\n",
      " 16  Pressure3pm    56420 non-null  float64\n",
      " 17  Cloud9am       56420 non-null  float64\n",
      " 18  Cloud3pm       56420 non-null  float64\n",
      " 19  Temp9am        56420 non-null  float64\n",
      " 20  Temp3pm        56420 non-null  float64\n",
      " 21  RainToday      56420 non-null  object \n",
      " 22  RainTomorrow   56420 non-null  object \n",
      "dtypes: float64(16), object(7)\n",
      "memory usage: 10.3+ MB\n"
     ]
    }
   ],
   "source": [
    "data.info()"
   ]
  },
  {
   "cell_type": "code",
   "execution_count": 23,
   "metadata": {},
   "outputs": [
    {
     "data": {
      "text/plain": [
       "2.1303970223325064"
      ]
     },
     "execution_count": 23,
     "metadata": {},
     "output_type": "execute_result"
    }
   ],
   "source": [
    "# Mencari Nilai Rata-rata dari Rainfall\n",
    "mean = data['Rainfall'].mean()\n",
    "mean"
   ]
  },
  {
   "cell_type": "code",
   "execution_count": 24,
   "metadata": {},
   "outputs": [
    {
     "name": "stdout",
     "output_type": "stream",
     "text": [
      "5.0\n"
     ]
    }
   ],
   "source": [
    "# Mencari Nilai Tengah dari Evaporation\n",
    "median = data['Evaporation'].median()\n",
    "print(median)"
   ]
  },
  {
   "cell_type": "code",
   "execution_count": 25,
   "metadata": {},
   "outputs": [
    {
     "name": "stdout",
     "output_type": "stream",
     "text": [
      "0    13.0\n",
      "Name: MinTemp, dtype: float64\n"
     ]
    }
   ],
   "source": [
    "# Mencari nilai modus dari MinTemp\n",
    "mode = data['MinTemp'].mode()\n",
    "print(mode)"
   ]
  },
  {
   "cell_type": "code",
   "execution_count": 26,
   "metadata": {},
   "outputs": [
    {
     "name": "stdout",
     "output_type": "stream",
     "text": [
      "0    19.6\n",
      "Name: MaxTemp, dtype: float64\n"
     ]
    }
   ],
   "source": [
    "# Mencari nilai modus dari MaxTemp\n",
    "mode = data['MaxTemp'].mode()\n",
    "print(mode)"
   ]
  },
  {
   "cell_type": "markdown",
   "metadata": {},
   "source": [
    "## 5. Visualiasasi"
   ]
  },
  {
   "cell_type": "code",
   "execution_count": 27,
   "metadata": {},
   "outputs": [
    {
     "data": {
      "text/plain": [
       "([<matplotlib.patches.Wedge at 0x2f487212b80>,\n",
       "  <matplotlib.patches.Wedge at 0x2f48720c8e0>,\n",
       "  <matplotlib.patches.Wedge at 0x2f487223820>,\n",
       "  <matplotlib.patches.Wedge at 0x2f487223f40>,\n",
       "  <matplotlib.patches.Wedge at 0x2f48722d6a0>,\n",
       "  <matplotlib.patches.Wedge at 0x2f48722ddc0>,\n",
       "  <matplotlib.patches.Wedge at 0x2f487239520>,\n",
       "  <matplotlib.patches.Wedge at 0x2f487239c40>,\n",
       "  <matplotlib.patches.Wedge at 0x2f4872483a0>,\n",
       "  <matplotlib.patches.Wedge at 0x2f487248ac0>,\n",
       "  <matplotlib.patches.Wedge at 0x2f487212c10>,\n",
       "  <matplotlib.patches.Wedge at 0x2f487253910>,\n",
       "  <matplotlib.patches.Wedge at 0x2f48725f070>,\n",
       "  <matplotlib.patches.Wedge at 0x2f48725f790>,\n",
       "  <matplotlib.patches.Wedge at 0x2f48725feb0>,\n",
       "  <matplotlib.patches.Wedge at 0x2f48726c610>,\n",
       "  <matplotlib.patches.Wedge at 0x2f48726cd30>,\n",
       "  <matplotlib.patches.Wedge at 0x2f487278490>,\n",
       "  <matplotlib.patches.Wedge at 0x2f487278bb0>,\n",
       "  <matplotlib.patches.Wedge at 0x2f487285310>,\n",
       "  <matplotlib.patches.Wedge at 0x2f487285a30>,\n",
       "  <matplotlib.patches.Wedge at 0x2f487292190>,\n",
       "  <matplotlib.patches.Wedge at 0x2f4872928b0>,\n",
       "  <matplotlib.patches.Wedge at 0x2f487292fd0>,\n",
       "  <matplotlib.patches.Wedge at 0x2f48729e730>,\n",
       "  <matplotlib.patches.Wedge at 0x2f48729ee50>],\n",
       " [Text(1.0840502345854015, 0.18664160547781458, 'Darwin'),\n",
       "  Text(0.9603211809483616, 0.5364543125205951, 'Perth'),\n",
       "  Text(0.7323187825534312, 0.8207979049190248, 'Brisbane'),\n",
       "  Text(0.42934063637292125, 1.0127520021994008, 'MelbourneAirport'),\n",
       "  Text(0.08316000028342221, 1.096852047613014, 'PerthAirport'),\n",
       "  Text(-0.26823984258511285, 1.0667930384333757, 'SydneyAirport'),\n",
       "  Text(-0.5825879229742879, 0.9330548279734184, 'Watsonia'),\n",
       "  Text(-0.8297472718943132, 0.7221630458448736, 'Mildura'),\n",
       "  Text(-0.9977939597480596, 0.46304126586114097, 'MountGambier'),\n",
       "  Text(-1.0859446119337646, 0.17528348413933825, 'NorfolkIsland'),\n",
       "  Text(-1.0929525208053563, -0.12431728465992722, 'Cairns'),\n",
       "  Text(-1.019874199054776, -0.4121366497927351, 'Townsville'),\n",
       "  Text(-0.8735145489107956, -0.668559894729836, 'WaggaWagga'),\n",
       "  Text(-0.673752435738959, -0.8695157591072286, 'AliceSprings'),\n",
       "  Text(-0.45218010124482866, -1.0027627615932977, 'Nuriootpa'),\n",
       "  Text(-0.22268818268202792, -1.0772232699370061, 'Hobart'),\n",
       "  Text(0.011698580856939532, -1.0999377906072387, 'Moree'),\n",
       "  Text(0.24310067151308612, -1.072801036310968, 'Melbourne'),\n",
       "  Text(0.46081767559307885, -0.9988228420801119, 'Portland'),\n",
       "  Text(0.6503239437563338, -0.8871745984738342, 'Woomera'),\n",
       "  Text(0.8066624764314645, -0.7478607150515776, 'Sydney'),\n",
       "  Text(0.9319501615346258, -0.584353400277251, 'Sale'),\n",
       "  Text(1.0174937012017484, -0.41797914782291146, 'CoffsHarbour'),\n",
       "  Text(1.0668228881694577, -0.26812110188826427, 'Williamtown'),\n",
       "  Text(1.0921559716926204, -0.1311309784000265, 'Canberra'),\n",
       "  Text(1.0995137630395708, -0.03270297978109897, 'Cobar')],\n",
       " [Text(0.5913001279556734, 0.10180451207880795, '5%'),\n",
       "  Text(0.5238115532445609, 0.2926114431930518, '5%'),\n",
       "  Text(0.39944660866550785, 0.44770794813764986, '5%'),\n",
       "  Text(0.23418580165795702, 0.5524101830178549, '5%'),\n",
       "  Text(0.045360000154593925, 0.5982829350616439, '5%'),\n",
       "  Text(-0.14631264141006153, 0.5818871118727503, '5%'),\n",
       "  Text(-0.3177752307132479, 0.50893899707641, '5%'),\n",
       "  Text(-0.45258942103326166, 0.3939071159153855, '5%'),\n",
       "  Text(-0.5442512507716688, 0.252567963196986, '4%'),\n",
       "  Text(-0.5923334246911443, 0.09560917316691177, '4%'),\n",
       "  Text(-0.5961559204392851, -0.06780942799632393, '4%'),\n",
       "  Text(-0.5562950176662413, -0.22480180897785548, '4%'),\n",
       "  Text(-0.47646248122407026, -0.3646690334890014, '4%'),\n",
       "  Text(-0.3675013285848867, -0.47428132314939736, '4%'),\n",
       "  Text(-0.24664369158808833, -0.5469615063236168, '4%'),\n",
       "  Text(-0.12146628146292429, -0.5875763290565488, '3%'),\n",
       "  Text(0.006381044103785198, -0.5999660676039483, '3%'),\n",
       "  Text(0.13260036627986513, -0.5851642016241643, '3%'),\n",
       "  Text(0.251355095778043, -0.5448124593164245, '3%'),\n",
       "  Text(0.3547221511398184, -0.48391341734936405, '3%'),\n",
       "  Text(0.43999771441716246, -0.40792402639176956, '3%'),\n",
       "  Text(0.5083364517461595, -0.31873821833304594, '3%'),\n",
       "  Text(0.5549965642918627, -0.2279886260852244, '2%'),\n",
       "  Text(0.5819033935469768, -0.14624787375723503, '2%'),\n",
       "  Text(0.5957214391050656, -0.07152598821819627, '2%'),\n",
       "  Text(0.5997347798397658, -0.017837988971508525, '1%')])"
      ]
     },
     "execution_count": 27,
     "metadata": {},
     "output_type": "execute_result"
    },
    {
     "data": {
      "image/png": "[encoded data removed]",
      "text/plain": [
       "<Figure size 504x504 with 1 Axes>"
      ]
     },
     "metadata": {},
     "output_type": "display_data"
    }
   ],
   "source": [
    "# Menampilkan wilayah dengan curah hujan tinggi dengan pie chart\n",
    "plt.figure(figsize=(7,7))\n",
    "plt.title('Location')\n",
    "plt.pie(\n",
    "    data['Location'].value_counts(),\n",
    "    labels=list(data['Location'].value_counts().index),\n",
    "    autopct ='%1.f%%'\n",
    ")"
   ]
  },
  {
   "cell_type": "code",
   "execution_count": 28,
   "metadata": {},
   "outputs": [
    {
     "data": {
      "text/plain": [
       "<AxesSubplot:title={'center':'WindGustSpeed'}, xlabel='WindGustSpeed', ylabel='Count'>"
      ]
     },
     "execution_count": 28,
     "metadata": {},
     "output_type": "execute_result"
    },
    {
     "data": {
      "image/png": "[encoded data removed]",
      "text/plain": [
       "<Figure size 1080x360 with 1 Axes>"
      ]
     },
     "metadata": {
      "needs_background": "light"
     },
     "output_type": "display_data"
    }
   ],
   "source": [
    "#show distribution of WindGustSpeed\n",
    "bins = np.linspace(data['WindGustSpeed'].min(),data['WindGustSpeed'].max(),100)\n",
    "count=data['WindGustSpeed'].value_counts()\n",
    "plt.figure(figsize=(15,5))\n",
    "plt.title('WindGustSpeed',fontsize=30)\n",
    "sns.histplot(x='WindGustSpeed',data=data,bins=bins, color='purple')"
   ]
  },
  {
   "cell_type": "code",
   "execution_count": 29,
   "metadata": {},
   "outputs": [
    {
     "data": {
      "image/png": "[encoded data removed]",
      "text/plain": [
       "<Figure size 576x288 with 1 Axes>"
      ]
     },
     "metadata": {
      "needs_background": "light"
     },
     "output_type": "display_data"
    }
   ],
   "source": [
    "# visualisasi Wilayah dengan curah hujan tinggi\n",
    "plt.figure(figsize=[8,4])\n",
    "plt.bar(data['Location'].value_counts().index, data['Location'].value_counts())\n",
    "plt.xticks(rotation=90)\n",
    "plt.title('Wilayah dengan curah hujan tinggi')\n",
    "plt.show()"
   ]
  },
  {
   "cell_type": "markdown",
   "metadata": {},
   "source": [
    "# Preprocessing"
   ]
  },
  {
   "cell_type": "markdown",
   "metadata": {},
   "source": [
    "Sebelumnya kita akan menambahkan 1 kolom baru yaitu AvgTemp, yang merupakan gabungan dari MinTemp dan MaxTemp. Kemudian dihapus kolom MinTemp dan MaxTemp. Dengan adanya kolom AvgTemp ini, maka kita dapat melihat secara sekaligus MinTemp dan MaxTemp dalam 1 kolom saja sehingga representasi dataset terlihat lebih efektif. Setelah itu, dilakukan proses feature selection, disini kita akan mencoba untuk membuat corr map untuk melihat korelasi antar setiap atribut dengan atribut prediktor yaitu RainTommorow. "
   ]
  },
  {
   "cell_type": "code",
   "execution_count": 63,
   "metadata": {},
   "outputs": [
    {
     "data": {
      "text/plain": [
       "(56420, 17)"
      ]
     },
     "execution_count": 63,
     "metadata": {},
     "output_type": "execute_result"
    }
   ],
   "source": [
    "# As we can see the first four columns have less than 60% data, we can ignore these four columns\n",
    "# We don't need the location column because \n",
    "# we are going to find if it will rain in Australia(not location specific)\n",
    "# We are going to drop the date column too.\n",
    "# We need to remove RISK_MM because we want to predict 'RainTomorrow' and RISK_MM can leak some info to our model\n",
    "df = data.drop(columns=['Sunshine','Evaporation','Cloud3pm','Cloud9am','Location','Date'],axis=1)\n",
    "df.shape"
   ]
  },
  {
   "cell_type": "code",
   "execution_count": 64,
   "metadata": {},
   "outputs": [
    {
     "data": {
      "text/plain": [
       "(56420, 17)"
      ]
     },
     "execution_count": 64,
     "metadata": {},
     "output_type": "execute_result"
    }
   ],
   "source": [
    "#Let us get rid of all null values in df\n",
    "df = df.dropna(how='any')\n",
    "df.shape"
   ]
  },
  {
   "cell_type": "code",
   "execution_count": 65,
   "metadata": {},
   "outputs": [
    {
     "name": "stdout",
     "output_type": "stream",
     "text": [
      "         MinTemp   MaxTemp  Rainfall  WindGustSpeed  WindSpeed9am  \\\n",
      "6049    0.691208  1.575298  0.303702       0.534126      1.162355   \n",
      "6050    0.769131  0.671504  0.303702       0.290764      0.400721   \n",
      "6052    0.924976  1.919600  0.303702       0.384146      1.723325   \n",
      "6053    1.314588  2.034368  0.303702       0.740704      1.162355   \n",
      "6054    1.673032  2.407362  0.303702       0.440744      0.160248   \n",
      "...          ...       ...       ...            ...           ...   \n",
      "142298  0.909391  1.317071  0.303702       0.440744      0.801645   \n",
      "142299  1.205497  1.202303  0.303702       0.290764      0.320699   \n",
      "142300  1.127574  1.230995  0.303702       0.590724      0.160248   \n",
      "142301  0.940560  1.087536  0.303702       1.115654      0.801645   \n",
      "142302  1.049652  1.073190  0.303702       0.815694      0.080225   \n",
      "\n",
      "        WindSpeed3pm  Humidity9am  Humidity3pm  Pressure9am  Pressure3pm  \\\n",
      "6049        0.025055     2.477924     1.812261     1.583303     1.513002   \n",
      "6050        0.092452     1.937767     2.059824     0.628068     0.392322   \n",
      "6052        0.562482     1.289578     1.366647     0.714907     0.814396   \n",
      "6053        1.620048     1.559657     1.366647     0.657014     0.828951   \n",
      "6054        0.797496     2.531940     1.713236     0.946479     1.076373   \n",
      "...              ...          ...          ...          ...          ...   \n",
      "142298      0.025055     0.155248     0.871521     0.483335     0.625191   \n",
      "142299      1.032511     0.533358     1.069571     0.382022     0.523311   \n",
      "142300      1.032511     1.073515     1.317135     0.280710     0.435985   \n",
      "142301      0.327467     0.209264     0.415808     0.338603     0.596082   \n",
      "142302      1.502541     0.384909     0.871521     0.483335     0.741625   \n",
      "\n",
      "         Temp9am   Temp3pm  \n",
      "6049    1.278186  1.563621  \n",
      "6050    0.318980  0.627467  \n",
      "6052    1.597921  1.783032  \n",
      "6053    1.658823  1.885424  \n",
      "6054    2.343970  2.177972  \n",
      "...          ...       ...  \n",
      "142298  0.958451  1.402719  \n",
      "142299  1.004127  1.358837  \n",
      "142300  1.004127  1.373465  \n",
      "142301  1.004127  0.949270  \n",
      "142302  1.095480  1.212563  \n",
      "\n",
      "[56420 rows x 12 columns]\n",
      "(53617, 17)\n"
     ]
    }
   ],
   "source": [
    "#its time to remove the outliers in our data - we are using Z-score to detect and remove the outliers.\n",
    "z = np.abs(stats.zscore(df._get_numeric_data()))\n",
    "print(z)\n",
    "df= df[(z < 3).all(axis=1)]\n",
    "print(df.shape)"
   ]
  },
  {
   "cell_type": "code",
   "execution_count": 66,
   "metadata": {},
   "outputs": [
    {
     "data": {
      "image/png": "[encoded data removed]",
      "text/plain": [
       "<Figure size 864x720 with 2 Axes>"
      ]
     },
     "metadata": {
      "needs_background": "light"
     },
     "output_type": "display_data"
    }
   ],
   "source": [
    "plt.figure(figsize=(12, 10))\n",
    "sns.heatmap(df.corr(), cmap='coolwarm',annot=True)\n",
    "plt.show()"
   ]
  },
  {
   "cell_type": "code",
   "execution_count": 67,
   "metadata": {},
   "outputs": [
    {
     "name": "stdout",
     "output_type": "stream",
     "text": [
      "['E' 'ENE' 'ESE' 'N' 'NE' 'NNE' 'NNW' 'NW' 'S' 'SE' 'SSE' 'SSW' 'SW' 'W'\n",
      " 'WNW' 'WSW']\n",
      "['E' 'ENE' 'ESE' 'N' 'NE' 'NNE' 'NNW' 'NW' 'S' 'SE' 'SSE' 'SSW' 'SW' 'W'\n",
      " 'WNW' 'WSW']\n",
      "['E' 'ENE' 'ESE' 'N' 'NE' 'NNE' 'NNW' 'NW' 'S' 'SE' 'SSE' 'SSW' 'SW' 'W'\n",
      " 'WNW' 'WSW']\n"
     ]
    },
    {
     "data": {
      "text/html": [
       "<div>\n",
       "<style scoped>\n",
       "    .dataframe tbody tr th:only-of-type {\n",
       "        vertical-align: middle;\n",
       "    }\n",
       "\n",
       "    .dataframe tbody tr th {\n",
       "        vertical-align: top;\n",
       "    }\n",
       "\n",
       "    .dataframe thead th {\n",
       "        text-align: right;\n",
       "    }\n",
       "</style>\n",
       "<table border=\"1\" class=\"dataframe\">\n",
       "  <thead>\n",
       "    <tr style=\"text-align: right;\">\n",
       "      <th></th>\n",
       "      <th>MinTemp</th>\n",
       "      <th>MaxTemp</th>\n",
       "      <th>Rainfall</th>\n",
       "      <th>WindGustSpeed</th>\n",
       "      <th>WindSpeed9am</th>\n",
       "      <th>WindSpeed3pm</th>\n",
       "      <th>Humidity9am</th>\n",
       "      <th>Humidity3pm</th>\n",
       "      <th>Pressure9am</th>\n",
       "      <th>Pressure3pm</th>\n",
       "      <th>...</th>\n",
       "      <th>WindDir9am_NNW</th>\n",
       "      <th>WindDir9am_NW</th>\n",
       "      <th>WindDir9am_S</th>\n",
       "      <th>WindDir9am_SE</th>\n",
       "      <th>WindDir9am_SSE</th>\n",
       "      <th>WindDir9am_SSW</th>\n",
       "      <th>WindDir9am_SW</th>\n",
       "      <th>WindDir9am_W</th>\n",
       "      <th>WindDir9am_WNW</th>\n",
       "      <th>WindDir9am_WSW</th>\n",
       "    </tr>\n",
       "  </thead>\n",
       "  <tbody>\n",
       "    <tr>\n",
       "      <th>6054</th>\n",
       "      <td>24.2</td>\n",
       "      <td>41.0</td>\n",
       "      <td>0.0</td>\n",
       "      <td>35.0</td>\n",
       "      <td>17.0</td>\n",
       "      <td>13.0</td>\n",
       "      <td>19.0</td>\n",
       "      <td>15.0</td>\n",
       "      <td>1010.7</td>\n",
       "      <td>1007.4</td>\n",
       "      <td>...</td>\n",
       "      <td>0</td>\n",
       "      <td>1</td>\n",
       "      <td>0</td>\n",
       "      <td>0</td>\n",
       "      <td>0</td>\n",
       "      <td>0</td>\n",
       "      <td>0</td>\n",
       "      <td>0</td>\n",
       "      <td>0</td>\n",
       "      <td>0</td>\n",
       "    </tr>\n",
       "    <tr>\n",
       "      <th>6055</th>\n",
       "      <td>27.1</td>\n",
       "      <td>36.1</td>\n",
       "      <td>0.0</td>\n",
       "      <td>43.0</td>\n",
       "      <td>7.0</td>\n",
       "      <td>20.0</td>\n",
       "      <td>26.0</td>\n",
       "      <td>19.0</td>\n",
       "      <td>1007.7</td>\n",
       "      <td>1007.4</td>\n",
       "      <td>...</td>\n",
       "      <td>0</td>\n",
       "      <td>0</td>\n",
       "      <td>0</td>\n",
       "      <td>0</td>\n",
       "      <td>0</td>\n",
       "      <td>0</td>\n",
       "      <td>0</td>\n",
       "      <td>0</td>\n",
       "      <td>0</td>\n",
       "      <td>0</td>\n",
       "    </tr>\n",
       "    <tr>\n",
       "      <th>6056</th>\n",
       "      <td>23.3</td>\n",
       "      <td>34.0</td>\n",
       "      <td>0.0</td>\n",
       "      <td>41.0</td>\n",
       "      <td>17.0</td>\n",
       "      <td>19.0</td>\n",
       "      <td>33.0</td>\n",
       "      <td>15.0</td>\n",
       "      <td>1011.3</td>\n",
       "      <td>1009.9</td>\n",
       "      <td>...</td>\n",
       "      <td>0</td>\n",
       "      <td>0</td>\n",
       "      <td>1</td>\n",
       "      <td>0</td>\n",
       "      <td>0</td>\n",
       "      <td>0</td>\n",
       "      <td>0</td>\n",
       "      <td>0</td>\n",
       "      <td>0</td>\n",
       "      <td>0</td>\n",
       "    </tr>\n",
       "    <tr>\n",
       "      <th>6057</th>\n",
       "      <td>16.1</td>\n",
       "      <td>34.2</td>\n",
       "      <td>0.0</td>\n",
       "      <td>37.0</td>\n",
       "      <td>15.0</td>\n",
       "      <td>6.0</td>\n",
       "      <td>25.0</td>\n",
       "      <td>9.0</td>\n",
       "      <td>1013.3</td>\n",
       "      <td>1009.2</td>\n",
       "      <td>...</td>\n",
       "      <td>0</td>\n",
       "      <td>0</td>\n",
       "      <td>0</td>\n",
       "      <td>1</td>\n",
       "      <td>0</td>\n",
       "      <td>0</td>\n",
       "      <td>0</td>\n",
       "      <td>0</td>\n",
       "      <td>0</td>\n",
       "      <td>0</td>\n",
       "    </tr>\n",
       "    <tr>\n",
       "      <th>6058</th>\n",
       "      <td>19.0</td>\n",
       "      <td>35.5</td>\n",
       "      <td>0.0</td>\n",
       "      <td>48.0</td>\n",
       "      <td>30.0</td>\n",
       "      <td>9.0</td>\n",
       "      <td>46.0</td>\n",
       "      <td>28.0</td>\n",
       "      <td>1008.3</td>\n",
       "      <td>1004.0</td>\n",
       "      <td>...</td>\n",
       "      <td>0</td>\n",
       "      <td>0</td>\n",
       "      <td>0</td>\n",
       "      <td>0</td>\n",
       "      <td>0</td>\n",
       "      <td>0</td>\n",
       "      <td>0</td>\n",
       "      <td>0</td>\n",
       "      <td>0</td>\n",
       "      <td>0</td>\n",
       "    </tr>\n",
       "  </tbody>\n",
       "</table>\n",
       "<p>5 rows × 62 columns</p>\n",
       "</div>"
      ],
      "text/plain": [
       "      MinTemp  MaxTemp  Rainfall  WindGustSpeed  WindSpeed9am  WindSpeed3pm  \\\n",
       "6054     24.2     41.0       0.0           35.0          17.0          13.0   \n",
       "6055     27.1     36.1       0.0           43.0           7.0          20.0   \n",
       "6056     23.3     34.0       0.0           41.0          17.0          19.0   \n",
       "6057     16.1     34.2       0.0           37.0          15.0           6.0   \n",
       "6058     19.0     35.5       0.0           48.0          30.0           9.0   \n",
       "\n",
       "      Humidity9am  Humidity3pm  Pressure9am  Pressure3pm  ...  WindDir9am_NNW  \\\n",
       "6054         19.0         15.0       1010.7       1007.4  ...               0   \n",
       "6055         26.0         19.0       1007.7       1007.4  ...               0   \n",
       "6056         33.0         15.0       1011.3       1009.9  ...               0   \n",
       "6057         25.0          9.0       1013.3       1009.2  ...               0   \n",
       "6058         46.0         28.0       1008.3       1004.0  ...               0   \n",
       "\n",
       "      WindDir9am_NW  WindDir9am_S  WindDir9am_SE  WindDir9am_SSE  \\\n",
       "6054              1             0              0               0   \n",
       "6055              0             0              0               0   \n",
       "6056              0             1              0               0   \n",
       "6057              0             0              1               0   \n",
       "6058              0             0              0               0   \n",
       "\n",
       "      WindDir9am_SSW  WindDir9am_SW  WindDir9am_W  WindDir9am_WNW  \\\n",
       "6054               0              0             0               0   \n",
       "6055               0              0             0               0   \n",
       "6056               0              0             0               0   \n",
       "6057               0              0             0               0   \n",
       "6058               0              0             0               0   \n",
       "\n",
       "      WindDir9am_WSW  \n",
       "6054               0  \n",
       "6055               0  \n",
       "6056               0  \n",
       "6057               0  \n",
       "6058               0  \n",
       "\n",
       "[5 rows x 62 columns]"
      ]
     },
     "execution_count": 67,
     "metadata": {},
     "output_type": "execute_result"
    }
   ],
   "source": [
    "# Mengubah yes/no ke 1/0 pada RaiToday and RainTomorrow\n",
    "df['RainToday'].replace({'No': 0, 'Yes': 1},inplace = True)\n",
    "df['RainTomorrow'].replace({'No': 0, 'Yes': 1},inplace = True)\n",
    "\n",
    "# Melihat unique values dan mengkonversi ke integer menggunakan pd.get_dummies()\n",
    "categorical_columns = ['WindGustDir', 'WindDir3pm', 'WindDir9am']\n",
    "for col in categorical_columns:\n",
    "    print(np.unique(df[col]))\n",
    "# transform the categorical columns\n",
    "df = pd.get_dummies(df, columns=categorical_columns)\n",
    "df.iloc[4:9]"
   ]
  },
  {
   "cell_type": "code",
   "execution_count": 68,
   "metadata": {},
   "outputs": [
    {
     "data": {
      "text/html": [
       "<div>\n",
       "<style scoped>\n",
       "    .dataframe tbody tr th:only-of-type {\n",
       "        vertical-align: middle;\n",
       "    }\n",
       "\n",
       "    .dataframe tbody tr th {\n",
       "        vertical-align: top;\n",
       "    }\n",
       "\n",
       "    .dataframe thead th {\n",
       "        text-align: right;\n",
       "    }\n",
       "</style>\n",
       "<table border=\"1\" class=\"dataframe\">\n",
       "  <thead>\n",
       "    <tr style=\"text-align: right;\">\n",
       "      <th></th>\n",
       "      <th>MinTemp</th>\n",
       "      <th>MaxTemp</th>\n",
       "      <th>Rainfall</th>\n",
       "      <th>WindGustSpeed</th>\n",
       "      <th>WindSpeed9am</th>\n",
       "      <th>WindSpeed3pm</th>\n",
       "      <th>Humidity9am</th>\n",
       "      <th>Humidity3pm</th>\n",
       "      <th>Pressure9am</th>\n",
       "      <th>Pressure3pm</th>\n",
       "      <th>...</th>\n",
       "      <th>WindDir9am_NNW</th>\n",
       "      <th>WindDir9am_NW</th>\n",
       "      <th>WindDir9am_S</th>\n",
       "      <th>WindDir9am_SE</th>\n",
       "      <th>WindDir9am_SSE</th>\n",
       "      <th>WindDir9am_SSW</th>\n",
       "      <th>WindDir9am_SW</th>\n",
       "      <th>WindDir9am_W</th>\n",
       "      <th>WindDir9am_WNW</th>\n",
       "      <th>WindDir9am_WSW</th>\n",
       "    </tr>\n",
       "  </thead>\n",
       "  <tbody>\n",
       "    <tr>\n",
       "      <th>6054</th>\n",
       "      <td>0.824022</td>\n",
       "      <td>0.902200</td>\n",
       "      <td>0.0</td>\n",
       "      <td>0.366197</td>\n",
       "      <td>0.405405</td>\n",
       "      <td>0.261905</td>\n",
       "      <td>0.089888</td>\n",
       "      <td>0.15</td>\n",
       "      <td>0.342233</td>\n",
       "      <td>0.320388</td>\n",
       "      <td>...</td>\n",
       "      <td>0.0</td>\n",
       "      <td>1.0</td>\n",
       "      <td>0.0</td>\n",
       "      <td>0.0</td>\n",
       "      <td>0.0</td>\n",
       "      <td>0.0</td>\n",
       "      <td>0.0</td>\n",
       "      <td>0.0</td>\n",
       "      <td>0.0</td>\n",
       "      <td>0.0</td>\n",
       "    </tr>\n",
       "    <tr>\n",
       "      <th>6055</th>\n",
       "      <td>0.905028</td>\n",
       "      <td>0.782396</td>\n",
       "      <td>0.0</td>\n",
       "      <td>0.478873</td>\n",
       "      <td>0.135135</td>\n",
       "      <td>0.428571</td>\n",
       "      <td>0.168539</td>\n",
       "      <td>0.19</td>\n",
       "      <td>0.269417</td>\n",
       "      <td>0.320388</td>\n",
       "      <td>...</td>\n",
       "      <td>0.0</td>\n",
       "      <td>0.0</td>\n",
       "      <td>0.0</td>\n",
       "      <td>0.0</td>\n",
       "      <td>0.0</td>\n",
       "      <td>0.0</td>\n",
       "      <td>0.0</td>\n",
       "      <td>0.0</td>\n",
       "      <td>0.0</td>\n",
       "      <td>0.0</td>\n",
       "    </tr>\n",
       "    <tr>\n",
       "      <th>6056</th>\n",
       "      <td>0.798883</td>\n",
       "      <td>0.731051</td>\n",
       "      <td>0.0</td>\n",
       "      <td>0.450704</td>\n",
       "      <td>0.405405</td>\n",
       "      <td>0.404762</td>\n",
       "      <td>0.247191</td>\n",
       "      <td>0.15</td>\n",
       "      <td>0.356796</td>\n",
       "      <td>0.381068</td>\n",
       "      <td>...</td>\n",
       "      <td>0.0</td>\n",
       "      <td>0.0</td>\n",
       "      <td>1.0</td>\n",
       "      <td>0.0</td>\n",
       "      <td>0.0</td>\n",
       "      <td>0.0</td>\n",
       "      <td>0.0</td>\n",
       "      <td>0.0</td>\n",
       "      <td>0.0</td>\n",
       "      <td>0.0</td>\n",
       "    </tr>\n",
       "    <tr>\n",
       "      <th>6057</th>\n",
       "      <td>0.597765</td>\n",
       "      <td>0.735941</td>\n",
       "      <td>0.0</td>\n",
       "      <td>0.394366</td>\n",
       "      <td>0.351351</td>\n",
       "      <td>0.095238</td>\n",
       "      <td>0.157303</td>\n",
       "      <td>0.09</td>\n",
       "      <td>0.405340</td>\n",
       "      <td>0.364078</td>\n",
       "      <td>...</td>\n",
       "      <td>0.0</td>\n",
       "      <td>0.0</td>\n",
       "      <td>0.0</td>\n",
       "      <td>1.0</td>\n",
       "      <td>0.0</td>\n",
       "      <td>0.0</td>\n",
       "      <td>0.0</td>\n",
       "      <td>0.0</td>\n",
       "      <td>0.0</td>\n",
       "      <td>0.0</td>\n",
       "    </tr>\n",
       "    <tr>\n",
       "      <th>6058</th>\n",
       "      <td>0.678771</td>\n",
       "      <td>0.767726</td>\n",
       "      <td>0.0</td>\n",
       "      <td>0.549296</td>\n",
       "      <td>0.756757</td>\n",
       "      <td>0.166667</td>\n",
       "      <td>0.393258</td>\n",
       "      <td>0.28</td>\n",
       "      <td>0.283981</td>\n",
       "      <td>0.237864</td>\n",
       "      <td>...</td>\n",
       "      <td>0.0</td>\n",
       "      <td>0.0</td>\n",
       "      <td>0.0</td>\n",
       "      <td>0.0</td>\n",
       "      <td>0.0</td>\n",
       "      <td>0.0</td>\n",
       "      <td>0.0</td>\n",
       "      <td>0.0</td>\n",
       "      <td>0.0</td>\n",
       "      <td>0.0</td>\n",
       "    </tr>\n",
       "    <tr>\n",
       "      <th>6059</th>\n",
       "      <td>0.698324</td>\n",
       "      <td>0.767726</td>\n",
       "      <td>0.0</td>\n",
       "      <td>0.450704</td>\n",
       "      <td>0.351351</td>\n",
       "      <td>0.357143</td>\n",
       "      <td>0.561798</td>\n",
       "      <td>0.14</td>\n",
       "      <td>0.274272</td>\n",
       "      <td>0.281553</td>\n",
       "      <td>...</td>\n",
       "      <td>0.0</td>\n",
       "      <td>0.0</td>\n",
       "      <td>0.0</td>\n",
       "      <td>0.0</td>\n",
       "      <td>0.0</td>\n",
       "      <td>0.0</td>\n",
       "      <td>0.0</td>\n",
       "      <td>0.0</td>\n",
       "      <td>0.0</td>\n",
       "      <td>0.0</td>\n",
       "    </tr>\n",
       "  </tbody>\n",
       "</table>\n",
       "<p>6 rows × 62 columns</p>\n",
       "</div>"
      ],
      "text/plain": [
       "       MinTemp   MaxTemp  Rainfall  WindGustSpeed  WindSpeed9am  WindSpeed3pm  \\\n",
       "6054  0.824022  0.902200       0.0       0.366197      0.405405      0.261905   \n",
       "6055  0.905028  0.782396       0.0       0.478873      0.135135      0.428571   \n",
       "6056  0.798883  0.731051       0.0       0.450704      0.405405      0.404762   \n",
       "6057  0.597765  0.735941       0.0       0.394366      0.351351      0.095238   \n",
       "6058  0.678771  0.767726       0.0       0.549296      0.756757      0.166667   \n",
       "6059  0.698324  0.767726       0.0       0.450704      0.351351      0.357143   \n",
       "\n",
       "      Humidity9am  Humidity3pm  Pressure9am  Pressure3pm  ...  WindDir9am_NNW  \\\n",
       "6054     0.089888         0.15     0.342233     0.320388  ...             0.0   \n",
       "6055     0.168539         0.19     0.269417     0.320388  ...             0.0   \n",
       "6056     0.247191         0.15     0.356796     0.381068  ...             0.0   \n",
       "6057     0.157303         0.09     0.405340     0.364078  ...             0.0   \n",
       "6058     0.393258         0.28     0.283981     0.237864  ...             0.0   \n",
       "6059     0.561798         0.14     0.274272     0.281553  ...             0.0   \n",
       "\n",
       "      WindDir9am_NW  WindDir9am_S  WindDir9am_SE  WindDir9am_SSE  \\\n",
       "6054            1.0           0.0            0.0             0.0   \n",
       "6055            0.0           0.0            0.0             0.0   \n",
       "6056            0.0           1.0            0.0             0.0   \n",
       "6057            0.0           0.0            1.0             0.0   \n",
       "6058            0.0           0.0            0.0             0.0   \n",
       "6059            0.0           0.0            0.0             0.0   \n",
       "\n",
       "      WindDir9am_SSW  WindDir9am_SW  WindDir9am_W  WindDir9am_WNW  \\\n",
       "6054             0.0            0.0           0.0             0.0   \n",
       "6055             0.0            0.0           0.0             0.0   \n",
       "6056             0.0            0.0           0.0             0.0   \n",
       "6057             0.0            0.0           0.0             0.0   \n",
       "6058             0.0            0.0           0.0             0.0   \n",
       "6059             0.0            0.0           0.0             0.0   \n",
       "\n",
       "      WindDir9am_WSW  \n",
       "6054             0.0  \n",
       "6055             0.0  \n",
       "6056             0.0  \n",
       "6057             0.0  \n",
       "6058             0.0  \n",
       "6059             0.0  \n",
       "\n",
       "[6 rows x 62 columns]"
      ]
     },
     "execution_count": 68,
     "metadata": {},
     "output_type": "execute_result"
    }
   ],
   "source": [
    "#next step is to standardize our data - using MinMaxScaler\n",
    "scaler = preprocessing.MinMaxScaler()\n",
    "scaler.fit(df)\n",
    "df = pd.DataFrame(scaler.transform(df), index=df.index, columns=df.columns)\n",
    "df.iloc[4:10]"
   ]
  },
  {
   "cell_type": "code",
   "execution_count": 69,
   "metadata": {},
   "outputs": [
    {
     "name": "stdout",
     "output_type": "stream",
     "text": [
      "Index(['Rainfall', 'Humidity3pm', 'RainToday'], dtype='object')\n"
     ]
    }
   ],
   "source": [
    "# Setelah berhasil melakukan pre-processing, selanjutnya memilih fitur important pada RainTomorrow\n",
    "# Menggunakan SelectKBest untuk mengambil top fitur \n",
    "X = df.loc[:,df.columns!='RainTomorrow']\n",
    "y = df[['RainTomorrow']]\n",
    "selector = SelectKBest(chi2, k=3)\n",
    "selector.fit(X, y)\n",
    "X_new = selector.transform(X)\n",
    "print(X.columns[selector.get_support(indices=True)]) #top 3 columns"
   ]
  },
  {
   "cell_type": "code",
   "execution_count": 70,
   "metadata": {},
   "outputs": [],
   "source": [
    "#Let's get hold of the important features as assign them as X\n",
    "df = df[['Humidity3pm','Rainfall','RainToday','RainTomorrow']]\n",
    "X = df[['Humidity3pm']] # let's use only one feature Humidity3pm\n",
    "y = df[['RainTomorrow']]"
   ]
  },
  {
   "cell_type": "markdown",
   "metadata": {},
   "source": [
    "# Modeling"
   ]
  },
  {
   "cell_type": "code",
   "execution_count": 88,
   "metadata": {},
   "outputs": [],
   "source": [
    "from sklearn.metrics import roc_auc_score"
   ]
  },
  {
   "cell_type": "markdown",
   "metadata": {},
   "source": [
    "## 1. Logistic Regression"
   ]
  },
  {
   "cell_type": "code",
   "execution_count": 71,
   "metadata": {},
   "outputs": [],
   "source": [
    "t0=time.time()\n",
    "X_train,X_test,y_train,y_test = train_test_split(X,y,test_size=0.25)"
   ]
  },
  {
   "cell_type": "code",
   "execution_count": 72,
   "metadata": {},
   "outputs": [
    {
     "name": "stderr",
     "output_type": "stream",
     "text": [
      "c:\\Users\\ASUS\\AppData\\Local\\Programs\\Python\\Python39\\lib\\site-packages\\sklearn\\utils\\validation.py:63: DataConversionWarning: A column-vector y was passed when a 1d array was expected. Please change the shape of y to (n_samples, ), for example using ravel().\n",
      "  return f(*args, **kwargs)\n"
     ]
    },
    {
     "data": {
      "text/plain": [
       "LogisticRegression(random_state=0)"
      ]
     },
     "execution_count": 72,
     "metadata": {},
     "output_type": "execute_result"
    }
   ],
   "source": [
    "LR = LogisticRegression(random_state=0)\n",
    "LR.fit(X_train,y_train)"
   ]
  },
  {
   "cell_type": "code",
   "execution_count": 89,
   "metadata": {},
   "outputs": [],
   "source": [
    "y_pred = LR.predict(X_test)\n",
    "score = accuracy_score(y_test,y_pred)\n",
    "roc_auc = roc_auc_score(y_test,y_pred)"
   ]
  },
  {
   "cell_type": "code",
   "execution_count": 90,
   "metadata": {},
   "outputs": [
    {
     "name": "stdout",
     "output_type": "stream",
     "text": [
      "roc_auc_score:  0.6515223870274712\n",
      "Accuracy : 0.8359567325624767\n",
      "Time taken : 115.9026665687561\n"
     ]
    }
   ],
   "source": [
    "print(\"roc_auc_score: \", roc_auc)\n",
    "print('Accuracy :',score)\n",
    "print('Time taken :' , time.time()-t0)"
   ]
  },
  {
   "cell_type": "markdown",
   "metadata": {},
   "source": [
    "## 2. RandomForestClassifier"
   ]
  },
  {
   "cell_type": "code",
   "execution_count": 75,
   "metadata": {},
   "outputs": [],
   "source": [
    "t0=time.time()\n",
    "X_train,X_test,y_train,y_test = train_test_split(X,y,test_size=0.25)"
   ]
  },
  {
   "cell_type": "code",
   "execution_count": 76,
   "metadata": {},
   "outputs": [
    {
     "name": "stderr",
     "output_type": "stream",
     "text": [
      "C:\\Users\\ASUS\\AppData\\Local\\Temp\\ipykernel_3288\\3072541246.py:2: DataConversionWarning: A column-vector y was passed when a 1d array was expected. Please change the shape of y to (n_samples,), for example using ravel().\n",
      "  RF.fit(X_train,y_train)\n"
     ]
    },
    {
     "data": {
      "text/plain": [
       "RandomForestClassifier(max_depth=4, random_state=0)"
      ]
     },
     "execution_count": 76,
     "metadata": {},
     "output_type": "execute_result"
    }
   ],
   "source": [
    "RF = RandomForestClassifier(n_estimators=100, max_depth=4,random_state=0)\n",
    "RF.fit(X_train,y_train)"
   ]
  },
  {
   "cell_type": "code",
   "execution_count": 91,
   "metadata": {},
   "outputs": [],
   "source": [
    "y_pred1 = RF.predict(X_test)\n",
    "score = accuracy_score(y_test,y_pred1)\n",
    "roc_auc = roc_auc_score(y_test,y_pred1)"
   ]
  },
  {
   "cell_type": "code",
   "execution_count": 92,
   "metadata": {},
   "outputs": [
    {
     "name": "stdout",
     "output_type": "stream",
     "text": [
      "Accuracy : 0.8359567325624767\n",
      "Time taken : 155.65259170532227\n",
      "roc_auc_score:  0.6515223870274712\n"
     ]
    }
   ],
   "source": [
    "print('Accuracy :',score)\n",
    "print('Time taken :' , time.time()-t0)\n",
    "print(\"roc_auc_score: \", roc_auc)"
   ]
  },
  {
   "cell_type": "markdown",
   "metadata": {},
   "source": [
    "## 3. DecisionTree"
   ]
  },
  {
   "cell_type": "code",
   "execution_count": 79,
   "metadata": {},
   "outputs": [],
   "source": [
    "t0=time.time()\n",
    "X_train,X_test,y_train,y_test = train_test_split(X,y,test_size=0.25)"
   ]
  },
  {
   "cell_type": "code",
   "execution_count": 80,
   "metadata": {},
   "outputs": [
    {
     "data": {
      "text/plain": [
       "DecisionTreeClassifier(random_state=0)"
      ]
     },
     "execution_count": 80,
     "metadata": {},
     "output_type": "execute_result"
    }
   ],
   "source": [
    "DT = DecisionTreeClassifier(random_state=0)\n",
    "DT.fit(X_train,y_train)"
   ]
  },
  {
   "cell_type": "code",
   "execution_count": 93,
   "metadata": {},
   "outputs": [],
   "source": [
    "y_pred = DT.predict(X_test)\n",
    "score = accuracy_score(y_test,y_pred)\n",
    "roc_auc = roc_auc_score(y_test,y_pred)"
   ]
  },
  {
   "cell_type": "code",
   "execution_count": 94,
   "metadata": {},
   "outputs": [
    {
     "name": "stdout",
     "output_type": "stream",
     "text": [
      "Accuracy : 0.8359567325624767\n",
      "Time taken : 192.24051475524902\n",
      "roc_auc_score:  0.647310267923346\n"
     ]
    }
   ],
   "source": [
    "print('Accuracy :',score)\n",
    "print('Time taken :' , time.time()-t0)\n",
    "print(\"roc_auc_score: \", roc_auc)"
   ]
  },
  {
   "cell_type": "markdown",
   "metadata": {},
   "source": [
    "## 4. SupportVectorMachine(SVM)"
   ]
  },
  {
   "cell_type": "code",
   "execution_count": 83,
   "metadata": {},
   "outputs": [],
   "source": [
    "t0=time.time()\n",
    "X_train,X_test,y_train,y_test = train_test_split(X,y,test_size=0.25)"
   ]
  },
  {
   "cell_type": "code",
   "execution_count": 84,
   "metadata": {},
   "outputs": [
    {
     "name": "stderr",
     "output_type": "stream",
     "text": [
      "c:\\Users\\ASUS\\AppData\\Local\\Programs\\Python\\Python39\\lib\\site-packages\\sklearn\\utils\\validation.py:63: DataConversionWarning: A column-vector y was passed when a 1d array was expected. Please change the shape of y to (n_samples, ), for example using ravel().\n",
      "  return f(*args, **kwargs)\n"
     ]
    },
    {
     "data": {
      "text/plain": [
       "SVC(kernel='linear')"
      ]
     },
     "execution_count": 84,
     "metadata": {},
     "output_type": "execute_result"
    }
   ],
   "source": [
    "SVM = svm.SVC(kernel='linear')\n",
    "SVM.fit(X_train,y_train)"
   ]
  },
  {
   "cell_type": "code",
   "execution_count": 95,
   "metadata": {},
   "outputs": [],
   "source": [
    "y_pred = SVM.predict(X_test)\n",
    "score = accuracy_score(y_test,y_pred)\n",
    "roc_auc = roc_auc_score(y_test,y_pred)"
   ]
  },
  {
   "cell_type": "code",
   "execution_count": 96,
   "metadata": {},
   "outputs": [
    {
     "name": "stdout",
     "output_type": "stream",
     "text": [
      "Accuracy : 0.8337187616560985\n",
      "Time taken : 210.94625401496887\n",
      "roc_auc_score:  0.6356292004577194\n"
     ]
    }
   ],
   "source": [
    "print('Accuracy :',score)\n",
    "print('Time taken :' , time.time()-t0)\n",
    "print(\"roc_auc_score: \", roc_auc)"
   ]
  },
  {
   "cell_type": "markdown",
   "metadata": {},
   "source": [
    "# Kesimpulan"
   ]
  },
  {
   "cell_type": "code",
   "execution_count": 98,
   "metadata": {},
   "outputs": [
    {
     "name": "stdout",
     "output_type": "stream",
     "text": [
      "LogisticRegression Test Score    :  0.8359567325624767\n",
      "RandomForest Test Score          :  0.8359567325624767\n",
      "DecisionTree Test Score          :  0.8359567325624767\n",
      "SupportVectorMachine Test Score  :  0.8337187616560985\n"
     ]
    }
   ],
   "source": [
    "# Menampilkan hasil test score dari LogisticRegression, RandomForest, DecisionTree, dan SVM \n",
    "print('LogisticRegression Test Score    : ' , LR.score(X_test, y_test))\n",
    "print('RandomForest Test Score          : ' , RF.score(X_test, y_test))\n",
    "print('DecisionTree Test Score          : ' , DT.score(X_test, y_test))\n",
    "print('SupportVectorMachine Test Score  : ' , SVM.score(X_test, y_test))\n"
   ]
  },
  {
   "cell_type": "markdown",
   "metadata": {},
   "source": [
    "Setelah melakukanBerdasarkan model diatas dapat ditarik kesimpulan bahwa 4 model memiliki nilai prediksi tidak jauh berbeda. Namun, nilai prediksi dari model LogisticRegression lebih baik dari 3 model lainnya. Jadi untuk"
   ]
  },
  {
   "cell_type": "code",
   "execution_count": null,
   "metadata": {},
   "outputs": [],
   "source": []
  }
 ],
 "metadata": {
  "kernelspec": {
   "display_name": "Python 3.9.9 64-bit",
   "language": "python",
   "name": "python3"
  },
  "language_info": {
   "codemirror_mode": {
    "name": "ipython",
    "version": 3
   },
   "file_extension": ".py",
   "mimetype": "text/x-python",
   "name": "python",
   "nbconvert_exporter": "python",
   "pygments_lexer": "ipython3",
   "version": "3.9.9"
  },
  "orig_nbformat": 4,
  "vscode": {
   "interpreter": {
    "hash": "14958d3aee5f1cad06795f787e54b96185c25fb40dfec723a5be941f3a531b8c"
   }
  }
 },
 "nbformat": 4,
 "nbformat_minor": 2
}
